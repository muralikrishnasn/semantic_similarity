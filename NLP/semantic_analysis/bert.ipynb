{
 "metadata": {
  "language_info": {
   "codemirror_mode": {
    "name": "ipython",
    "version": 3
   },
   "file_extension": ".py",
   "mimetype": "text/x-python",
   "name": "python",
   "nbconvert_exporter": "python",
   "pygments_lexer": "ipython3",
   "version": 3
  },
  "orig_nbformat": 2,
  "kernelspec": {
   "name": "python_defaultSpec_1595880263776",
   "display_name": "Python 3.7.7 64-bit ('anaconda3': virtualenv)"
  }
 },
 "nbformat": 4,
 "nbformat_minor": 2,
 "cells": [
  {
   "cell_type": "markdown",
   "metadata": {},
   "source": [
    "* https://medium.com/analytics-vidhya/semantic-similarity-in-sentences-and-bert-e8d34f5a4677\n",
    "* https://towardsdatascience.com/word-embedding-using-bert-in-python-dd5a86c00342\n",
    "* https://github.com/huggingface/transformers"
   ]
  },
  {
   "cell_type": "code",
   "execution_count": 4,
   "metadata": {
    "tags": []
   },
   "outputs": [
    {
     "output_type": "stream",
     "name": "stdout",
     "text": "Collecting transformers\n  Downloading transformers-3.0.2-py3-none-any.whl (769 kB)\n\u001b[K     |████████████████████████████████| 769 kB 4.3 MB/s \n\u001b[?25hCollecting tokenizers==0.8.1.rc1\n  Downloading tokenizers-0.8.1rc1-cp37-cp37m-macosx_10_10_x86_64.whl (2.1 MB)\n\u001b[K     |████████████████████████████████| 2.1 MB 11.6 MB/s \n\u001b[?25hCollecting sacremoses\n  Downloading sacremoses-0.0.43.tar.gz (883 kB)\n\u001b[K     |████████████████████████████████| 883 kB 21.3 MB/s \n\u001b[?25hRequirement already satisfied: filelock in /Users/emilnuutinen/opt/anaconda3/lib/python3.7/site-packages (from transformers) (3.0.12)\nRequirement already satisfied: requests in /Users/emilnuutinen/opt/anaconda3/lib/python3.7/site-packages (from transformers) (2.23.0)\nRequirement already satisfied: packaging in /Users/emilnuutinen/opt/anaconda3/lib/python3.7/site-packages (from transformers) (20.3)\nCollecting regex!=2019.12.17\n  Downloading regex-2020.7.14.tar.gz (690 kB)\n\u001b[K     |████████████████████████████████| 690 kB 28.2 MB/s \n\u001b[?25hCollecting sentencepiece!=0.1.92\n  Downloading sentencepiece-0.1.91-cp37-cp37m-macosx_10_6_x86_64.whl (1.1 MB)\n\u001b[K     |████████████████████████████████| 1.1 MB 11.4 MB/s \n\u001b[?25hRequirement already satisfied: tqdm>=4.27 in /Users/emilnuutinen/opt/anaconda3/lib/python3.7/site-packages (from transformers) (4.46.0)\nRequirement already satisfied: numpy in /Users/emilnuutinen/opt/anaconda3/lib/python3.7/site-packages (from transformers) (1.18.1)\nRequirement already satisfied: six in /Users/emilnuutinen/opt/anaconda3/lib/python3.7/site-packages (from sacremoses->transformers) (1.14.0)\nRequirement already satisfied: click in /Users/emilnuutinen/opt/anaconda3/lib/python3.7/site-packages (from sacremoses->transformers) (7.1.1)\nRequirement already satisfied: joblib in /Users/emilnuutinen/opt/anaconda3/lib/python3.7/site-packages (from sacremoses->transformers) (0.14.1)\nRequirement already satisfied: urllib3!=1.25.0,!=1.25.1,<1.26,>=1.21.1 in /Users/emilnuutinen/opt/anaconda3/lib/python3.7/site-packages (from requests->transformers) (1.25.8)\nRequirement already satisfied: chardet<4,>=3.0.2 in /Users/emilnuutinen/opt/anaconda3/lib/python3.7/site-packages (from requests->transformers) (3.0.4)\nRequirement already satisfied: certifi>=2017.4.17 in /Users/emilnuutinen/opt/anaconda3/lib/python3.7/site-packages (from requests->transformers) (2020.4.5.1)\nRequirement already satisfied: idna<3,>=2.5 in /Users/emilnuutinen/opt/anaconda3/lib/python3.7/site-packages (from requests->transformers) (2.9)\nRequirement already satisfied: pyparsing>=2.0.2 in /Users/emilnuutinen/opt/anaconda3/lib/python3.7/site-packages (from packaging->transformers) (2.4.7)\nBuilding wheels for collected packages: sacremoses, regex\n  Building wheel for sacremoses (setup.py) ... \u001b[?25ldone\n\u001b[?25h  Created wheel for sacremoses: filename=sacremoses-0.0.43-py3-none-any.whl size=893259 sha256=ffe3fd2d34fc3979a3a31236203ed8e00d12b125413c301562c43a71bbd48c17\n  Stored in directory: /Users/emilnuutinen/Library/Caches/pip/wheels/69/09/d1/bf058f7d6fa0ecba2ce7c66be3b8d012beb4bf61a6e0c101c0\n  Building wheel for regex (setup.py) ... \u001b[?25ldone\n\u001b[?25h  Created wheel for regex: filename=regex-2020.7.14-cp37-cp37m-macosx_10_9_x86_64.whl size=286564 sha256=52cfc195ab6f4561d963d4d8bcb2d19e951538559155306184b1d009cf0e9cb5\n  Stored in directory: /Users/emilnuutinen/Library/Caches/pip/wheels/5b/68/ce/2508b5a5afc13bd96566c62d3ffebea7b401477c2ead3e8cc0\nSuccessfully built sacremoses regex\nInstalling collected packages: tokenizers, regex, sacremoses, sentencepiece, transformers\nSuccessfully installed regex-2020.7.14 sacremoses-0.0.43 sentencepiece-0.1.91 tokenizers-0.8.1rc1 transformers-3.0.2\n"
    }
   ],
   "source": [
    "!pip install transformers # https://github.com/huggingface/transformers"
   ]
  },
  {
   "cell_type": "code",
   "execution_count": 5,
   "metadata": {},
   "outputs": [],
   "source": [
    "import pandas as pd\n",
    "import numpy as np\n",
    "import torch\n",
    "from transformers import *"
   ]
  },
  {
   "cell_type": "code",
   "execution_count": 6,
   "metadata": {},
   "outputs": [],
   "source": [
    "# Remove \"warn_bad_lines=False\" to print the lines that have errors.\n",
    "train_df = pd.read_csv('stsbenchmark/sts-train.csv', sep='\\t', engine='python', header=None, encoding='utf-8', error_bad_lines=False, warn_bad_lines=False)\n",
    "\n",
    "test_df = pd.read_csv('stsbenchmark/sts-test.csv', sep='\\t', engine='python', header=None, encoding='utf-8', error_bad_lines=False, warn_bad_lines=False)\n",
    "\n",
    "dev_df = pd.read_csv('stsbenchmark/sts-dev.csv', sep='\\t', engine='python', header=None, encoding='utf-8', error_bad_lines=False, warn_bad_lines=False)"
   ]
  },
  {
   "cell_type": "code",
   "execution_count": null,
   "metadata": {},
   "outputs": [],
   "source": []
  }
 ]
}