{
 "metadata": {
  "language_info": {
   "codemirror_mode": {
    "name": "ipython",
    "version": 3
   },
   "file_extension": ".py",
   "mimetype": "text/x-python",
   "name": "python",
   "nbconvert_exporter": "python",
   "pygments_lexer": "ipython3",
   "version": 3
  },
  "orig_nbformat": 2,
  "kernelspec": {
   "name": "python_defaultSpec_1595880263776",
   "display_name": "Python 3.7.7 64-bit ('anaconda3': virtualenv)"
  }
 },
 "nbformat": 4,
 "nbformat_minor": 2,
 "cells": [
  {
   "cell_type": "markdown",
   "metadata": {},
   "source": [
    "* https://medium.com/analytics-vidhya/semantic-similarity-in-sentences-and-bert-e8d34f5a4677\n",
    "* https://towardsdatascience.com/word-embedding-using-bert-in-python-dd5a86c00342\n",
    "* https://github.com/huggingface/transformers"
   ]
  },
  {
   "cell_type": "code",
   "execution_count": 2,
   "metadata": {
    "tags": []
   },
   "outputs": [
    {
     "output_type": "stream",
     "name": "stdout",
     "text": "Collecting tensorflow\n  Downloading tensorflow-2.3.0-cp37-cp37m-macosx_10_11_x86_64.whl (165.1 MB)\n\u001b[K     |████████████████████████████████| 165.1 MB 13.1 MB/s \n\u001b[?25hRequirement already satisfied: termcolor>=1.1.0 in /Users/emilnuutinen/opt/anaconda3/lib/python3.7/site-packages (from tensorflow) (1.1.0)\nCollecting tensorboard<3,>=2.3.0\n  Downloading tensorboard-2.3.0-py3-none-any.whl (6.8 MB)\n\u001b[K     |████████████████████████████████| 6.8 MB 11.4 MB/s \n\u001b[?25hCollecting opt-einsum>=2.3.2\n  Downloading opt_einsum-3.3.0-py3-none-any.whl (65 kB)\n\u001b[K     |████████████████████████████████| 65 kB 8.0 MB/s \n\u001b[?25hCollecting tensorflow-estimator<2.4.0,>=2.3.0\n  Downloading tensorflow_estimator-2.3.0-py2.py3-none-any.whl (459 kB)\n\u001b[K     |████████████████████████████████| 459 kB 13.7 MB/s \n\u001b[?25hRequirement already satisfied: six>=1.12.0 in /Users/emilnuutinen/opt/anaconda3/lib/python3.7/site-packages (from tensorflow) (1.14.0)\nCollecting absl-py>=0.7.0\n  Downloading absl-py-0.9.0.tar.gz (104 kB)\n\u001b[K     |████████████████████████████████| 104 kB 36.6 MB/s \n\u001b[?25hCollecting gast==0.3.3\n  Downloading gast-0.3.3-py2.py3-none-any.whl (9.7 kB)\nRequirement already satisfied: h5py<2.11.0,>=2.10.0 in /Users/emilnuutinen/opt/anaconda3/lib/python3.7/site-packages (from tensorflow) (2.10.0)\nCollecting grpcio>=1.8.6\n  Downloading grpcio-1.30.0-cp37-cp37m-macosx_10_9_x86_64.whl (2.8 MB)\n\u001b[K     |████████████████████████████████| 2.8 MB 14.6 MB/s \n\u001b[?25hCollecting protobuf>=3.9.2\n  Downloading protobuf-3.12.2-cp37-cp37m-macosx_10_9_x86_64.whl (1.3 MB)\n\u001b[K     |████████████████████████████████| 1.3 MB 16.4 MB/s \n\u001b[?25hRequirement already satisfied: numpy<1.19.0,>=1.16.0 in /Users/emilnuutinen/opt/anaconda3/lib/python3.7/site-packages (from tensorflow) (1.18.1)\nRequirement already satisfied: wrapt>=1.11.1 in /Users/emilnuutinen/opt/anaconda3/lib/python3.7/site-packages (from tensorflow) (1.11.2)\nCollecting google-pasta>=0.1.8\n  Downloading google_pasta-0.2.0-py3-none-any.whl (57 kB)\n\u001b[K     |████████████████████████████████| 57 kB 10.8 MB/s \n\u001b[?25hCollecting astunparse==1.6.3\n  Downloading astunparse-1.6.3-py2.py3-none-any.whl (12 kB)\nRequirement already satisfied: wheel>=0.26 in /Users/emilnuutinen/opt/anaconda3/lib/python3.7/site-packages (from tensorflow) (0.34.2)\nRequirement already satisfied: scipy==1.4.1 in /Users/emilnuutinen/opt/anaconda3/lib/python3.7/site-packages (from tensorflow) (1.4.1)\nCollecting keras-preprocessing<1.2,>=1.1.1\n  Downloading Keras_Preprocessing-1.1.2-py2.py3-none-any.whl (42 kB)\n\u001b[K     |████████████████████████████████| 42 kB 2.5 MB/s \n\u001b[?25hCollecting tensorboard-plugin-wit>=1.6.0\n  Downloading tensorboard_plugin_wit-1.7.0-py3-none-any.whl (779 kB)\n\u001b[K     |████████████████████████████████| 779 kB 9.2 MB/s \n\u001b[?25hCollecting google-auth-oauthlib<0.5,>=0.4.1\n  Downloading google_auth_oauthlib-0.4.1-py2.py3-none-any.whl (18 kB)\nCollecting markdown>=2.6.8\n  Downloading Markdown-3.2.2-py3-none-any.whl (88 kB)\n\u001b[K     |████████████████████████████████| 88 kB 10.7 MB/s \n\u001b[?25hRequirement already satisfied: requests<3,>=2.21.0 in /Users/emilnuutinen/opt/anaconda3/lib/python3.7/site-packages (from tensorboard<3,>=2.3.0->tensorflow) (2.23.0)\nRequirement already satisfied: werkzeug>=0.11.15 in /Users/emilnuutinen/opt/anaconda3/lib/python3.7/site-packages (from tensorboard<3,>=2.3.0->tensorflow) (1.0.1)\nCollecting google-auth<2,>=1.6.3\n  Downloading google_auth-1.19.2-py2.py3-none-any.whl (91 kB)\n\u001b[K     |████████████████████████████████| 91 kB 13.0 MB/s \n\u001b[?25hRequirement already satisfied: setuptools>=41.0.0 in /Users/emilnuutinen/opt/anaconda3/lib/python3.7/site-packages (from tensorboard<3,>=2.3.0->tensorflow) (46.1.3.post20200330)\nCollecting requests-oauthlib>=0.7.0\n  Downloading requests_oauthlib-1.3.0-py2.py3-none-any.whl (23 kB)\nRequirement already satisfied: importlib-metadata; python_version < \"3.8\" in /Users/emilnuutinen/opt/anaconda3/lib/python3.7/site-packages (from markdown>=2.6.8->tensorboard<3,>=2.3.0->tensorflow) (1.5.0)\nRequirement already satisfied: chardet<4,>=3.0.2 in /Users/emilnuutinen/opt/anaconda3/lib/python3.7/site-packages (from requests<3,>=2.21.0->tensorboard<3,>=2.3.0->tensorflow) (3.0.4)\nRequirement already satisfied: urllib3!=1.25.0,!=1.25.1,<1.26,>=1.21.1 in /Users/emilnuutinen/opt/anaconda3/lib/python3.7/site-packages (from requests<3,>=2.21.0->tensorboard<3,>=2.3.0->tensorflow) (1.25.8)\nRequirement already satisfied: idna<3,>=2.5 in /Users/emilnuutinen/opt/anaconda3/lib/python3.7/site-packages (from requests<3,>=2.21.0->tensorboard<3,>=2.3.0->tensorflow) (2.9)\nRequirement already satisfied: certifi>=2017.4.17 in /Users/emilnuutinen/opt/anaconda3/lib/python3.7/site-packages (from requests<3,>=2.21.0->tensorboard<3,>=2.3.0->tensorflow) (2020.4.5.1)\nCollecting pyasn1-modules>=0.2.1\n  Downloading pyasn1_modules-0.2.8-py2.py3-none-any.whl (155 kB)\n\u001b[K     |████████████████████████████████| 155 kB 16.6 MB/s \n\u001b[?25hCollecting cachetools<5.0,>=2.0.0\n  Downloading cachetools-4.1.1-py3-none-any.whl (10 kB)\nCollecting rsa<5,>=3.1.4; python_version >= \"3\"\n  Downloading rsa-4.6-py3-none-any.whl (47 kB)\n\u001b[K     |████████████████████████████████| 47 kB 7.4 MB/s \n\u001b[?25hCollecting oauthlib>=3.0.0\n  Downloading oauthlib-3.1.0-py2.py3-none-any.whl (147 kB)\n\u001b[K     |████████████████████████████████| 147 kB 9.3 MB/s \n\u001b[?25hRequirement already satisfied: zipp>=0.5 in /Users/emilnuutinen/opt/anaconda3/lib/python3.7/site-packages (from importlib-metadata; python_version < \"3.8\"->markdown>=2.6.8->tensorboard<3,>=2.3.0->tensorflow) (3.1.0)\nCollecting pyasn1<0.5.0,>=0.4.6\n  Downloading pyasn1-0.4.8-py2.py3-none-any.whl (77 kB)\n\u001b[K     |████████████████████████████████| 77 kB 13.9 MB/s \n\u001b[?25hBuilding wheels for collected packages: absl-py\n  Building wheel for absl-py (setup.py) ... \u001b[?25ldone\n\u001b[?25h  Created wheel for absl-py: filename=absl_py-0.9.0-py3-none-any.whl size=121931 sha256=d60b89395c5001d5e6ee4076bc8f57e5995544cfd507640e12487146bf849719\n  Stored in directory: /Users/emilnuutinen/Library/Caches/pip/wheels/cc/af/1a/498a24d0730ef484019e007bb9e8cef3ac00311a672c049a3e\nSuccessfully built absl-py\nInstalling collected packages: grpcio, tensorboard-plugin-wit, pyasn1, pyasn1-modules, cachetools, rsa, google-auth, oauthlib, requests-oauthlib, google-auth-oauthlib, protobuf, markdown, absl-py, tensorboard, opt-einsum, tensorflow-estimator, gast, google-pasta, astunparse, keras-preprocessing, tensorflow\nSuccessfully installed absl-py-0.9.0 astunparse-1.6.3 cachetools-4.1.1 gast-0.3.3 google-auth-1.19.2 google-auth-oauthlib-0.4.1 google-pasta-0.2.0 grpcio-1.30.0 keras-preprocessing-1.1.2 markdown-3.2.2 oauthlib-3.1.0 opt-einsum-3.3.0 protobuf-3.12.2 pyasn1-0.4.8 pyasn1-modules-0.2.8 requests-oauthlib-1.3.0 rsa-4.6 tensorboard-2.3.0 tensorboard-plugin-wit-1.7.0 tensorflow-2.3.0 tensorflow-estimator-2.3.0\nRequirement already satisfied: bert-serving-server in /Users/emilnuutinen/opt/anaconda3/lib/python3.7/site-packages (1.10.0)\nRequirement already satisfied: GPUtil>=1.3.0 in /Users/emilnuutinen/opt/anaconda3/lib/python3.7/site-packages (from bert-serving-server) (1.4.0)\nRequirement already satisfied: pyzmq>=17.1.0 in /Users/emilnuutinen/opt/anaconda3/lib/python3.7/site-packages (from bert-serving-server) (18.1.1)\nRequirement already satisfied: numpy in /Users/emilnuutinen/opt/anaconda3/lib/python3.7/site-packages (from bert-serving-server) (1.18.1)\nRequirement already satisfied: termcolor>=1.1 in /Users/emilnuutinen/opt/anaconda3/lib/python3.7/site-packages (from bert-serving-server) (1.1.0)\nRequirement already satisfied: six in /Users/emilnuutinen/opt/anaconda3/lib/python3.7/site-packages (from bert-serving-server) (1.14.0)\nRequirement already satisfied: bert-serving-client in /Users/emilnuutinen/opt/anaconda3/lib/python3.7/site-packages (1.10.0)\nRequirement already satisfied: numpy in /Users/emilnuutinen/opt/anaconda3/lib/python3.7/site-packages (from bert-serving-client) (1.18.1)\nRequirement already satisfied: pyzmq>=17.1.0 in /Users/emilnuutinen/opt/anaconda3/lib/python3.7/site-packages (from bert-serving-client) (18.1.1)\n"
    }
   ],
   "source": [
    "!pip install tensorflow # https://www.tensorflow.org/install\n",
    "!pip install bert-serving-server  # server\n",
    "!pip install bert-serving-client  # client, independent of `bert-serving-server`"
   ]
  },
  {
   "cell_type": "code",
   "execution_count": 3,
   "metadata": {},
   "outputs": [],
   "source": [
    "import numpy as np\n",
    "from bert_serving.client import BertClient"
   ]
  },
  {
   "cell_type": "code",
   "execution_count": null,
   "metadata": {},
   "outputs": [],
   "source": []
  }
 ]
}