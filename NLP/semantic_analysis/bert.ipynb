{
 "metadata": {
  "language_info": {
   "codemirror_mode": {
    "name": "ipython",
    "version": 3
   },
   "file_extension": ".py",
   "mimetype": "text/x-python",
   "name": "python",
   "nbconvert_exporter": "python",
   "pygments_lexer": "ipython3",
   "version": 3
  },
  "orig_nbformat": 2,
  "kernelspec": {
   "name": "python_defaultSpec_1595790565703",
   "display_name": "Python 3.7.7 64-bit ('anaconda3': virtualenv)"
  }
 },
 "nbformat": 4,
 "nbformat_minor": 2,
 "cells": [
  {
   "cell_type": "markdown",
   "metadata": {},
   "source": [
    "* https://medium.com/analytics-vidhya/semantic-similarity-in-sentences-and-bert-e8d34f5a4677\n",
    "* https://towardsdatascience.com/word-embedding-using-bert-in-python-dd5a86c00342"
   ]
  },
  {
   "cell_type": "code",
   "execution_count": 4,
   "metadata": {
    "tags": []
   },
   "outputs": [
    {
     "output_type": "stream",
     "name": "stdout",
     "text": "Collecting bert-serving-server\n  Downloading bert_serving_server-1.10.0-py3-none-any.whl (61 kB)\n\u001b[K     |████████████████████████████████| 61 kB 461 kB/s \n\u001b[?25hRequirement already satisfied: pyzmq>=17.1.0 in /Users/emilnuutinen/opt/anaconda3/lib/python3.7/site-packages (from bert-serving-server) (18.1.1)\nCollecting GPUtil>=1.3.0\n  Downloading GPUtil-1.4.0.tar.gz (5.5 kB)\nRequirement already satisfied: numpy in /Users/emilnuutinen/opt/anaconda3/lib/python3.7/site-packages (from bert-serving-server) (1.18.1)\nCollecting termcolor>=1.1\n  Downloading termcolor-1.1.0.tar.gz (3.9 kB)\nRequirement already satisfied: six in /Users/emilnuutinen/opt/anaconda3/lib/python3.7/site-packages (from bert-serving-server) (1.14.0)\nBuilding wheels for collected packages: GPUtil, termcolor\n  Building wheel for GPUtil (setup.py) ... \u001b[?25ldone\n\u001b[?25h  Created wheel for GPUtil: filename=GPUtil-1.4.0-py3-none-any.whl size=7411 sha256=7507996a409c521ff98da25b287c7bc10e87bb8f57e6b80a4aca036d007132a4\n  Stored in directory: /Users/emilnuutinen/Library/Caches/pip/wheels/6e/f8/83/534c52482d6da64622ddbf72cd93c35d2ef2881b78fd08ff0c\n  Building wheel for termcolor (setup.py) ... \u001b[?25ldone\n\u001b[?25h  Created wheel for termcolor: filename=termcolor-1.1.0-py3-none-any.whl size=4830 sha256=2c722ebf8e2c2e3cf05636f76f1244bc521239d0e55bbae5b344d304d2353cdf\n  Stored in directory: /Users/emilnuutinen/Library/Caches/pip/wheels/3f/e3/ec/8a8336ff196023622fbcb36de0c5a5c218cbb24111d1d4c7f2\nSuccessfully built GPUtil termcolor\nInstalling collected packages: GPUtil, termcolor, bert-serving-server\nSuccessfully installed GPUtil-1.4.0 bert-serving-server-1.10.0 termcolor-1.1.0\nCollecting bert-serving-client\n  Downloading bert_serving_client-1.10.0-py2.py3-none-any.whl (28 kB)\nRequirement already satisfied: pyzmq>=17.1.0 in /Users/emilnuutinen/opt/anaconda3/lib/python3.7/site-packages (from bert-serving-client) (18.1.1)\nRequirement already satisfied: numpy in /Users/emilnuutinen/opt/anaconda3/lib/python3.7/site-packages (from bert-serving-client) (1.18.1)\nInstalling collected packages: bert-serving-client\nSuccessfully installed bert-serving-client-1.10.0\n"
    }
   ],
   "source": [
    "!pip install bert-serving-server  # server\n",
    "!pip install bert-serving-client  # client, independent of `bert-serving-server`"
   ]
  },
  {
   "cell_type": "code",
   "execution_count": 5,
   "metadata": {},
   "outputs": [],
   "source": [
    "import numpy as np\n",
    "from bert_serving.client import BertClient"
   ]
  },
  {
   "cell_type": "code",
   "execution_count": null,
   "metadata": {},
   "outputs": [],
   "source": []
  }
 ]
}