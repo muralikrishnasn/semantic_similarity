{
  "nbformat": 4,
  "nbformat_minor": 0,
  "metadata": {
    "language_info": {
      "codemirror_mode": {
        "name": "ipython",
        "version": 3
      },
      "file_extension": ".py",
      "mimetype": "text/x-python",
      "name": "python",
      "nbconvert_exporter": "python",
      "pygments_lexer": "ipython3",
      "version": 3
    },
    "orig_nbformat": 2,
    "kernelspec": {
      "name": "python_defaultSpec_1596035153200",
      "display_name": "Python 3.7.7 64-bit ('anaconda3': virtualenv)"
    },
    "colab": {
      "name": "bert.ipynb",
      "provenance": [],
      "toc_visible": true
    },
    "accelerator": "GPU"
  },
  "cells": [
    {
      "cell_type": "markdown",
      "metadata": {
        "id": "YpeTuGgiRDIQ",
        "colab_type": "text"
      },
      "source": [
        "# Testing SentenceBERT for semantic similarity"
      ]
    },
    {
      "cell_type": "markdown",
      "metadata": {
        "id": "3VYQhfUTRDIV",
        "colab_type": "text"
      },
      "source": [
        "* https://medium.com/analytics-vidhya/semantic-similarity-in-sentences-and-bert-e8d34f5a4677\n",
        "* https://towardsdatascience.com/word-embedding-using-bert-in-python-dd5a86c00342\n",
        "* https://github.com/huggingface/transformers"
      ]
    },
    {
      "cell_type": "markdown",
      "metadata": {
        "id": "sm4zSBNRRDIY",
        "colab_type": "text"
      },
      "source": [
        "Install hugginface transformers and sentence-transformers"
      ]
    },
    {
      "cell_type": "code",
      "metadata": {
        "tags": [],
        "id": "TOMXidlURDIa",
        "colab_type": "code",
        "colab": {
          "base_uri": "https://localhost:8080/",
          "height": 1000
        },
        "outputId": "eca68191-308d-444a-c0cd-5a2971fbe693"
      },
      "source": [
        "!pip install transformers # https://github.com/huggingface/transformers\n",
        "!pip install -U sentence-transformers # https://github.com/UKPLab/sentence-transformers"
      ],
      "execution_count": 1,
      "outputs": [
        {
          "output_type": "stream",
          "text": [
            "Collecting transformers\n",
            "\u001b[?25l  Downloading https://files.pythonhosted.org/packages/27/3c/91ed8f5c4e7ef3227b4119200fc0ed4b4fd965b1f0172021c25701087825/transformers-3.0.2-py3-none-any.whl (769kB)\n",
            "\u001b[K     |████████████████████████████████| 778kB 6.8MB/s \n",
            "\u001b[?25hCollecting sentencepiece!=0.1.92\n",
            "\u001b[?25l  Downloading https://files.pythonhosted.org/packages/d4/a4/d0a884c4300004a78cca907a6ff9a5e9fe4f090f5d95ab341c53d28cbc58/sentencepiece-0.1.91-cp36-cp36m-manylinux1_x86_64.whl (1.1MB)\n",
            "\u001b[K     |████████████████████████████████| 1.1MB 15.2MB/s \n",
            "\u001b[?25hRequirement already satisfied: numpy in /usr/local/lib/python3.6/dist-packages (from transformers) (1.18.5)\n",
            "Requirement already satisfied: filelock in /usr/local/lib/python3.6/dist-packages (from transformers) (3.0.12)\n",
            "Requirement already satisfied: requests in /usr/local/lib/python3.6/dist-packages (from transformers) (2.23.0)\n",
            "Requirement already satisfied: dataclasses; python_version < \"3.7\" in /usr/local/lib/python3.6/dist-packages (from transformers) (0.7)\n",
            "Requirement already satisfied: regex!=2019.12.17 in /usr/local/lib/python3.6/dist-packages (from transformers) (2019.12.20)\n",
            "Collecting sacremoses\n",
            "\u001b[?25l  Downloading https://files.pythonhosted.org/packages/7d/34/09d19aff26edcc8eb2a01bed8e98f13a1537005d31e95233fd48216eed10/sacremoses-0.0.43.tar.gz (883kB)\n",
            "\u001b[K     |████████████████████████████████| 890kB 42.2MB/s \n",
            "\u001b[?25hRequirement already satisfied: tqdm>=4.27 in /usr/local/lib/python3.6/dist-packages (from transformers) (4.41.1)\n",
            "Requirement already satisfied: packaging in /usr/local/lib/python3.6/dist-packages (from transformers) (20.4)\n",
            "Collecting tokenizers==0.8.1.rc1\n",
            "\u001b[?25l  Downloading https://files.pythonhosted.org/packages/40/d0/30d5f8d221a0ed981a186c8eb986ce1c94e3a6e87f994eae9f4aa5250217/tokenizers-0.8.1rc1-cp36-cp36m-manylinux1_x86_64.whl (3.0MB)\n",
            "\u001b[K     |████████████████████████████████| 3.0MB 40.7MB/s \n",
            "\u001b[?25hRequirement already satisfied: chardet<4,>=3.0.2 in /usr/local/lib/python3.6/dist-packages (from requests->transformers) (3.0.4)\n",
            "Requirement already satisfied: urllib3!=1.25.0,!=1.25.1,<1.26,>=1.21.1 in /usr/local/lib/python3.6/dist-packages (from requests->transformers) (1.24.3)\n",
            "Requirement already satisfied: idna<3,>=2.5 in /usr/local/lib/python3.6/dist-packages (from requests->transformers) (2.10)\n",
            "Requirement already satisfied: certifi>=2017.4.17 in /usr/local/lib/python3.6/dist-packages (from requests->transformers) (2020.6.20)\n",
            "Requirement already satisfied: six in /usr/local/lib/python3.6/dist-packages (from sacremoses->transformers) (1.15.0)\n",
            "Requirement already satisfied: click in /usr/local/lib/python3.6/dist-packages (from sacremoses->transformers) (7.1.2)\n",
            "Requirement already satisfied: joblib in /usr/local/lib/python3.6/dist-packages (from sacremoses->transformers) (0.16.0)\n",
            "Requirement already satisfied: pyparsing>=2.0.2 in /usr/local/lib/python3.6/dist-packages (from packaging->transformers) (2.4.7)\n",
            "Building wheels for collected packages: sacremoses\n",
            "  Building wheel for sacremoses (setup.py) ... \u001b[?25l\u001b[?25hdone\n",
            "  Created wheel for sacremoses: filename=sacremoses-0.0.43-cp36-none-any.whl size=893260 sha256=52cd6014968b5df676e19d99f96b98c62cf6f600ca45a3ac8521daae0740c04a\n",
            "  Stored in directory: /root/.cache/pip/wheels/29/3c/fd/7ce5c3f0666dab31a50123635e6fb5e19ceb42ce38d4e58f45\n",
            "Successfully built sacremoses\n",
            "Installing collected packages: sentencepiece, sacremoses, tokenizers, transformers\n",
            "Successfully installed sacremoses-0.0.43 sentencepiece-0.1.91 tokenizers-0.8.1rc1 transformers-3.0.2\n",
            "Collecting sentence-transformers\n",
            "\u001b[?25l  Downloading https://files.pythonhosted.org/packages/78/e0/65ad8fd86eba720412d9ff102c4a3540a113bbc6cd29b01e7ecc33ebb1fa/sentence-transformers-0.3.2.tar.gz (65kB)\n",
            "\u001b[K     |████████████████████████████████| 71kB 3.9MB/s \n",
            "\u001b[?25hRequirement already satisfied, skipping upgrade: transformers>=3.0.2 in /usr/local/lib/python3.6/dist-packages (from sentence-transformers) (3.0.2)\n",
            "Requirement already satisfied, skipping upgrade: tqdm in /usr/local/lib/python3.6/dist-packages (from sentence-transformers) (4.41.1)\n",
            "Requirement already satisfied, skipping upgrade: torch>=1.2.0 in /usr/local/lib/python3.6/dist-packages (from sentence-transformers) (1.6.0+cu101)\n",
            "Requirement already satisfied, skipping upgrade: numpy in /usr/local/lib/python3.6/dist-packages (from sentence-transformers) (1.18.5)\n",
            "Requirement already satisfied, skipping upgrade: scikit-learn in /usr/local/lib/python3.6/dist-packages (from sentence-transformers) (0.22.2.post1)\n",
            "Requirement already satisfied, skipping upgrade: scipy in /usr/local/lib/python3.6/dist-packages (from sentence-transformers) (1.4.1)\n",
            "Requirement already satisfied, skipping upgrade: nltk in /usr/local/lib/python3.6/dist-packages (from sentence-transformers) (3.2.5)\n",
            "Requirement already satisfied, skipping upgrade: dataclasses; python_version < \"3.7\" in /usr/local/lib/python3.6/dist-packages (from transformers>=3.0.2->sentence-transformers) (0.7)\n",
            "Requirement already satisfied, skipping upgrade: sentencepiece!=0.1.92 in /usr/local/lib/python3.6/dist-packages (from transformers>=3.0.2->sentence-transformers) (0.1.91)\n",
            "Requirement already satisfied, skipping upgrade: regex!=2019.12.17 in /usr/local/lib/python3.6/dist-packages (from transformers>=3.0.2->sentence-transformers) (2019.12.20)\n",
            "Requirement already satisfied, skipping upgrade: requests in /usr/local/lib/python3.6/dist-packages (from transformers>=3.0.2->sentence-transformers) (2.23.0)\n",
            "Requirement already satisfied, skipping upgrade: filelock in /usr/local/lib/python3.6/dist-packages (from transformers>=3.0.2->sentence-transformers) (3.0.12)\n",
            "Requirement already satisfied, skipping upgrade: packaging in /usr/local/lib/python3.6/dist-packages (from transformers>=3.0.2->sentence-transformers) (20.4)\n",
            "Requirement already satisfied, skipping upgrade: tokenizers==0.8.1.rc1 in /usr/local/lib/python3.6/dist-packages (from transformers>=3.0.2->sentence-transformers) (0.8.1rc1)\n",
            "Requirement already satisfied, skipping upgrade: sacremoses in /usr/local/lib/python3.6/dist-packages (from transformers>=3.0.2->sentence-transformers) (0.0.43)\n",
            "Requirement already satisfied, skipping upgrade: future in /usr/local/lib/python3.6/dist-packages (from torch>=1.2.0->sentence-transformers) (0.16.0)\n",
            "Requirement already satisfied, skipping upgrade: joblib>=0.11 in /usr/local/lib/python3.6/dist-packages (from scikit-learn->sentence-transformers) (0.16.0)\n",
            "Requirement already satisfied, skipping upgrade: six in /usr/local/lib/python3.6/dist-packages (from nltk->sentence-transformers) (1.15.0)\n",
            "Requirement already satisfied, skipping upgrade: certifi>=2017.4.17 in /usr/local/lib/python3.6/dist-packages (from requests->transformers>=3.0.2->sentence-transformers) (2020.6.20)\n",
            "Requirement already satisfied, skipping upgrade: urllib3!=1.25.0,!=1.25.1,<1.26,>=1.21.1 in /usr/local/lib/python3.6/dist-packages (from requests->transformers>=3.0.2->sentence-transformers) (1.24.3)\n",
            "Requirement already satisfied, skipping upgrade: chardet<4,>=3.0.2 in /usr/local/lib/python3.6/dist-packages (from requests->transformers>=3.0.2->sentence-transformers) (3.0.4)\n",
            "Requirement already satisfied, skipping upgrade: idna<3,>=2.5 in /usr/local/lib/python3.6/dist-packages (from requests->transformers>=3.0.2->sentence-transformers) (2.10)\n",
            "Requirement already satisfied, skipping upgrade: pyparsing>=2.0.2 in /usr/local/lib/python3.6/dist-packages (from packaging->transformers>=3.0.2->sentence-transformers) (2.4.7)\n",
            "Requirement already satisfied, skipping upgrade: click in /usr/local/lib/python3.6/dist-packages (from sacremoses->transformers>=3.0.2->sentence-transformers) (7.1.2)\n",
            "Building wheels for collected packages: sentence-transformers\n",
            "  Building wheel for sentence-transformers (setup.py) ... \u001b[?25l\u001b[?25hdone\n",
            "  Created wheel for sentence-transformers: filename=sentence_transformers-0.3.2-cp36-none-any.whl size=93964 sha256=93bf5ab37a6569522645b4e4c854db64eec7b2f2517d888d6c1fd5d6a39a2961\n",
            "  Stored in directory: /root/.cache/pip/wheels/f7/06/a0/567f3651876165429f6510d3197b011652a25e547552816824\n",
            "Successfully built sentence-transformers\n",
            "Installing collected packages: sentence-transformers\n",
            "Successfully installed sentence-transformers-0.3.2\n"
          ],
          "name": "stdout"
        }
      ]
    },
    {
      "cell_type": "code",
      "metadata": {
        "tags": [],
        "id": "38SDBrm8RDIq",
        "colab_type": "code",
        "colab": {
          "base_uri": "https://localhost:8080/",
          "height": 34
        },
        "outputId": "cf836d9a-7e94-46dc-bb73-f638b6077fe9"
      },
      "source": [
        "import pandas as pd\n",
        "import numpy as np\n",
        "import torch\n",
        "from sentence_transformers import SentenceTransformer\n",
        "\n",
        "\n",
        "model = SentenceTransformer('bert-large-nli-stsb-mean-tokens') # Load the BERT model. Semantic Textual Similarity models are available https://github.com/UKPLab/sentence-transformers/blob/master/docs/pretrained-models/sts-models.md"
      ],
      "execution_count": 2,
      "outputs": [
        {
          "output_type": "stream",
          "text": [
            "100%|██████████| 1.24G/1.24G [00:45<00:00, 27.6MB/s]\n"
          ],
          "name": "stderr"
        }
      ]
    },
    {
      "cell_type": "markdown",
      "metadata": {
        "id": "rou4NPPZRDIz",
        "colab_type": "text"
      },
      "source": [
        "## 1. Load the sts-benchmark data and remove lines that contain errors."
      ]
    },
    {
      "cell_type": "code",
      "metadata": {
        "id": "u5ZGReh5RDI1",
        "colab_type": "code",
        "colab": {}
      },
      "source": [
        "train_df = pd.pandas.read_table(\n",
        "    'stsbenchmark/sts-train.csv',\n",
        "    error_bad_lines=False,\n",
        "    skip_blank_lines=True,\n",
        "    usecols=[4, 5, 6],\n",
        "    names=[\"score\", \"s1\", \"s2\"])"
      ],
      "execution_count": 4,
      "outputs": []
    },
    {
      "cell_type": "markdown",
      "metadata": {
        "id": "uYj2k4K2RDI-",
        "colab_type": "text"
      },
      "source": [
        "## 2. A quick look at the dataset we are using"
      ]
    },
    {
      "cell_type": "code",
      "metadata": {
        "tags": [],
        "id": "q78HftpURDJA",
        "colab_type": "code",
        "colab": {
          "base_uri": "https://localhost:8080/",
          "height": 206
        },
        "outputId": "82215151-7028-4999-f8a8-6218e13de404"
      },
      "source": [
        "train_df.head()"
      ],
      "execution_count": 5,
      "outputs": [
        {
          "output_type": "execute_result",
          "data": {
            "text/html": [
              "<div>\n",
              "<style scoped>\n",
              "    .dataframe tbody tr th:only-of-type {\n",
              "        vertical-align: middle;\n",
              "    }\n",
              "\n",
              "    .dataframe tbody tr th {\n",
              "        vertical-align: top;\n",
              "    }\n",
              "\n",
              "    .dataframe thead th {\n",
              "        text-align: right;\n",
              "    }\n",
              "</style>\n",
              "<table border=\"1\" class=\"dataframe\">\n",
              "  <thead>\n",
              "    <tr style=\"text-align: right;\">\n",
              "      <th></th>\n",
              "      <th>score</th>\n",
              "      <th>s1</th>\n",
              "      <th>s2</th>\n",
              "    </tr>\n",
              "  </thead>\n",
              "  <tbody>\n",
              "    <tr>\n",
              "      <th>0</th>\n",
              "      <td>5.00</td>\n",
              "      <td>A plane is taking off.</td>\n",
              "      <td>An air plane is taking off.</td>\n",
              "    </tr>\n",
              "    <tr>\n",
              "      <th>1</th>\n",
              "      <td>3.80</td>\n",
              "      <td>A man is playing a large flute.</td>\n",
              "      <td>A man is playing a flute.</td>\n",
              "    </tr>\n",
              "    <tr>\n",
              "      <th>2</th>\n",
              "      <td>3.80</td>\n",
              "      <td>A man is spreading shreded cheese on a pizza.</td>\n",
              "      <td>A man is spreading shredded cheese on an uncoo...</td>\n",
              "    </tr>\n",
              "    <tr>\n",
              "      <th>3</th>\n",
              "      <td>2.60</td>\n",
              "      <td>Three men are playing chess.</td>\n",
              "      <td>Two men are playing chess.</td>\n",
              "    </tr>\n",
              "    <tr>\n",
              "      <th>4</th>\n",
              "      <td>4.25</td>\n",
              "      <td>A man is playing the cello.</td>\n",
              "      <td>A man seated is playing the cello.</td>\n",
              "    </tr>\n",
              "  </tbody>\n",
              "</table>\n",
              "</div>"
            ],
            "text/plain": [
              "   score  ...                                                 s2\n",
              "0   5.00  ...                        An air plane is taking off.\n",
              "1   3.80  ...                          A man is playing a flute.\n",
              "2   3.80  ...  A man is spreading shredded cheese on an uncoo...\n",
              "3   2.60  ...                         Two men are playing chess.\n",
              "4   4.25  ...                 A man seated is playing the cello.\n",
              "\n",
              "[5 rows x 3 columns]"
            ]
          },
          "metadata": {
            "tags": []
          },
          "execution_count": 5
        }
      ]
    },
    {
      "cell_type": "code",
      "metadata": {
        "id": "AemmfxHTOmFk",
        "colab_type": "code",
        "colab": {
          "base_uri": "https://localhost:8080/",
          "height": 206
        },
        "outputId": "6812cb16-cc63-4d94-f74f-c64b18f4cf8a"
      },
      "source": [
        "train_df.tail()"
      ],
      "execution_count": 6,
      "outputs": [
        {
          "output_type": "execute_result",
          "data": {
            "text/html": [
              "<div>\n",
              "<style scoped>\n",
              "    .dataframe tbody tr th:only-of-type {\n",
              "        vertical-align: middle;\n",
              "    }\n",
              "\n",
              "    .dataframe tbody tr th {\n",
              "        vertical-align: top;\n",
              "    }\n",
              "\n",
              "    .dataframe thead th {\n",
              "        text-align: right;\n",
              "    }\n",
              "</style>\n",
              "<table border=\"1\" class=\"dataframe\">\n",
              "  <thead>\n",
              "    <tr style=\"text-align: right;\">\n",
              "      <th></th>\n",
              "      <th>score</th>\n",
              "      <th>s1</th>\n",
              "      <th>s2</th>\n",
              "    </tr>\n",
              "  </thead>\n",
              "  <tbody>\n",
              "    <tr>\n",
              "      <th>5706</th>\n",
              "      <td>0.0</td>\n",
              "      <td>Severe Gales As Storm Clodagh Hits Britain</td>\n",
              "      <td>Merkel pledges NATO solidarity with Latvia</td>\n",
              "    </tr>\n",
              "    <tr>\n",
              "      <th>5707</th>\n",
              "      <td>0.0</td>\n",
              "      <td>Dozens of Egyptians hostages taken by Libyan t...</td>\n",
              "      <td>Egyptian boat crash death toll rises as more b...</td>\n",
              "    </tr>\n",
              "    <tr>\n",
              "      <th>5708</th>\n",
              "      <td>0.0</td>\n",
              "      <td>President heading to Bahrain</td>\n",
              "      <td>President Xi: China to continue help to fight ...</td>\n",
              "    </tr>\n",
              "    <tr>\n",
              "      <th>5709</th>\n",
              "      <td>0.0</td>\n",
              "      <td>China, India vow to further bilateral ties</td>\n",
              "      <td>China Scrambles to Reassure Jittery Stock Traders</td>\n",
              "    </tr>\n",
              "    <tr>\n",
              "      <th>5710</th>\n",
              "      <td>0.0</td>\n",
              "      <td>Putin spokesman: Doping charges appear unfounded</td>\n",
              "      <td>The Latest on Severe Weather: 1 Dead in Texas ...</td>\n",
              "    </tr>\n",
              "  </tbody>\n",
              "</table>\n",
              "</div>"
            ],
            "text/plain": [
              "      score  ...                                                 s2\n",
              "5706    0.0  ...         Merkel pledges NATO solidarity with Latvia\n",
              "5707    0.0  ...  Egyptian boat crash death toll rises as more b...\n",
              "5708    0.0  ...  President Xi: China to continue help to fight ...\n",
              "5709    0.0  ...  China Scrambles to Reassure Jittery Stock Traders\n",
              "5710    0.0  ...  The Latest on Severe Weather: 1 Dead in Texas ...\n",
              "\n",
              "[5 rows x 3 columns]"
            ]
          },
          "metadata": {
            "tags": []
          },
          "execution_count": 6
        }
      ]
    },
    {
      "cell_type": "markdown",
      "metadata": {
        "id": "6PISUb9NRDJK",
        "colab_type": "text"
      },
      "source": [
        "## 3. Comparing two sentence paires with SentenceBert as an example"
      ]
    },
    {
      "cell_type": "code",
      "metadata": {
        "tags": [],
        "id": "NczbzQGURDJM",
        "colab_type": "code",
        "colab": {
          "base_uri": "https://localhost:8080/",
          "height": 121
        },
        "outputId": "5b402e92-96c2-4aff-ac16-fd43cfda7942"
      },
      "source": [
        "s1 = train_df.loc[0][1]\n",
        "s2 = train_df.loc[0][2]\n",
        "s3 = train_df.loc[45][1]\n",
        "s4 = train_df.loc[45][2]\n",
        "\n",
        "print(f's1 = {s1}')\n",
        "print(f's2 = {s2}')\n",
        "print('\\n')\n",
        "print(f's3 = {s3}')\n",
        "print(f's4 = {s4}')"
      ],
      "execution_count": 7,
      "outputs": [
        {
          "output_type": "stream",
          "text": [
            "s1 = A plane is taking off.\n",
            "s2 = An air plane is taking off.\n",
            "\n",
            "\n",
            "s3 = A man is playing the piano.\n",
            "s4 = A woman is playing the violin.\n"
          ],
          "name": "stdout"
        }
      ]
    },
    {
      "cell_type": "code",
      "metadata": {
        "tags": [],
        "id": "wxexQas4RDJW",
        "colab_type": "code",
        "colab": {
          "base_uri": "https://localhost:8080/",
          "height": 156
        },
        "outputId": "1b757897-6d81-4979-9a38-4ec1ea693ce1"
      },
      "source": [
        "from scipy.spatial import distance\n",
        "\n",
        "s1_embedding = model.encode(s1)\n",
        "s2_embedding = model.encode(s2)\n",
        "s3_embedding = model.encode(s3)\n",
        "s4_embedding = model.encode(s4)\n",
        "\n",
        "print(f's1 vs s2 = {distance.cosine(s1_embedding,s2_embedding)}')\n",
        "print(f'Human score = {train_df.loc[0][0]}')\n",
        "print(f'SentenceBERT Score = {round((1-distance.cosine(s1_embedding,s2_embedding))*5,1)}')\n",
        "\n",
        "print(f's3 vs s4 = {distance.cosine(s3_embedding,s4_embedding)}')\n",
        "print(f'Human score = {train_df.loc[45][0]}')\n",
        "print(f'SentenceBERT Score = {round((1-distance.cosine(s3_embedding,s4_embedding))*5,1)}')\n",
        "\n",
        "print(f's1 vs s3 = {distance.cosine(s1_embedding,s3_embedding)}')\n",
        "print(f's1 vs s4 = {distance.cosine(s1_embedding,s4_embedding)}')"
      ],
      "execution_count": 8,
      "outputs": [
        {
          "output_type": "stream",
          "text": [
            "s1 vs s2 = 0.017929434776306152\n",
            "Human score = 5.0\n",
            "SentenceBERT Score = 4.9\n",
            "s3 vs s4 = 0.7746940553188324\n",
            "Human score = 1.0\n",
            "SentenceBERT Score = 1.1\n",
            "s1 vs s3 = 0.8804589882493019\n",
            "s1 vs s4 = 0.8903428316116333\n"
          ],
          "name": "stdout"
        }
      ]
    },
    {
      "cell_type": "markdown",
      "metadata": {
        "id": "-p8u7aNcRDJe",
        "colab_type": "text"
      },
      "source": [
        "## 4. Getting the human scores and the SentenceBERT scores and comparing them"
      ]
    },
    {
      "cell_type": "markdown",
      "metadata": {
        "id": "LfAId4S3RDJf",
        "colab_type": "text"
      },
      "source": [
        "### 4.1 Load the data and preprocess it"
      ]
    },
    {
      "cell_type": "code",
      "metadata": {
        "id": "tSwIupk7RDJg",
        "colab_type": "code",
        "colab": {}
      },
      "source": [
        "import nltk\n",
        "\n",
        "dev_df = pd.pandas.read_table(\n",
        "    'stsbenchmark/sts-dev.csv',\n",
        "    error_bad_lines=False,\n",
        "    skip_blank_lines=True,\n",
        "    usecols=[4, 5, 6],\n",
        "    names=[\"score\", \"s1\", \"s2\"])\n",
        "\n",
        "# removes punctuation from sentences\n",
        "tokenizer = nltk.RegexpTokenizer(r\"\\w+\")\n",
        "\n",
        "# For some reason some of the sentences were \"float\" datatypes \n",
        "dev_df['s1'] = dev_df['s1'].astype(str)\n",
        "dev_df['s2'] = dev_df['s2'].astype(str)\n",
        "\n",
        "\n",
        "dev_df['s1'] = dev_df.apply(lambda row: tokenizer.tokenize(row['s1']), axis=1)\n",
        "dev_df['s1'] = dev_df.apply(lambda row: ' '.join(row['s1']).lower() , axis=1)\n",
        "\n",
        "dev_df['s2'] = dev_df.apply(lambda row: tokenizer.tokenize(row['s2']), axis=1)\n",
        "dev_df['s2'] = dev_df.apply(lambda row: ' '.join(row['s2']).lower() , axis=1)"
      ],
      "execution_count": 9,
      "outputs": []
    },
    {
      "cell_type": "code",
      "metadata": {
        "id": "qaRvcZ3ARDJn",
        "colab_type": "code",
        "colab": {
          "base_uri": "https://localhost:8080/",
          "height": 206
        },
        "outputId": "f3e885d9-5d40-4292-f115-951d572a3b2f"
      },
      "source": [
        "dev_df.head()"
      ],
      "execution_count": 10,
      "outputs": [
        {
          "output_type": "execute_result",
          "data": {
            "text/html": [
              "<div>\n",
              "<style scoped>\n",
              "    .dataframe tbody tr th:only-of-type {\n",
              "        vertical-align: middle;\n",
              "    }\n",
              "\n",
              "    .dataframe tbody tr th {\n",
              "        vertical-align: top;\n",
              "    }\n",
              "\n",
              "    .dataframe thead th {\n",
              "        text-align: right;\n",
              "    }\n",
              "</style>\n",
              "<table border=\"1\" class=\"dataframe\">\n",
              "  <thead>\n",
              "    <tr style=\"text-align: right;\">\n",
              "      <th></th>\n",
              "      <th>score</th>\n",
              "      <th>s1</th>\n",
              "      <th>s2</th>\n",
              "    </tr>\n",
              "  </thead>\n",
              "  <tbody>\n",
              "    <tr>\n",
              "      <th>0</th>\n",
              "      <td>5.00</td>\n",
              "      <td>a man with a hard hat is dancing</td>\n",
              "      <td>a man wearing a hard hat is dancing</td>\n",
              "    </tr>\n",
              "    <tr>\n",
              "      <th>1</th>\n",
              "      <td>4.75</td>\n",
              "      <td>a young child is riding a horse</td>\n",
              "      <td>a child is riding a horse</td>\n",
              "    </tr>\n",
              "    <tr>\n",
              "      <th>2</th>\n",
              "      <td>5.00</td>\n",
              "      <td>a man is feeding a mouse to a snake</td>\n",
              "      <td>the man is feeding a mouse to the snake</td>\n",
              "    </tr>\n",
              "    <tr>\n",
              "      <th>3</th>\n",
              "      <td>2.40</td>\n",
              "      <td>a woman is playing the guitar</td>\n",
              "      <td>a man is playing guitar</td>\n",
              "    </tr>\n",
              "    <tr>\n",
              "      <th>4</th>\n",
              "      <td>2.75</td>\n",
              "      <td>a woman is playing the flute</td>\n",
              "      <td>a man is playing a flute</td>\n",
              "    </tr>\n",
              "  </tbody>\n",
              "</table>\n",
              "</div>"
            ],
            "text/plain": [
              "   score  ...                                       s2\n",
              "0   5.00  ...      a man wearing a hard hat is dancing\n",
              "1   4.75  ...                a child is riding a horse\n",
              "2   5.00  ...  the man is feeding a mouse to the snake\n",
              "3   2.40  ...                  a man is playing guitar\n",
              "4   2.75  ...                 a man is playing a flute\n",
              "\n",
              "[5 rows x 3 columns]"
            ]
          },
          "metadata": {
            "tags": []
          },
          "execution_count": 10
        }
      ]
    },
    {
      "cell_type": "markdown",
      "metadata": {
        "id": "Ldezx2-qRDJu",
        "colab_type": "text"
      },
      "source": [
        "### 4.2 Get the scores and normalize them"
      ]
    },
    {
      "cell_type": "code",
      "metadata": {
        "id": "7k5WIvY_RDJw",
        "colab_type": "code",
        "colab": {}
      },
      "source": [
        "dev_scores = dev_df['score'].tolist()\n",
        "\n",
        "score_human = []\n",
        "\n",
        "for row in dev_scores:\n",
        "    score = row/5\n",
        "    score_human.append(score)"
      ],
      "execution_count": 11,
      "outputs": []
    },
    {
      "cell_type": "code",
      "metadata": {
        "id": "2VZqHJv0RDJ2",
        "colab_type": "code",
        "colab": {}
      },
      "source": [
        "score_machine = []\n",
        "\n",
        "for row in dev_df.itertuples(index=False):\n",
        "    s1_embedding = model.encode(str(row[1]))\n",
        "    s2_embedding = model.encode(str(row[2]))\n",
        "    score = (1-distance.cosine(s1_embedding,s2_embedding))\n",
        "    score_machine.append(score)"
      ],
      "execution_count": 12,
      "outputs": []
    },
    {
      "cell_type": "markdown",
      "metadata": {
        "id": "iuhKLlInRDJ8",
        "colab_type": "text"
      },
      "source": [
        "### 4.3 Compare human and fastText scores"
      ]
    },
    {
      "cell_type": "code",
      "metadata": {
        "id": "3nno3vroRDJ-",
        "colab_type": "code",
        "colab": {
          "base_uri": "https://localhost:8080/",
          "height": 34
        },
        "outputId": "c8f761d8-d26e-4377-e461-910a6ff1d108"
      },
      "source": [
        "from scipy.stats import pearsonr\n",
        "\n",
        "result, _ = pearsonr(score_machine, score_human)\n",
        "print('Pearsonr:', end=' ')\n",
        "print(\"%.1f\" % (result*100))"
      ],
      "execution_count": 13,
      "outputs": [
        {
          "output_type": "stream",
          "text": [
            "Pearsonr: 87.4\n"
          ],
          "name": "stdout"
        }
      ]
    }
  ]
}