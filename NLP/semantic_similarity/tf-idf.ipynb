{
 "metadata": {
  "language_info": {
   "codemirror_mode": {
    "name": "ipython",
    "version": 3
   },
   "file_extension": ".py",
   "mimetype": "text/x-python",
   "name": "python",
   "nbconvert_exporter": "python",
   "pygments_lexer": "ipython3",
   "version": 3
  },
  "orig_nbformat": 2,
  "kernelspec": {
   "name": "python_defaultSpec_1596011211722",
   "display_name": "Python 3.7.7 64-bit ('base': conda)"
  }
 },
 "nbformat": 4,
 "nbformat_minor": 2,
 "cells": [
  {
   "cell_type": "markdown",
   "metadata": {},
   "source": [
    "# Testing TF-IDF for semantic similarity\n",
    "\n",
    "We are using the scikit-learn [TfidfVectorizer](https://scikit-learn.org/stable/modules/generated/sklearn.feature_extraction.text.TfidfVectorizer.html)."
   ]
  },
  {
   "cell_type": "code",
   "execution_count": 2,
   "metadata": {},
   "outputs": [],
   "source": [
    "import pandas as pd\n",
    "import numpy as np\n",
    "\n",
    "from sklearn.feature_extraction.text import TfidfVectorizer"
   ]
  },
  {
   "cell_type": "markdown",
   "metadata": {},
   "source": [
    "## 1. Load the sts-benchmark data and remove lines that contain erros."
   ]
  },
  {
   "cell_type": "code",
   "execution_count": 3,
   "metadata": {},
   "outputs": [],
   "source": [
    "# Remove \"warn_bad_lines=False\" to print the lines that have errors.\n",
    "train_df = pd.read_csv('stsbenchmark/sts-train.csv', sep='\\t', engine='python', header=None, encoding='utf-8', error_bad_lines=False, warn_bad_lines=False)\n"
   ]
  },
  {
   "cell_type": "markdown",
   "metadata": {},
   "source": [
    "## 2. A quick look at the dataset we are using"
   ]
  },
  {
   "cell_type": "code",
   "execution_count": 4,
   "metadata": {
    "tags": []
   },
   "outputs": [
    {
     "output_type": "stream",
     "name": "stdout",
     "text": "0                  main-captions\n1                         MSRvid\n2                       2012test\n3                              1\n4                              5\n5         A plane is taking off.\n6    An air plane is taking off.\nName: 0, dtype: object\n\n\n0                     main-captions\n1                            MSRvid\n2                          2012test\n3                                68\n4                                 1\n5       A man is playing the piano.\n6    A woman is playing the violin.\nName: 45, dtype: object\n"
    },
    {
     "output_type": "execute_result",
     "data": {
      "text/plain": "               0       1         2  3     4  \\\n0  main-captions  MSRvid  2012test  1  5.00   \n1  main-captions  MSRvid  2012test  4  3.80   \n2  main-captions  MSRvid  2012test  5  3.80   \n3  main-captions  MSRvid  2012test  6  2.60   \n4  main-captions  MSRvid  2012test  9  4.25   \n\n                                               5  \\\n0                         A plane is taking off.   \n1                A man is playing a large flute.   \n2  A man is spreading shreded cheese on a pizza.   \n3                   Three men are playing chess.   \n4                    A man is playing the cello.   \n\n                                                   6  \n0                        An air plane is taking off.  \n1                          A man is playing a flute.  \n2  A man is spreading shredded cheese on an uncoo...  \n3                         Two men are playing chess.  \n4                 A man seated is playing the cello.  ",
      "text/html": "<div>\n<style scoped>\n    .dataframe tbody tr th:only-of-type {\n        vertical-align: middle;\n    }\n\n    .dataframe tbody tr th {\n        vertical-align: top;\n    }\n\n    .dataframe thead th {\n        text-align: right;\n    }\n</style>\n<table border=\"1\" class=\"dataframe\">\n  <thead>\n    <tr style=\"text-align: right;\">\n      <th></th>\n      <th>0</th>\n      <th>1</th>\n      <th>2</th>\n      <th>3</th>\n      <th>4</th>\n      <th>5</th>\n      <th>6</th>\n    </tr>\n  </thead>\n  <tbody>\n    <tr>\n      <th>0</th>\n      <td>main-captions</td>\n      <td>MSRvid</td>\n      <td>2012test</td>\n      <td>1</td>\n      <td>5.00</td>\n      <td>A plane is taking off.</td>\n      <td>An air plane is taking off.</td>\n    </tr>\n    <tr>\n      <th>1</th>\n      <td>main-captions</td>\n      <td>MSRvid</td>\n      <td>2012test</td>\n      <td>4</td>\n      <td>3.80</td>\n      <td>A man is playing a large flute.</td>\n      <td>A man is playing a flute.</td>\n    </tr>\n    <tr>\n      <th>2</th>\n      <td>main-captions</td>\n      <td>MSRvid</td>\n      <td>2012test</td>\n      <td>5</td>\n      <td>3.80</td>\n      <td>A man is spreading shreded cheese on a pizza.</td>\n      <td>A man is spreading shredded cheese on an uncoo...</td>\n    </tr>\n    <tr>\n      <th>3</th>\n      <td>main-captions</td>\n      <td>MSRvid</td>\n      <td>2012test</td>\n      <td>6</td>\n      <td>2.60</td>\n      <td>Three men are playing chess.</td>\n      <td>Two men are playing chess.</td>\n    </tr>\n    <tr>\n      <th>4</th>\n      <td>main-captions</td>\n      <td>MSRvid</td>\n      <td>2012test</td>\n      <td>9</td>\n      <td>4.25</td>\n      <td>A man is playing the cello.</td>\n      <td>A man seated is playing the cello.</td>\n    </tr>\n  </tbody>\n</table>\n</div>"
     },
     "metadata": {},
     "execution_count": 4
    }
   ],
   "source": [
    "print(train_df.loc[0])\n",
    "print('\\n')\n",
    "print(train_df.loc[45])\n",
    "\n",
    "train_df.head()"
   ]
  },
  {
   "cell_type": "markdown",
   "metadata": {},
   "source": [
    "## 3. Comparing two sentence paires with TF-IDF as an example"
   ]
  },
  {
   "cell_type": "code",
   "execution_count": 5,
   "metadata": {
    "tags": []
   },
   "outputs": [
    {
     "output_type": "stream",
     "name": "stdout",
     "text": "s1 = A plane is taking off.\ns2 = An air plane is taking off.\n\n\ns3 = A man is playing the piano.\ns4 = A woman is playing the violin.\n"
    }
   ],
   "source": [
    "s1 = train_df.loc[0][5]\n",
    "s2 = train_df.loc[0][6]\n",
    "s3 = train_df.loc[45][5]\n",
    "s4 = train_df.loc[45][6]\n",
    "\n",
    "print(f's1 = {s1}')\n",
    "print(f's2 = {s2}')\n",
    "print('\\n')\n",
    "print(f's3 = {s3}')\n",
    "print(f's4 = {s4}')"
   ]
  },
  {
   "cell_type": "code",
   "execution_count": 6,
   "metadata": {
    "tags": []
   },
   "outputs": [
    {
     "output_type": "stream",
     "name": "stdout",
     "text": "s1 vs s2 = 0.2812725311459734\nHuman score = 5.0\nTF-IDF Score = 3.6\ns3 vs s4 = 0.5689084892431033\nHuman score = 1.0\nTF-IDF Score = 2.2\ns1 vs s3 = 0.9006492066302417\ns1 vs s4 = 0.9006492066302417\n"
    }
   ],
   "source": [
    "from scipy.spatial import distance\n",
    "\n",
    "vectorizer = TfidfVectorizer()\n",
    "\n",
    "sentence_vectors = vectorizer.fit_transform([s1, s2, s3, s4])\n",
    "\n",
    "s1_vec = sentence_vectors.toarray()[0].tolist()\n",
    "s2_vec = sentence_vectors.toarray()[1].tolist()\n",
    "s3_vec = sentence_vectors.toarray()[2].tolist()\n",
    "s4_vec = sentence_vectors.toarray()[3].tolist()\n",
    "\n",
    "print(f's1 vs s2 = {distance.cosine(s1_vec,s2_vec)}')\n",
    "print(f'Human score = {train_df.loc[0][4]}')\n",
    "print(f'TF-IDF Score = {round((1-distance.cosine(s1_vec,s2_vec))*5,1)}')\n",
    "\n",
    "print(f's3 vs s4 = {distance.cosine(s3_vec,s4_vec)}')\n",
    "print(f'Human score = {train_df.loc[45][4]}')\n",
    "print(f'TF-IDF Score = {round((1-distance.cosine(s3_vec,s4_vec))*5,1)}')\n",
    "\n",
    "print(f's1 vs s3 = {distance.cosine(s1_vec,s3_vec)}')\n",
    "print(f's1 vs s4 = {distance.cosine(s1_vec,s4_vec)}')\n"
   ]
  },
  {
   "cell_type": "markdown",
   "metadata": {},
   "source": [
    "## 4. Getting the human score and the TF-IDF scores and comparing them"
   ]
  },
  {
   "cell_type": "markdown",
   "metadata": {},
   "source": [
    "### 4.1 Load the data and preprocess it"
   ]
  },
  {
   "cell_type": "code",
   "execution_count": 8,
   "metadata": {},
   "outputs": [],
   "source": [
    "import nltk\n",
    "\n",
    "data = []\n",
    "with open('stsbenchmark/sts-dev.csv') as f:\n",
    "    for line in f.read().splitlines():\n",
    "        splits = line.split('\\t')\n",
    "        data.append({\n",
    "            'score': float(splits[4]),\n",
    "            's1': splits[5],\n",
    "            's2': splits[6]\n",
    "        })\n",
    "\n",
    "# removes punctuation from sentences\n",
    "tokenizer = nltk.RegexpTokenizer(r\"\\w+\")\n",
    "\n",
    "# lowercase, tokenize and remove punctuation from sentences\n",
    "for x in data:\n",
    "    x['s1'].lower()\n",
    "    x['s2'].lower()\n",
    "    x['s1'] = tokenizer.tokenize(x['s1'])\n",
    "    x['s2'] = tokenizer.tokenize(x['s2'])\n",
    "    x['s1'] = ' '.join(x['s1'])\n",
    "    x['s2'] = ' '.join(x['s2'])"
   ]
  },
  {
   "cell_type": "code",
   "execution_count": 9,
   "metadata": {},
   "outputs": [
    {
     "output_type": "execute_result",
     "data": {
      "text/plain": "{'score': 2.4,\n 's1': 'A woman is playing the guitar',\n 's2': 'A man is playing guitar'}"
     },
     "metadata": {},
     "execution_count": 9
    }
   ],
   "source": [
    "data[3]"
   ]
  },
  {
   "cell_type": "markdown",
   "metadata": {},
   "source": [
    "### 4.2 Get the scores and normalize them"
   ]
  },
  {
   "cell_type": "code",
   "execution_count": 10,
   "metadata": {},
   "outputs": [],
   "source": [
    "score_human = []\n",
    "\n",
    "for x in data:\n",
    "    score = x['score']/5\n",
    "    score_human.append(score)"
   ]
  },
  {
   "cell_type": "code",
   "execution_count": 11,
   "metadata": {},
   "outputs": [],
   "source": [
    "score_machine = []\n",
    "\n",
    "vectorizer = TfidfVectorizer()\n",
    "\n",
    "for x in data:\n",
    "    sentence_vectors = vectorizer.fit_transform([x['s1'], x['s2']])\n",
    "    s1_vec = sentence_vectors.toarray()[0].tolist()\n",
    "    s2_vec = sentence_vectors.toarray()[1].tolist()\n",
    "    score = (1-distance.cosine(s1_vec,s2_vec))\n",
    "    score_machine.append(score)"
   ]
  },
  {
   "cell_type": "markdown",
   "metadata": {},
   "source": [
    "### 4.3 Compare human and TF-IDF scores"
   ]
  },
  {
   "cell_type": "code",
   "execution_count": 18,
   "metadata": {
    "tags": []
   },
   "outputs": [
    {
     "output_type": "stream",
     "name": "stdout",
     "text": "Pearsonr: 65.2\n"
    }
   ],
   "source": [
    "from scipy.stats import pearsonr\n",
    "\n",
    "result, _ = pearsonr(score_machine, score_human)\n",
    "print('Pearsonr:', end=' ')\n",
    "print(\"%.1f\" % (result*100))"
   ]
  },
  {
   "cell_type": "code",
   "execution_count": null,
   "metadata": {},
   "outputs": [],
   "source": []
  }
 ]
}