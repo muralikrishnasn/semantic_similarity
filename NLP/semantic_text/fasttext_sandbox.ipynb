{
 "cells": [
  {
   "cell_type": "code",
   "execution_count": 1,
   "metadata": {
    "tags": []
   },
   "outputs": [
    {
     "output_type": "stream",
     "name": "stdout",
     "text": "Requirement already satisfied: fasttext in /Users/emilnuutinen/opt/anaconda3/lib/python3.7/site-packages (0.9.2)\nRequirement already satisfied: setuptools>=0.7.0 in /Users/emilnuutinen/opt/anaconda3/lib/python3.7/site-packages (from fasttext) (46.1.3.post20200330)\nRequirement already satisfied: pybind11>=2.2 in /Users/emilnuutinen/opt/anaconda3/lib/python3.7/site-packages (from fasttext) (2.5.0)\nRequirement already satisfied: numpy in /Users/emilnuutinen/opt/anaconda3/lib/python3.7/site-packages (from fasttext) (1.18.1)\nNote: you may need to restart the kernel to use updated packages.\n"
    }
   ],
   "source": [
    "pip install fasttext"
   ]
  },
  {
   "cell_type": "code",
   "execution_count": 2,
   "metadata": {},
   "outputs": [],
   "source": [
    "import pandas as pd\n",
    "import numpy as np\n",
    "import fasttext\n",
    "import fasttext.util"
   ]
  },
  {
   "cell_type": "code",
   "execution_count": 3,
   "metadata": {
    "tags": []
   },
   "outputs": [
    {
     "output_type": "stream",
     "name": "stderr",
     "text": "Warning : `load_model` does not return WordVectorModel or SupervisedModel any more, but a `FastText` object which is very similar.\n"
    }
   ],
   "source": [
    "fasttext.util.download_model('en', if_exists='ignore')  # English\n",
    "ft = fasttext.load_model('cc.en.300.bin')"
   ]
  },
  {
   "cell_type": "code",
   "execution_count": 4,
   "metadata": {
    "tags": []
   },
   "outputs": [
    {
     "output_type": "stream",
     "name": "stderr",
     "text": "Skipping line 2002: '\t' expected after '\"'\nSkipping line 2033: '\t' expected after '\"'\nSkipping line 2068: '\t' expected after '\"'\nSkipping line 2076: '\t' expected after '\"'\nSkipping line 2090: '\t' expected after '\"'\nSkipping line 2093: '\t' expected after '\"'\nSkipping line 2120: '\t' expected after '\"'\nSkipping line 2123: '\t' expected after '\"'\nSkipping line 2294: '\t' expected after '\"'\nSkipping line 2469: '\t' expected after '\"'\nSkipping line 2475: '\t' expected after '\"'\nSkipping line 2484: '\t' expected after '\"'\nSkipping line 2508: '\t' expected after '\"'\nSkipping line 2523: '\t' expected after '\"'\nSkipping line 2524: '\t' expected after '\"'\nSkipping line 2530: '\t' expected after '\"'\nSkipping line 2550: '\t' expected after '\"'\nSkipping line 2552: '\t' expected after '\"'\nSkipping line 2555: '\t' expected after '\"'\nSkipping line 2567: '\t' expected after '\"'\nSkipping line 2578: '\t' expected after '\"'\nSkipping line 2598: '\t' expected after '\"'\nSkipping line 2601: '\t' expected after '\"'\nSkipping line 2613: '\t' expected after '\"'\nSkipping line 2622: '\t' expected after '\"'\nSkipping line 2649: '\t' expected after '\"'\nSkipping line 2650: '\t' expected after '\"'\nSkipping line 2651: '\t' expected after '\"'\nSkipping line 2652: '\t' expected after '\"'\nSkipping line 2660: '\t' expected after '\"'\nSkipping line 2671: '\t' expected after '\"'\nSkipping line 2675: '\t' expected after '\"'\nSkipping line 2681: '\t' expected after '\"'\nSkipping line 2702: '\t' expected after '\"'\nSkipping line 2726: '\t' expected after '\"'\nSkipping line 2770: '\t' expected after '\"'\nSkipping line 2773: '\t' expected after '\"'\nSkipping line 2781: '\t' expected after '\"'\nSkipping line 2792: '\t' expected after '\"'\nSkipping line 2798: '\t' expected after '\"'\nSkipping line 2799: '\t' expected after '\"'\nSkipping line 2800: '\t' expected after '\"'\nSkipping line 2805: '\t' expected after '\"'\nSkipping line 2815: '\t' expected after '\"'\nSkipping line 2825: '\t' expected after '\"'\nSkipping line 2837: '\t' expected after '\"'\nSkipping line 2839: '\t' expected after '\"'\nSkipping line 2854: '\t' expected after '\"'\nSkipping line 2857: '\t' expected after '\"'\nSkipping line 2877: '\t' expected after '\"'\nSkipping line 2886: '\t' expected after '\"'\nSkipping line 2887: '\t' expected after '\"'\nSkipping line 2895: '\t' expected after '\"'\nSkipping line 2896: '\t' expected after '\"'\nSkipping line 2914: '\t' expected after '\"'\nSkipping line 2916: '\t' expected after '\"'\nSkipping line 2979: '\t' expected after '\"'\nSkipping line 2988: '\t' expected after '\"'\nSkipping line 2995: '\t' expected after '\"'\nSkipping line 3024: '\t' expected after '\"'\nSkipping line 3028: '\t' expected after '\"'\nSkipping line 3029: '\t' expected after '\"'\nSkipping line 3039: '\t' expected after '\"'\nSkipping line 3055: '\t' expected after '\"'\nSkipping line 3062: '\t' expected after '\"'\nSkipping line 3070: '\t' expected after '\"'\nSkipping line 3073: '\t' expected after '\"'\nSkipping line 3074: '\t' expected after '\"'\nSkipping line 3075: '\t' expected after '\"'\nSkipping line 3085: '\t' expected after '\"'\nSkipping line 3095: '\t' expected after '\"'\nSkipping line 3114: '\t' expected after '\"'\nSkipping line 3129: '\t' expected after '\"'\nSkipping line 3139: '\t' expected after '\"'\nSkipping line 3162: '\t' expected after '\"'\nSkipping line 3164: '\t' expected after '\"'\nSkipping line 3171: '\t' expected after '\"'\nSkipping line 3174: '\t' expected after '\"'\nSkipping line 3184: '\t' expected after '\"'\nSkipping line 3202: '\t' expected after '\"'\nSkipping line 3207: '\t' expected after '\"'\nSkipping line 3221: '\t' expected after '\"'\nSkipping line 3225: '\t' expected after '\"'\nSkipping line 3237: '\t' expected after '\"'\nSkipping line 3254: '\t' expected after '\"'\nSkipping line 3256: '\t' expected after '\"'\nSkipping line 3259: '\t' expected after '\"'\nSkipping line 3266: '\t' expected after '\"'\nSkipping line 3270: '\t' expected after '\"'\nSkipping line 3273: '\t' expected after '\"'\nSkipping line 3288: '\t' expected after '\"'\nSkipping line 3309: '\t' expected after '\"'\nSkipping line 3311: '\t' expected after '\"'\nSkipping line 3315: '\t' expected after '\"'\nSkipping line 3316: '\t' expected after '\"'\nSkipping line 3326: '\t' expected after '\"'\nSkipping line 3332: '\t' expected after '\"'\nSkipping line 3336: '\t' expected after '\"'\nSkipping line 3352: '\t' expected after '\"'\nSkipping line 3359: '\t' expected after '\"'\nSkipping line 3367: '\t' expected after '\"'\nSkipping line 3391: '\t' expected after '\"'\nSkipping line 3392: '\t' expected after '\"'\nSkipping line 3395: '\t' expected after '\"'\nSkipping line 3403: '\t' expected after '\"'\nSkipping line 5415: Expected 7 fields in line 5415, saw 9\nSkipping line 5416: Expected 7 fields in line 5416, saw 9\nSkipping line 5417: Expected 7 fields in line 5417, saw 9\nSkipping line 5418: Expected 7 fields in line 5418, saw 9\nSkipping line 5419: Expected 7 fields in line 5419, saw 9\nSkipping line 5420: Expected 7 fields in line 5420, saw 9\nSkipping line 5421: Expected 7 fields in line 5421, saw 9\nSkipping line 5422: Expected 7 fields in line 5422, saw 9\nSkipping line 5423: Expected 7 fields in line 5423, saw 9\nSkipping line 5424: Expected 7 fields in line 5424, saw 9\nSkipping line 5425: Expected 7 fields in line 5425, saw 9\nSkipping line 5426: Expected 7 fields in line 5426, saw 9\nSkipping line 5427: Expected 7 fields in line 5427, saw 9\nSkipping line 5428: Expected 7 fields in line 5428, saw 9\nSkipping line 5429: Expected 7 fields in line 5429, saw 9\nSkipping line 5430: Expected 7 fields in line 5430, saw 9\nSkipping line 5431: Expected 7 fields in line 5431, saw 9\nSkipping line 5432: Expected 7 fields in line 5432, saw 9\nSkipping line 5433: Expected 7 fields in line 5433, saw 9\nSkipping line 5434: Expected 7 fields in line 5434, saw 9\nSkipping line 5435: Expected 7 fields in line 5435, saw 9\nSkipping line 5436: Expected 7 fields in line 5436, saw 9\nSkipping line 5437: Expected 7 fields in line 5437, saw 9\nSkipping line 5438: Expected 7 fields in line 5438, saw 9\nSkipping line 5439: Expected 7 fields in line 5439, saw 9\nSkipping line 5440: Expected 7 fields in line 5440, saw 9\nSkipping line 5441: Expected 7 fields in line 5441, saw 9\nSkipping line 5442: Expected 7 fields in line 5442, saw 9\nSkipping line 5443: Expected 7 fields in line 5443, saw 9\nSkipping line 5444: Expected 7 fields in line 5444, saw 9\nSkipping line 5445: Expected 7 fields in line 5445, saw 9\nSkipping line 5446: Expected 7 fields in line 5446, saw 9\nSkipping line 5447: Expected 7 fields in line 5447, saw 9\nSkipping line 5448: Expected 7 fields in line 5448, saw 9\nSkipping line 5449: Expected 7 fields in line 5449, saw 9\nSkipping line 5450: Expected 7 fields in line 5450, saw 9\nSkipping line 5451: Expected 7 fields in line 5451, saw 9\nSkipping line 5452: Expected 7 fields in line 5452, saw 9\nSkipping line 5453: Expected 7 fields in line 5453, saw 9\nSkipping line 5454: Expected 7 fields in line 5454, saw 9\nSkipping line 5455: Expected 7 fields in line 5455, saw 9\nSkipping line 5456: Expected 7 fields in line 5456, saw 9\nSkipping line 5457: Expected 7 fields in line 5457, saw 9\nSkipping line 5458: Expected 7 fields in line 5458, saw 9\nSkipping line 5459: Expected 7 fields in line 5459, saw 9\nSkipping line 5460: Expected 7 fields in line 5460, saw 9\nSkipping line 5461: Expected 7 fields in line 5461, saw 9\nSkipping line 5462: Expected 7 fields in line 5462, saw 9\nSkipping line 5463: Expected 7 fields in line 5463, saw 9\nSkipping line 5464: Expected 7 fields in line 5464, saw 9\nSkipping line 5465: Expected 7 fields in line 5465, saw 9\nSkipping line 5466: Expected 7 fields in line 5466, saw 9\nSkipping line 5467: Expected 7 fields in line 5467, saw 9\nSkipping line 5468: Expected 7 fields in line 5468, saw 9\nSkipping line 5469: Expected 7 fields in line 5469, saw 9\nSkipping line 5470: Expected 7 fields in line 5470, saw 9\nSkipping line 5471: Expected 7 fields in line 5471, saw 9\nSkipping line 5472: Expected 7 fields in line 5472, saw 9\nSkipping line 5473: Expected 7 fields in line 5473, saw 9\nSkipping line 5474: Expected 7 fields in line 5474, saw 9\nSkipping line 5475: Expected 7 fields in line 5475, saw 9\nSkipping line 5476: Expected 7 fields in line 5476, saw 9\nSkipping line 5477: Expected 7 fields in line 5477, saw 9\nSkipping line 5478: Expected 7 fields in line 5478, saw 9\nSkipping line 5479: Expected 7 fields in line 5479, saw 9\nSkipping line 5480: Expected 7 fields in line 5480, saw 9\nSkipping line 5481: Expected 7 fields in line 5481, saw 9\nSkipping line 5482: Expected 7 fields in line 5482, saw 9\nSkipping line 5483: Expected 7 fields in line 5483, saw 9\nSkipping line 5484: Expected 7 fields in line 5484, saw 9\nSkipping line 5485: Expected 7 fields in line 5485, saw 9\nSkipping line 5486: Expected 7 fields in line 5486, saw 9\nSkipping line 5487: Expected 7 fields in line 5487, saw 9\nSkipping line 5488: Expected 7 fields in line 5488, saw 9\nSkipping line 5489: Expected 7 fields in line 5489, saw 9\nSkipping line 5490: Expected 7 fields in line 5490, saw 9\nSkipping line 5491: Expected 7 fields in line 5491, saw 9\nSkipping line 5492: Expected 7 fields in line 5492, saw 9\nSkipping line 5493: Expected 7 fields in line 5493, saw 9\nSkipping line 5494: Expected 7 fields in line 5494, saw 9\nSkipping line 5495: Expected 7 fields in line 5495, saw 9\nSkipping line 5496: Expected 7 fields in line 5496, saw 9\nSkipping line 5497: Expected 7 fields in line 5497, saw 9\nSkipping line 5498: Expected 7 fields in line 5498, saw 9\nSkipping line 5499: Expected 7 fields in line 5499, saw 9\nSkipping line 5500: Expected 7 fields in line 5500, saw 9\nSkipping line 5501: Expected 7 fields in line 5501, saw 9\nSkipping line 5502: Expected 7 fields in line 5502, saw 9\nSkipping line 5503: Expected 7 fields in line 5503, saw 9\nSkipping line 5504: Expected 7 fields in line 5504, saw 9\nSkipping line 5505: Expected 7 fields in line 5505, saw 9\nSkipping line 5506: Expected 7 fields in line 5506, saw 9\nSkipping line 5507: Expected 7 fields in line 5507, saw 9\nSkipping line 5508: Expected 7 fields in line 5508, saw 9\nSkipping line 5509: Expected 7 fields in line 5509, saw 9\nSkipping line 5510: Expected 7 fields in line 5510, saw 9\nSkipping line 5511: Expected 7 fields in line 5511, saw 9\nSkipping line 5512: Expected 7 fields in line 5512, saw 9\nSkipping line 5513: Expected 7 fields in line 5513, saw 9\nSkipping line 5514: Expected 7 fields in line 5514, saw 9\nSkipping line 5515: Expected 7 fields in line 5515, saw 9\nSkipping line 5516: Expected 7 fields in line 5516, saw 9\nSkipping line 5517: Expected 7 fields in line 5517, saw 9\nSkipping line 5518: Expected 7 fields in line 5518, saw 9\nSkipping line 5519: Expected 7 fields in line 5519, saw 9\nSkipping line 5520: Expected 7 fields in line 5520, saw 9\nSkipping line 5521: Expected 7 fields in line 5521, saw 9\nSkipping line 5522: Expected 7 fields in line 5522, saw 9\nSkipping line 5523: Expected 7 fields in line 5523, saw 9\nSkipping line 5524: Expected 7 fields in line 5524, saw 9\nSkipping line 5525: Expected 7 fields in line 5525, saw 9\nSkipping line 5526: Expected 7 fields in line 5526, saw 9\nSkipping line 5527: Expected 7 fields in line 5527, saw 9\nSkipping line 5528: Expected 7 fields in line 5528, saw 9\nSkipping line 5529: Expected 7 fields in line 5529, saw 9\nSkipping line 5530: Expected 7 fields in line 5530, saw 9\nSkipping line 5531: Expected 7 fields in line 5531, saw 9\nSkipping line 5532: Expected 7 fields in line 5532, saw 9\nSkipping line 5533: Expected 7 fields in line 5533, saw 9\nSkipping line 5534: Expected 7 fields in line 5534, saw 9\nSkipping line 5535: Expected 7 fields in line 5535, saw 9\nSkipping line 5536: Expected 7 fields in line 5536, saw 9\nSkipping line 5537: Expected 7 fields in line 5537, saw 9\nSkipping line 5538: Expected 7 fields in line 5538, saw 9\nSkipping line 5539: Expected 7 fields in line 5539, saw 9\nSkipping line 5540: Expected 7 fields in line 5540, saw 9\nSkipping line 5541: Expected 7 fields in line 5541, saw 9\nSkipping line 5542: Expected 7 fields in line 5542, saw 9\nSkipping line 5543: Expected 7 fields in line 5543, saw 9\nSkipping line 5544: Expected 7 fields in line 5544, saw 9\nSkipping line 5545: Expected 7 fields in line 5545, saw 9\nSkipping line 5546: Expected 7 fields in line 5546, saw 9\nSkipping line 5547: Expected 7 fields in line 5547, saw 9\nSkipping line 5548: Expected 7 fields in line 5548, saw 9\nSkipping line 5549: Expected 7 fields in line 5549, saw 9\nSkipping line 5550: Expected 7 fields in line 5550, saw 9\nSkipping line 5551: Expected 7 fields in line 5551, saw 9\nSkipping line 5552: Expected 7 fields in line 5552, saw 9\nSkipping line 5553: Expected 7 fields in line 5553, saw 9\nSkipping line 5554: Expected 7 fields in line 5554, saw 9\nSkipping line 5555: Expected 7 fields in line 5555, saw 9\nSkipping line 5556: Expected 7 fields in line 5556, saw 9\nSkipping line 5557: Expected 7 fields in line 5557, saw 9\nSkipping line 5558: Expected 7 fields in line 5558, saw 9\nSkipping line 5559: Expected 7 fields in line 5559, saw 9\nSkipping line 5560: Expected 7 fields in line 5560, saw 9\nSkipping line 5561: Expected 7 fields in line 5561, saw 9\nSkipping line 5562: Expected 7 fields in line 5562, saw 9\nSkipping line 5563: Expected 7 fields in line 5563, saw 9\nSkipping line 5564: Expected 7 fields in line 5564, saw 9\nSkipping line 5565: Expected 7 fields in line 5565, saw 9\nSkipping line 5566: Expected 7 fields in line 5566, saw 9\nSkipping line 5567: Expected 7 fields in line 5567, saw 9\nSkipping line 5568: Expected 7 fields in line 5568, saw 9\nSkipping line 5569: Expected 7 fields in line 5569, saw 9\nSkipping line 5570: Expected 7 fields in line 5570, saw 9\nSkipping line 5571: Expected 7 fields in line 5571, saw 9\nSkipping line 5572: Expected 7 fields in line 5572, saw 9\nSkipping line 5573: Expected 7 fields in line 5573, saw 9\nSkipping line 5574: Expected 7 fields in line 5574, saw 9\nSkipping line 5575: Expected 7 fields in line 5575, saw 9\nSkipping line 5576: Expected 7 fields in line 5576, saw 9\nSkipping line 5577: Expected 7 fields in line 5577, saw 9\nSkipping line 5578: Expected 7 fields in line 5578, saw 9\nSkipping line 5579: Expected 7 fields in line 5579, saw 9\nSkipping line 5580: Expected 7 fields in line 5580, saw 9\nSkipping line 5581: Expected 7 fields in line 5581, saw 9\nSkipping line 5582: Expected 7 fields in line 5582, saw 9\nSkipping line 5583: Expected 7 fields in line 5583, saw 9\nSkipping line 5584: Expected 7 fields in line 5584, saw 9\nSkipping line 5585: Expected 7 fields in line 5585, saw 9\nSkipping line 5586: Expected 7 fields in line 5586, saw 9\nSkipping line 5587: Expected 7 fields in line 5587, saw 9\nSkipping line 5588: Expected 7 fields in line 5588, saw 9\nSkipping line 5589: Expected 7 fields in line 5589, saw 9\nSkipping line 5590: Expected 7 fields in line 5590, saw 9\nSkipping line 5591: Expected 7 fields in line 5591, saw 9\nSkipping line 5592: Expected 7 fields in line 5592, saw 9\nSkipping line 5593: Expected 7 fields in line 5593, saw 9\nSkipping line 5594: Expected 7 fields in line 5594, saw 9\nSkipping line 5595: Expected 7 fields in line 5595, saw 9\nSkipping line 5596: Expected 7 fields in line 5596, saw 9\nSkipping line 5597: Expected 7 fields in line 5597, saw 9\nSkipping line 5598: Expected 7 fields in line 5598, saw 9\nSkipping line 5599: Expected 7 fields in line 5599, saw 9\nSkipping line 5600: Expected 7 fields in line 5600, saw 9\nSkipping line 5601: Expected 7 fields in line 5601, saw 9\nSkipping line 5602: Expected 7 fields in line 5602, saw 9\nSkipping line 5603: Expected 7 fields in line 5603, saw 9\nSkipping line 5604: Expected 7 fields in line 5604, saw 9\nSkipping line 5605: Expected 7 fields in line 5605, saw 9\nSkipping line 5606: Expected 7 fields in line 5606, saw 9\nSkipping line 5607: Expected 7 fields in line 5607, saw 9\nSkipping line 5608: Expected 7 fields in line 5608, saw 9\nSkipping line 5609: Expected 7 fields in line 5609, saw 9\nSkipping line 5610: Expected 7 fields in line 5610, saw 9\nSkipping line 5611: Expected 7 fields in line 5611, saw 9\n"
    }
   ],
   "source": [
    "train_df = pd.read_csv('stsbenchmark/sts-train.csv', sep='\\t', engine='python', header=None, encoding='utf-8', error_bad_lines=False)\n",
    "\n",
    "#data = []\n",
    "#with open('stsbenchmark/sts-train.csv') as f:\n",
    "#    for line in f.read().splitlines():\n",
    "#        splits = line.split('\\t')\n",
    "#        data.append({\n",
    "#            'score': float(splits[4]),\n",
    "#            's1': splits[5],\n",
    "#            's2': splits[6]\n",
    "#        }) "
   ]
  },
  {
   "cell_type": "code",
   "execution_count": 102,
   "metadata": {
    "tags": []
   },
   "outputs": [
    {
     "output_type": "execute_result",
     "data": {
      "text/plain": "               0       1         2  3     4  \\\n0  main-captions  MSRvid  2012test  1  5.00   \n1  main-captions  MSRvid  2012test  4  3.80   \n2  main-captions  MSRvid  2012test  5  3.80   \n3  main-captions  MSRvid  2012test  6  2.60   \n4  main-captions  MSRvid  2012test  9  4.25   \n\n                                               5  \\\n0                         A plane is taking off.   \n1                A man is playing a large flute.   \n2  A man is spreading shreded cheese on a pizza.   \n3                   Three men are playing chess.   \n4                    A man is playing the cello.   \n\n                                                   6  \n0                        An air plane is taking off.  \n1                          A man is playing a flute.  \n2  A man is spreading shredded cheese on an uncoo...  \n3                         Two men are playing chess.  \n4                 A man seated is playing the cello.  ",
      "text/html": "<div>\n<style scoped>\n    .dataframe tbody tr th:only-of-type {\n        vertical-align: middle;\n    }\n\n    .dataframe tbody tr th {\n        vertical-align: top;\n    }\n\n    .dataframe thead th {\n        text-align: right;\n    }\n</style>\n<table border=\"1\" class=\"dataframe\">\n  <thead>\n    <tr style=\"text-align: right;\">\n      <th></th>\n      <th>0</th>\n      <th>1</th>\n      <th>2</th>\n      <th>3</th>\n      <th>4</th>\n      <th>5</th>\n      <th>6</th>\n    </tr>\n  </thead>\n  <tbody>\n    <tr>\n      <th>0</th>\n      <td>main-captions</td>\n      <td>MSRvid</td>\n      <td>2012test</td>\n      <td>1</td>\n      <td>5.00</td>\n      <td>A plane is taking off.</td>\n      <td>An air plane is taking off.</td>\n    </tr>\n    <tr>\n      <th>1</th>\n      <td>main-captions</td>\n      <td>MSRvid</td>\n      <td>2012test</td>\n      <td>4</td>\n      <td>3.80</td>\n      <td>A man is playing a large flute.</td>\n      <td>A man is playing a flute.</td>\n    </tr>\n    <tr>\n      <th>2</th>\n      <td>main-captions</td>\n      <td>MSRvid</td>\n      <td>2012test</td>\n      <td>5</td>\n      <td>3.80</td>\n      <td>A man is spreading shreded cheese on a pizza.</td>\n      <td>A man is spreading shredded cheese on an uncoo...</td>\n    </tr>\n    <tr>\n      <th>3</th>\n      <td>main-captions</td>\n      <td>MSRvid</td>\n      <td>2012test</td>\n      <td>6</td>\n      <td>2.60</td>\n      <td>Three men are playing chess.</td>\n      <td>Two men are playing chess.</td>\n    </tr>\n    <tr>\n      <th>4</th>\n      <td>main-captions</td>\n      <td>MSRvid</td>\n      <td>2012test</td>\n      <td>9</td>\n      <td>4.25</td>\n      <td>A man is playing the cello.</td>\n      <td>A man seated is playing the cello.</td>\n    </tr>\n  </tbody>\n</table>\n</div>"
     },
     "metadata": {},
     "execution_count": 102
    }
   ],
   "source": [
    "train_df.head()"
   ]
  },
  {
   "cell_type": "code",
   "execution_count": 133,
   "metadata": {
    "tags": []
   },
   "outputs": [
    {
     "output_type": "stream",
     "name": "stdout",
     "text": "main-news        2976\nmain-captions    2000\nmain-forum        438\nName: 0, dtype: int64\nTrain dataset shape: (5414, 7)\n"
    }
   ],
   "source": [
    "print(train_df[0].value_counts())\n",
    "print('Train dataset shape: ' + str(train_df.shape))"
   ]
  },
  {
   "cell_type": "code",
   "execution_count": 132,
   "metadata": {},
   "outputs": [
    {
     "output_type": "execute_result",
     "data": {
      "text/plain": "0                                         main-forum\n1                                         deft-forum\n2                                               2014\n3                                                  5\n4                                                4.6\n5    go figure You're asking me to prove a negative?\n6              You're asking me to prove a negative?\nName: 2001, dtype: object"
     },
     "metadata": {},
     "execution_count": 132
    }
   ],
   "source": [
    "train_df.loc[2001]"
   ]
  },
  {
   "cell_type": "code",
   "execution_count": null,
   "metadata": {},
   "outputs": [],
   "source": []
  }
 ],
 "metadata": {
  "language_info": {
   "codemirror_mode": {
    "name": "ipython",
    "version": 3
   },
   "file_extension": ".py",
   "mimetype": "text/x-python",
   "name": "python",
   "nbconvert_exporter": "python",
   "pygments_lexer": "ipython3",
   "version": "3.7.7-final"
  },
  "orig_nbformat": 2,
  "kernelspec": {
   "name": "python3",
   "display_name": "Python 3"
  }
 },
 "nbformat": 4,
 "nbformat_minor": 2
}