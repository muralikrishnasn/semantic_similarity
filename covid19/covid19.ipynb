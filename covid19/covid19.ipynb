{
 "cells": [
  {
   "cell_type": "markdown",
   "metadata": {},
   "source": [
    "# COVID-19 Data Analysis"
   ]
  },
  {
   "cell_type": "code",
   "execution_count": 1,
   "metadata": {},
   "outputs": [],
   "source": [
    "import pandas as pd\n",
    "import numpy as np\n",
    "import matplotlib.pyplot as plt\n",
    "\n",
    "%matplotlib inline"
   ]
  },
  {
   "cell_type": "markdown",
   "metadata": {},
   "source": [
    "### Data Sources\n",
    "We are using the data form the [John Hopkins University repository.](https://github.com/CSSEGISandData/COVID-19)"
   ]
  },
  {
   "cell_type": "code",
   "execution_count": 2,
   "metadata": {},
   "outputs": [],
   "source": [
    "# read the time series data\n",
    "\n",
    "data = pd.read_csv(\"data/csse_covid_19_data/csse_covid_19_time_series/time_series_covid19_confirmed_global.csv\")"
   ]
  },
  {
   "cell_type": "code",
   "execution_count": 3,
   "metadata": {},
   "outputs": [
    {
     "output_type": "stream",
     "name": "stdout",
     "text": "(266, 141)\nIndex(['Province/State', 'Country/Region', 'Lat', 'Long', '1/22/20', '1/23/20',\n       '1/24/20', '1/25/20', '1/26/20', '1/27/20',\n       ...\n       '5/28/20', '5/29/20', '5/30/20', '5/31/20', '6/1/20', '6/2/20',\n       '6/3/20', '6/4/20', '6/5/20', '6/6/20'],\n      dtype='object', length=141)\n"
    }
   ],
   "source": [
    "print(data.shape)\n",
    "print(data.columns)"
   ]
  },
  {
   "cell_type": "code",
   "execution_count": 4,
   "metadata": {},
   "outputs": [
    {
     "output_type": "execute_result",
     "data": {
      "text/plain": "  Province/State Country/Region      Lat     Long  1/22/20  1/23/20  1/24/20  \\\n0            NaN    Afghanistan  33.0000  65.0000        0        0        0   \n1            NaN        Albania  41.1533  20.1683        0        0        0   \n2            NaN        Algeria  28.0339   1.6596        0        0        0   \n3            NaN        Andorra  42.5063   1.5218        0        0        0   \n4            NaN         Angola -11.2027  17.8739        0        0        0   \n\n   1/25/20  1/26/20  1/27/20  ...  5/28/20  5/29/20  5/30/20  5/31/20  6/1/20  \\\n0        0        0        0  ...    13036    13659    14525    15205   15750   \n1        0        0        0  ...     1076     1099     1122     1137    1143   \n2        0        0        0  ...     8997     9134     9267     9394    9513   \n3        0        0        0  ...      763      764      764      764     765   \n4        0        0        0  ...       74       81       84       86      86   \n\n   6/2/20  6/3/20  6/4/20  6/5/20  6/6/20  \n0   16509   17267   18054   18969   19551  \n1    1164    1184    1197    1212    1232  \n2    9626    9733    9831    9935   10050  \n3     844     851     852     852     852  \n4      86      86      86      86      88  \n\n[5 rows x 141 columns]",
      "text/html": "<div>\n<style scoped>\n    .dataframe tbody tr th:only-of-type {\n        vertical-align: middle;\n    }\n\n    .dataframe tbody tr th {\n        vertical-align: top;\n    }\n\n    .dataframe thead th {\n        text-align: right;\n    }\n</style>\n<table border=\"1\" class=\"dataframe\">\n  <thead>\n    <tr style=\"text-align: right;\">\n      <th></th>\n      <th>Province/State</th>\n      <th>Country/Region</th>\n      <th>Lat</th>\n      <th>Long</th>\n      <th>1/22/20</th>\n      <th>1/23/20</th>\n      <th>1/24/20</th>\n      <th>1/25/20</th>\n      <th>1/26/20</th>\n      <th>1/27/20</th>\n      <th>...</th>\n      <th>5/28/20</th>\n      <th>5/29/20</th>\n      <th>5/30/20</th>\n      <th>5/31/20</th>\n      <th>6/1/20</th>\n      <th>6/2/20</th>\n      <th>6/3/20</th>\n      <th>6/4/20</th>\n      <th>6/5/20</th>\n      <th>6/6/20</th>\n    </tr>\n  </thead>\n  <tbody>\n    <tr>\n      <th>0</th>\n      <td>NaN</td>\n      <td>Afghanistan</td>\n      <td>33.0000</td>\n      <td>65.0000</td>\n      <td>0</td>\n      <td>0</td>\n      <td>0</td>\n      <td>0</td>\n      <td>0</td>\n      <td>0</td>\n      <td>...</td>\n      <td>13036</td>\n      <td>13659</td>\n      <td>14525</td>\n      <td>15205</td>\n      <td>15750</td>\n      <td>16509</td>\n      <td>17267</td>\n      <td>18054</td>\n      <td>18969</td>\n      <td>19551</td>\n    </tr>\n    <tr>\n      <th>1</th>\n      <td>NaN</td>\n      <td>Albania</td>\n      <td>41.1533</td>\n      <td>20.1683</td>\n      <td>0</td>\n      <td>0</td>\n      <td>0</td>\n      <td>0</td>\n      <td>0</td>\n      <td>0</td>\n      <td>...</td>\n      <td>1076</td>\n      <td>1099</td>\n      <td>1122</td>\n      <td>1137</td>\n      <td>1143</td>\n      <td>1164</td>\n      <td>1184</td>\n      <td>1197</td>\n      <td>1212</td>\n      <td>1232</td>\n    </tr>\n    <tr>\n      <th>2</th>\n      <td>NaN</td>\n      <td>Algeria</td>\n      <td>28.0339</td>\n      <td>1.6596</td>\n      <td>0</td>\n      <td>0</td>\n      <td>0</td>\n      <td>0</td>\n      <td>0</td>\n      <td>0</td>\n      <td>...</td>\n      <td>8997</td>\n      <td>9134</td>\n      <td>9267</td>\n      <td>9394</td>\n      <td>9513</td>\n      <td>9626</td>\n      <td>9733</td>\n      <td>9831</td>\n      <td>9935</td>\n      <td>10050</td>\n    </tr>\n    <tr>\n      <th>3</th>\n      <td>NaN</td>\n      <td>Andorra</td>\n      <td>42.5063</td>\n      <td>1.5218</td>\n      <td>0</td>\n      <td>0</td>\n      <td>0</td>\n      <td>0</td>\n      <td>0</td>\n      <td>0</td>\n      <td>...</td>\n      <td>763</td>\n      <td>764</td>\n      <td>764</td>\n      <td>764</td>\n      <td>765</td>\n      <td>844</td>\n      <td>851</td>\n      <td>852</td>\n      <td>852</td>\n      <td>852</td>\n    </tr>\n    <tr>\n      <th>4</th>\n      <td>NaN</td>\n      <td>Angola</td>\n      <td>-11.2027</td>\n      <td>17.8739</td>\n      <td>0</td>\n      <td>0</td>\n      <td>0</td>\n      <td>0</td>\n      <td>0</td>\n      <td>0</td>\n      <td>...</td>\n      <td>74</td>\n      <td>81</td>\n      <td>84</td>\n      <td>86</td>\n      <td>86</td>\n      <td>86</td>\n      <td>86</td>\n      <td>86</td>\n      <td>86</td>\n      <td>88</td>\n    </tr>\n  </tbody>\n</table>\n<p>5 rows × 141 columns</p>\n</div>"
     },
     "metadata": {},
     "execution_count": 4
    }
   ],
   "source": [
    "data.head()"
   ]
  },
  {
   "cell_type": "code",
   "execution_count": 5,
   "metadata": {},
   "outputs": [
    {
     "output_type": "execute_result",
     "data": {
      "text/plain": "Country/Region    AfghanistanAlbaniaAlgeriaAndorraAngolaAntigua ...\n1/22/20                                                         555\n1/23/20                                                         654\n1/24/20                                                         941\n1/25/20                                                        1434\n                                        ...                        \n6/2/20                                                      6378237\n6/3/20                                                      6508635\n6/4/20                                                      6632985\n6/5/20                                                      6764918\n6/6/20                                                      6891213\nLength: 138, dtype: object"
     },
     "metadata": {},
     "execution_count": 5
    }
   ],
   "source": [
    "data = data.drop([\"Province/State\", \"Lat\", \"Long\"], axis=1)\n",
    "data.sum(axis = 0, skipna = True) "
   ]
  },
  {
   "cell_type": "code",
   "execution_count": 7,
   "metadata": {},
   "outputs": [
    {
     "output_type": "execute_result",
     "data": {
      "text/plain": "1/22/20        555\n1/23/20        654\n1/24/20        941\n1/25/20       1434\n1/26/20       2118\n            ...   \n6/2/20     6378237\n6/3/20     6508635\n6/4/20     6632985\n6/5/20     6764918\n6/6/20     6891213\nLength: 137, dtype: int64"
     },
     "metadata": {},
     "execution_count": 7
    }
   ],
   "source": [
    "data = data.groupby(\"Country/Region\").sum()\n",
    "data.sum(axis = 0, skipna = True) "
   ]
  },
  {
   "cell_type": "code",
   "execution_count": 8,
   "metadata": {},
   "outputs": [
    {
     "output_type": "stream",
     "name": "stdout",
     "text": "(188, 137)\n"
    }
   ],
   "source": [
    "print(data.shape)"
   ]
  },
  {
   "cell_type": "code",
   "execution_count": 9,
   "metadata": {},
   "outputs": [
    {
     "output_type": "execute_result",
     "data": {
      "text/plain": "                1/22/20  1/23/20  1/24/20  1/25/20  1/26/20  1/27/20  1/28/20  \\\nCountry/Region                                                                  \nAfghanistan           0        0        0        0        0        0        0   \nAlbania               0        0        0        0        0        0        0   \nAlgeria               0        0        0        0        0        0        0   \nAndorra               0        0        0        0        0        0        0   \nAngola                0        0        0        0        0        0        0   \n\n                1/29/20  1/30/20  1/31/20  ...  5/28/20  5/29/20  5/30/20  \\\nCountry/Region                             ...                              \nAfghanistan           0        0        0  ...    13036    13659    14525   \nAlbania               0        0        0  ...     1076     1099     1122   \nAlgeria               0        0        0  ...     8997     9134     9267   \nAndorra               0        0        0  ...      763      764      764   \nAngola                0        0        0  ...       74       81       84   \n\n                5/31/20  6/1/20  6/2/20  6/3/20  6/4/20  6/5/20  6/6/20  \nCountry/Region                                                           \nAfghanistan       15205   15750   16509   17267   18054   18969   19551  \nAlbania            1137    1143    1164    1184    1197    1212    1232  \nAlgeria            9394    9513    9626    9733    9831    9935   10050  \nAndorra             764     765     844     851     852     852     852  \nAngola               86      86      86      86      86      86      88  \n\n[5 rows x 137 columns]",
      "text/html": "<div>\n<style scoped>\n    .dataframe tbody tr th:only-of-type {\n        vertical-align: middle;\n    }\n\n    .dataframe tbody tr th {\n        vertical-align: top;\n    }\n\n    .dataframe thead th {\n        text-align: right;\n    }\n</style>\n<table border=\"1\" class=\"dataframe\">\n  <thead>\n    <tr style=\"text-align: right;\">\n      <th></th>\n      <th>1/22/20</th>\n      <th>1/23/20</th>\n      <th>1/24/20</th>\n      <th>1/25/20</th>\n      <th>1/26/20</th>\n      <th>1/27/20</th>\n      <th>1/28/20</th>\n      <th>1/29/20</th>\n      <th>1/30/20</th>\n      <th>1/31/20</th>\n      <th>...</th>\n      <th>5/28/20</th>\n      <th>5/29/20</th>\n      <th>5/30/20</th>\n      <th>5/31/20</th>\n      <th>6/1/20</th>\n      <th>6/2/20</th>\n      <th>6/3/20</th>\n      <th>6/4/20</th>\n      <th>6/5/20</th>\n      <th>6/6/20</th>\n    </tr>\n    <tr>\n      <th>Country/Region</th>\n      <th></th>\n      <th></th>\n      <th></th>\n      <th></th>\n      <th></th>\n      <th></th>\n      <th></th>\n      <th></th>\n      <th></th>\n      <th></th>\n      <th></th>\n      <th></th>\n      <th></th>\n      <th></th>\n      <th></th>\n      <th></th>\n      <th></th>\n      <th></th>\n      <th></th>\n      <th></th>\n      <th></th>\n    </tr>\n  </thead>\n  <tbody>\n    <tr>\n      <th>Afghanistan</th>\n      <td>0</td>\n      <td>0</td>\n      <td>0</td>\n      <td>0</td>\n      <td>0</td>\n      <td>0</td>\n      <td>0</td>\n      <td>0</td>\n      <td>0</td>\n      <td>0</td>\n      <td>...</td>\n      <td>13036</td>\n      <td>13659</td>\n      <td>14525</td>\n      <td>15205</td>\n      <td>15750</td>\n      <td>16509</td>\n      <td>17267</td>\n      <td>18054</td>\n      <td>18969</td>\n      <td>19551</td>\n    </tr>\n    <tr>\n      <th>Albania</th>\n      <td>0</td>\n      <td>0</td>\n      <td>0</td>\n      <td>0</td>\n      <td>0</td>\n      <td>0</td>\n      <td>0</td>\n      <td>0</td>\n      <td>0</td>\n      <td>0</td>\n      <td>...</td>\n      <td>1076</td>\n      <td>1099</td>\n      <td>1122</td>\n      <td>1137</td>\n      <td>1143</td>\n      <td>1164</td>\n      <td>1184</td>\n      <td>1197</td>\n      <td>1212</td>\n      <td>1232</td>\n    </tr>\n    <tr>\n      <th>Algeria</th>\n      <td>0</td>\n      <td>0</td>\n      <td>0</td>\n      <td>0</td>\n      <td>0</td>\n      <td>0</td>\n      <td>0</td>\n      <td>0</td>\n      <td>0</td>\n      <td>0</td>\n      <td>...</td>\n      <td>8997</td>\n      <td>9134</td>\n      <td>9267</td>\n      <td>9394</td>\n      <td>9513</td>\n      <td>9626</td>\n      <td>9733</td>\n      <td>9831</td>\n      <td>9935</td>\n      <td>10050</td>\n    </tr>\n    <tr>\n      <th>Andorra</th>\n      <td>0</td>\n      <td>0</td>\n      <td>0</td>\n      <td>0</td>\n      <td>0</td>\n      <td>0</td>\n      <td>0</td>\n      <td>0</td>\n      <td>0</td>\n      <td>0</td>\n      <td>...</td>\n      <td>763</td>\n      <td>764</td>\n      <td>764</td>\n      <td>764</td>\n      <td>765</td>\n      <td>844</td>\n      <td>851</td>\n      <td>852</td>\n      <td>852</td>\n      <td>852</td>\n    </tr>\n    <tr>\n      <th>Angola</th>\n      <td>0</td>\n      <td>0</td>\n      <td>0</td>\n      <td>0</td>\n      <td>0</td>\n      <td>0</td>\n      <td>0</td>\n      <td>0</td>\n      <td>0</td>\n      <td>0</td>\n      <td>...</td>\n      <td>74</td>\n      <td>81</td>\n      <td>84</td>\n      <td>86</td>\n      <td>86</td>\n      <td>86</td>\n      <td>86</td>\n      <td>86</td>\n      <td>86</td>\n      <td>88</td>\n    </tr>\n  </tbody>\n</table>\n<p>5 rows × 137 columns</p>\n</div>"
     },
     "metadata": {},
     "execution_count": 9
    }
   ],
   "source": [
    "data.head()"
   ]
  },
  {
   "cell_type": "code",
   "execution_count": null,
   "metadata": {},
   "outputs": [],
   "source": []
  }
 ],
 "metadata": {
  "language_info": {
   "codemirror_mode": {
    "name": "ipython",
    "version": 3
   },
   "file_extension": ".py",
   "mimetype": "text/x-python",
   "name": "python",
   "nbconvert_exporter": "python",
   "pygments_lexer": "ipython3",
   "version": "3.7.7-final"
  },
  "orig_nbformat": 2,
  "kernelspec": {
   "name": "python3",
   "display_name": "Python 3"
  }
 },
 "nbformat": 4,
 "nbformat_minor": 2
}