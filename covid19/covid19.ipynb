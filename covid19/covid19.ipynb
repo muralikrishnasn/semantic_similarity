{
 "cells": [
  {
   "cell_type": "markdown",
   "metadata": {},
   "source": [
    "# COVID-19 Data Analysis"
   ]
  },
  {
   "cell_type": "code",
   "execution_count": 4,
   "metadata": {},
   "outputs": [],
   "source": [
    "import pandas as pd\n",
    "import numpy as np\n",
    "import matplotlib.pyplot as plt\n",
    "\n",
    "%matplotlib inline"
   ]
  },
  {
   "cell_type": "markdown",
   "metadata": {},
   "source": [
    "### Data Sources\n",
    "We are using the data form the [John Hopkins University repository.](https://github.com/CSSEGISandData/COVID-19)"
   ]
  },
  {
   "cell_type": "code",
   "execution_count": 5,
   "metadata": {},
   "outputs": [],
   "source": [
    "# read the time series data\n",
    "\n",
    "data = pd.read_csv(\"data/csse_covid_19_data/csse_covid_19_time_series/time_series_covid19_confirmed_global.csv\")"
   ]
  },
  {
   "cell_type": "code",
   "execution_count": 10,
   "metadata": {},
   "outputs": [
    {
     "output_type": "execute_result",
     "data": {
      "text/plain": "Index(['Province/State', 'Country/Region', 'Lat', 'Long', '1/22/20', '1/23/20',\n       '1/24/20', '1/25/20', '1/26/20', '1/27/20',\n       ...\n       '5/28/20', '5/29/20', '5/30/20', '5/31/20', '6/1/20', '6/2/20',\n       '6/3/20', '6/4/20', '6/5/20', '6/6/20'],\n      dtype='object', length=141)"
     },
     "metadata": {},
     "execution_count": 10
    }
   ],
   "source": [
    "data.columns"
   ]
  },
  {
   "cell_type": "code",
   "execution_count": 11,
   "metadata": {},
   "outputs": [
    {
     "output_type": "execute_result",
     "data": {
      "text/plain": "<bound method NDFrame.head of     Province/State         Country/Region        Lat       Long  1/22/20  \\\n0              NaN            Afghanistan  33.000000  65.000000        0   \n1              NaN                Albania  41.153300  20.168300        0   \n2              NaN                Algeria  28.033900   1.659600        0   \n3              NaN                Andorra  42.506300   1.521800        0   \n4              NaN                 Angola -11.202700  17.873900        0   \n..             ...                    ...        ...        ...      ...   \n261            NaN  Sao Tome and Principe   0.186360   6.613081        0   \n262            NaN                  Yemen  15.552727  48.516388        0   \n263            NaN                Comoros -11.645500  43.333300        0   \n264            NaN             Tajikistan  38.861034  71.276093        0   \n265            NaN                Lesotho -29.609988  28.233608        0   \n\n     1/23/20  1/24/20  1/25/20  1/26/20  1/27/20  ...  5/28/20  5/29/20  \\\n0          0        0        0        0        0  ...    13036    13659   \n1          0        0        0        0        0  ...     1076     1099   \n2          0        0        0        0        0  ...     8997     9134   \n3          0        0        0        0        0  ...      763      764   \n4          0        0        0        0        0  ...       74       81   \n..       ...      ...      ...      ...      ...  ...      ...      ...   \n261        0        0        0        0        0  ...      458      463   \n262        0        0        0        0        0  ...      278      283   \n263        0        0        0        0        0  ...       87       87   \n264        0        0        0        0        0  ...     3563     3686   \n265        0        0        0        0        0  ...        2        2   \n\n     5/30/20  5/31/20  6/1/20  6/2/20  6/3/20  6/4/20  6/5/20  6/6/20  \n0      14525    15205   15750   16509   17267   18054   18969   19551  \n1       1122     1137    1143    1164    1184    1197    1212    1232  \n2       9267     9394    9513    9626    9733    9831    9935   10050  \n3        764      764     765     844     851     852     852     852  \n4         84       86      86      86      86      86      86      88  \n..       ...      ...     ...     ...     ...     ...     ...     ...  \n261      479      483     484     484     484     485     499     499  \n262      310      323     354     399     419     453     469     482  \n263      106      106     106     132     132     132     132     141  \n264     3807     3930    4013    4100    4191    4289    4370    4453  \n265        2        2       2       2       4       4       4       4  \n\n[266 rows x 141 columns]>"
     },
     "metadata": {},
     "execution_count": 11
    }
   ],
   "source": [
    "data.head"
   ]
  },
  {
   "cell_type": "code",
   "execution_count": null,
   "metadata": {},
   "outputs": [],
   "source": []
  }
 ],
 "metadata": {
  "language_info": {
   "codemirror_mode": {
    "name": "ipython",
    "version": 3
   },
   "file_extension": ".py",
   "mimetype": "text/x-python",
   "name": "python",
   "nbconvert_exporter": "python",
   "pygments_lexer": "ipython3",
   "version": "3.7.6-final"
  },
  "orig_nbformat": 2,
  "kernelspec": {
   "name": "python37664bit2ac6455e95ec427c8d45a6d9694279e8",
   "display_name": "Python 3.7.6 64-bit"
  }
 },
 "nbformat": 4,
 "nbformat_minor": 2
}