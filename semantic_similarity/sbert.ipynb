{
  "nbformat": 4,
  "nbformat_minor": 0,
  "metadata": {
    "language_info": {
      "codemirror_mode": {
        "name": "ipython",
        "version": 3
      },
      "file_extension": ".py",
      "mimetype": "text/x-python",
      "name": "python",
      "nbconvert_exporter": "python",
      "pygments_lexer": "ipython3",
      "version": 3
    },
    "orig_nbformat": 2,
    "kernelspec": {
      "name": "python_defaultSpec_1596035153200",
      "display_name": "Python 3.7.7 64-bit ('anaconda3': virtualenv)"
    },
    "colab": {
      "name": "bert.ipynb",
      "provenance": [],
      "toc_visible": true
    },
    "accelerator": "GPU"
  },
  "cells": [
    {
      "cell_type": "markdown",
      "metadata": {
        "id": "YpeTuGgiRDIQ",
        "colab_type": "text"
      },
      "source": [
        "# Testing SentenceBERT for semantic similarity"
      ]
    },
    {
      "cell_type": "markdown",
      "metadata": {
        "id": "3VYQhfUTRDIV",
        "colab_type": "text"
      },
      "source": [
        "* https://medium.com/analytics-vidhya/semantic-similarity-in-sentences-and-bert-e8d34f5a4677\n",
        "* https://towardsdatascience.com/word-embedding-using-bert-in-python-dd5a86c00342\n",
        "* https://github.com/huggingface/transformers"
      ]
    },
    {
      "cell_type": "markdown",
      "metadata": {
        "id": "sm4zSBNRRDIY",
        "colab_type": "text"
      },
      "source": [
        "Install hugginface transformers and sentence-transformers"
      ]
    },
    {
      "cell_type": "code",
      "metadata": {
        "tags": [],
        "id": "TOMXidlURDIa",
        "colab_type": "code",
        "colab": {}
      },
      "source": [
        "!pip install transformers # https://github.com/huggingface/transformers\n",
        "!pip install -U sentence-transformers # https://github.com/UKPLab/sentence-transformers"
      ],
      "execution_count": null,
      "outputs": []
    },
    {
      "cell_type": "code",
      "metadata": {
        "tags": [],
        "id": "38SDBrm8RDIq",
        "colab_type": "code",
        "colab": {
          "base_uri": "https://localhost:8080/",
          "height": 34
        },
        "outputId": "930d5b45-2e87-49c6-b700-9072635488bd"
      },
      "source": [
        "import pandas as pd\n",
        "import numpy as np\n",
        "import torch\n",
        "\n",
        "from sentence_transformers import SentenceTransformer\n",
        "from scipy.spatial import distance\n",
        "import nltk\n",
        "\n",
        "model = SentenceTransformer('bert-large-nli-stsb-mean-tokens') # Load the BERT model. Semantic Textual Similarity models are available https://github.com/UKPLab/sentence-transformers/blob/master/docs/pretrained-models/sts-models.md"
      ],
      "execution_count": 2,
      "outputs": [
        {
          "output_type": "stream",
          "text": [
            "100%|██████████| 1.24G/1.24G [01:05<00:00, 19.0MB/s]\n"
          ],
          "name": "stderr"
        }
      ]
    },
    {
      "cell_type": "markdown",
      "metadata": {
        "id": "rou4NPPZRDIz",
        "colab_type": "text"
      },
      "source": [
        "## 1. Load the sts-benchmark data and remove lines that contain errors."
      ]
    },
    {
      "cell_type": "code",
      "metadata": {
        "id": "u5ZGReh5RDI1",
        "colab_type": "code",
        "colab": {}
      },
      "source": [
        "train_df = pd.pandas.read_table(\n",
        "    'stsbenchmark/sts-train.csv',\n",
        "    error_bad_lines=False,\n",
        "    skip_blank_lines=True,\n",
        "    usecols=[4, 5, 6],\n",
        "    names=[\"score\", \"s1\", \"s2\"])"
      ],
      "execution_count": null,
      "outputs": []
    },
    {
      "cell_type": "markdown",
      "metadata": {
        "id": "uYj2k4K2RDI-",
        "colab_type": "text"
      },
      "source": [
        "## 2. A quick look at the dataset we are using"
      ]
    },
    {
      "cell_type": "code",
      "metadata": {
        "tags": [],
        "id": "q78HftpURDJA",
        "colab_type": "code",
        "colab": {
          "base_uri": "https://localhost:8080/",
          "height": 206
        },
        "outputId": "82215151-7028-4999-f8a8-6218e13de404"
      },
      "source": [
        "train_df.head()"
      ],
      "execution_count": null,
      "outputs": [
        {
          "output_type": "execute_result",
          "data": {
            "text/html": [
              "<div>\n",
              "<style scoped>\n",
              "    .dataframe tbody tr th:only-of-type {\n",
              "        vertical-align: middle;\n",
              "    }\n",
              "\n",
              "    .dataframe tbody tr th {\n",
              "        vertical-align: top;\n",
              "    }\n",
              "\n",
              "    .dataframe thead th {\n",
              "        text-align: right;\n",
              "    }\n",
              "</style>\n",
              "<table border=\"1\" class=\"dataframe\">\n",
              "  <thead>\n",
              "    <tr style=\"text-align: right;\">\n",
              "      <th></th>\n",
              "      <th>score</th>\n",
              "      <th>s1</th>\n",
              "      <th>s2</th>\n",
              "    </tr>\n",
              "  </thead>\n",
              "  <tbody>\n",
              "    <tr>\n",
              "      <th>0</th>\n",
              "      <td>5.00</td>\n",
              "      <td>A plane is taking off.</td>\n",
              "      <td>An air plane is taking off.</td>\n",
              "    </tr>\n",
              "    <tr>\n",
              "      <th>1</th>\n",
              "      <td>3.80</td>\n",
              "      <td>A man is playing a large flute.</td>\n",
              "      <td>A man is playing a flute.</td>\n",
              "    </tr>\n",
              "    <tr>\n",
              "      <th>2</th>\n",
              "      <td>3.80</td>\n",
              "      <td>A man is spreading shreded cheese on a pizza.</td>\n",
              "      <td>A man is spreading shredded cheese on an uncoo...</td>\n",
              "    </tr>\n",
              "    <tr>\n",
              "      <th>3</th>\n",
              "      <td>2.60</td>\n",
              "      <td>Three men are playing chess.</td>\n",
              "      <td>Two men are playing chess.</td>\n",
              "    </tr>\n",
              "    <tr>\n",
              "      <th>4</th>\n",
              "      <td>4.25</td>\n",
              "      <td>A man is playing the cello.</td>\n",
              "      <td>A man seated is playing the cello.</td>\n",
              "    </tr>\n",
              "  </tbody>\n",
              "</table>\n",
              "</div>"
            ],
            "text/plain": [
              "   score  ...                                                 s2\n",
              "0   5.00  ...                        An air plane is taking off.\n",
              "1   3.80  ...                          A man is playing a flute.\n",
              "2   3.80  ...  A man is spreading shredded cheese on an uncoo...\n",
              "3   2.60  ...                         Two men are playing chess.\n",
              "4   4.25  ...                 A man seated is playing the cello.\n",
              "\n",
              "[5 rows x 3 columns]"
            ]
          },
          "metadata": {
            "tags": []
          },
          "execution_count": 5
        }
      ]
    },
    {
      "cell_type": "code",
      "metadata": {
        "id": "AemmfxHTOmFk",
        "colab_type": "code",
        "colab": {
          "base_uri": "https://localhost:8080/",
          "height": 206
        },
        "outputId": "6812cb16-cc63-4d94-f74f-c64b18f4cf8a"
      },
      "source": [
        "train_df.tail()"
      ],
      "execution_count": null,
      "outputs": [
        {
          "output_type": "execute_result",
          "data": {
            "text/html": [
              "<div>\n",
              "<style scoped>\n",
              "    .dataframe tbody tr th:only-of-type {\n",
              "        vertical-align: middle;\n",
              "    }\n",
              "\n",
              "    .dataframe tbody tr th {\n",
              "        vertical-align: top;\n",
              "    }\n",
              "\n",
              "    .dataframe thead th {\n",
              "        text-align: right;\n",
              "    }\n",
              "</style>\n",
              "<table border=\"1\" class=\"dataframe\">\n",
              "  <thead>\n",
              "    <tr style=\"text-align: right;\">\n",
              "      <th></th>\n",
              "      <th>score</th>\n",
              "      <th>s1</th>\n",
              "      <th>s2</th>\n",
              "    </tr>\n",
              "  </thead>\n",
              "  <tbody>\n",
              "    <tr>\n",
              "      <th>5706</th>\n",
              "      <td>0.0</td>\n",
              "      <td>Severe Gales As Storm Clodagh Hits Britain</td>\n",
              "      <td>Merkel pledges NATO solidarity with Latvia</td>\n",
              "    </tr>\n",
              "    <tr>\n",
              "      <th>5707</th>\n",
              "      <td>0.0</td>\n",
              "      <td>Dozens of Egyptians hostages taken by Libyan t...</td>\n",
              "      <td>Egyptian boat crash death toll rises as more b...</td>\n",
              "    </tr>\n",
              "    <tr>\n",
              "      <th>5708</th>\n",
              "      <td>0.0</td>\n",
              "      <td>President heading to Bahrain</td>\n",
              "      <td>President Xi: China to continue help to fight ...</td>\n",
              "    </tr>\n",
              "    <tr>\n",
              "      <th>5709</th>\n",
              "      <td>0.0</td>\n",
              "      <td>China, India vow to further bilateral ties</td>\n",
              "      <td>China Scrambles to Reassure Jittery Stock Traders</td>\n",
              "    </tr>\n",
              "    <tr>\n",
              "      <th>5710</th>\n",
              "      <td>0.0</td>\n",
              "      <td>Putin spokesman: Doping charges appear unfounded</td>\n",
              "      <td>The Latest on Severe Weather: 1 Dead in Texas ...</td>\n",
              "    </tr>\n",
              "  </tbody>\n",
              "</table>\n",
              "</div>"
            ],
            "text/plain": [
              "      score  ...                                                 s2\n",
              "5706    0.0  ...         Merkel pledges NATO solidarity with Latvia\n",
              "5707    0.0  ...  Egyptian boat crash death toll rises as more b...\n",
              "5708    0.0  ...  President Xi: China to continue help to fight ...\n",
              "5709    0.0  ...  China Scrambles to Reassure Jittery Stock Traders\n",
              "5710    0.0  ...  The Latest on Severe Weather: 1 Dead in Texas ...\n",
              "\n",
              "[5 rows x 3 columns]"
            ]
          },
          "metadata": {
            "tags": []
          },
          "execution_count": 6
        }
      ]
    },
    {
      "cell_type": "markdown",
      "metadata": {
        "id": "6PISUb9NRDJK",
        "colab_type": "text"
      },
      "source": [
        "## 3. Comparing two sentence paires with SentenceBert as an example"
      ]
    },
    {
      "cell_type": "code",
      "metadata": {
        "tags": [],
        "id": "NczbzQGURDJM",
        "colab_type": "code",
        "colab": {
          "base_uri": "https://localhost:8080/",
          "height": 121
        },
        "outputId": "5b402e92-96c2-4aff-ac16-fd43cfda7942"
      },
      "source": [
        "s1 = train_df.loc[0][1]\n",
        "s2 = train_df.loc[0][2]\n",
        "s3 = train_df.loc[45][1]\n",
        "s4 = train_df.loc[45][2]\n",
        "\n",
        "print(f's1 = {s1}')\n",
        "print(f's2 = {s2}')\n",
        "print('\\n')\n",
        "print(f's3 = {s3}')\n",
        "print(f's4 = {s4}')"
      ],
      "execution_count": null,
      "outputs": [
        {
          "output_type": "stream",
          "text": [
            "s1 = A plane is taking off.\n",
            "s2 = An air plane is taking off.\n",
            "\n",
            "\n",
            "s3 = A man is playing the piano.\n",
            "s4 = A woman is playing the violin.\n"
          ],
          "name": "stdout"
        }
      ]
    },
    {
      "cell_type": "code",
      "metadata": {
        "tags": [],
        "id": "wxexQas4RDJW",
        "colab_type": "code",
        "colab": {
          "base_uri": "https://localhost:8080/",
          "height": 156
        },
        "outputId": "1b757897-6d81-4979-9a38-4ec1ea693ce1"
      },
      "source": [
        "s1_embedding = model.encode(s1)\n",
        "s2_embedding = model.encode(s2)\n",
        "s3_embedding = model.encode(s3)\n",
        "s4_embedding = model.encode(s4)\n",
        "\n",
        "print(f's1 vs s2 = {distance.cosine(s1_embedding,s2_embedding)}')\n",
        "print(f'Human score = {train_df.loc[0][0]}')\n",
        "print(f'SentenceBERT Score = {round((1-distance.cosine(s1_embedding,s2_embedding))*5,1)}')\n",
        "\n",
        "print(f's3 vs s4 = {distance.cosine(s3_embedding,s4_embedding)}')\n",
        "print(f'Human score = {train_df.loc[45][0]}')\n",
        "print(f'SentenceBERT Score = {round((1-distance.cosine(s3_embedding,s4_embedding))*5,1)}')\n",
        "\n",
        "print(f's1 vs s3 = {distance.cosine(s1_embedding,s3_embedding)}')\n",
        "print(f's1 vs s4 = {distance.cosine(s1_embedding,s4_embedding)}')"
      ],
      "execution_count": null,
      "outputs": [
        {
          "output_type": "stream",
          "text": [
            "s1 vs s2 = 0.017929434776306152\n",
            "Human score = 5.0\n",
            "SentenceBERT Score = 4.9\n",
            "s3 vs s4 = 0.7746940553188324\n",
            "Human score = 1.0\n",
            "SentenceBERT Score = 1.1\n",
            "s1 vs s3 = 0.8804589882493019\n",
            "s1 vs s4 = 0.8903428316116333\n"
          ],
          "name": "stdout"
        }
      ]
    },
    {
      "cell_type": "markdown",
      "metadata": {
        "id": "-p8u7aNcRDJe",
        "colab_type": "text"
      },
      "source": [
        "## 4. Getting the human scores and the SentenceBERT scores and comparing them"
      ]
    },
    {
      "cell_type": "markdown",
      "metadata": {
        "id": "LfAId4S3RDJf",
        "colab_type": "text"
      },
      "source": [
        "### 4.1 Load the data and preprocess it"
      ]
    },
    {
      "cell_type": "code",
      "metadata": {
        "id": "tSwIupk7RDJg",
        "colab_type": "code",
        "colab": {}
      },
      "source": [
        "dev_df = pd.pandas.read_table(\n",
        "    'stsbenchmark/sts-dev.csv',\n",
        "    error_bad_lines=False,\n",
        "    skip_blank_lines=True,\n",
        "    usecols=[4, 5, 6],\n",
        "    names=[\"score\", \"s1\", \"s2\"])\n",
        "\n",
        "# removes punctuation from sentences\n",
        "tokenizer = nltk.RegexpTokenizer(r\"\\w+\")\n",
        "\n",
        "# For some reason some of the sentences were \"float\" datatypes \n",
        "dev_df['s1'] = dev_df['s1'].astype(str)\n",
        "dev_df['s2'] = dev_df['s2'].astype(str)\n",
        "\n",
        "\n",
        "dev_df['s1'] = dev_df.apply(lambda row: tokenizer.tokenize(row['s1']), axis=1)\n",
        "dev_df['s1'] = dev_df.apply(lambda row: ' '.join(row['s1']).lower() , axis=1)\n",
        "\n",
        "dev_df['s2'] = dev_df.apply(lambda row: tokenizer.tokenize(row['s2']), axis=1)\n",
        "dev_df['s2'] = dev_df.apply(lambda row: ' '.join(row['s2']).lower() , axis=1)"
      ],
      "execution_count": null,
      "outputs": []
    },
    {
      "cell_type": "code",
      "metadata": {
        "id": "qaRvcZ3ARDJn",
        "colab_type": "code",
        "colab": {
          "base_uri": "https://localhost:8080/",
          "height": 206
        },
        "outputId": "f3e885d9-5d40-4292-f115-951d572a3b2f"
      },
      "source": [
        "dev_df.head()"
      ],
      "execution_count": null,
      "outputs": [
        {
          "output_type": "execute_result",
          "data": {
            "text/html": [
              "<div>\n",
              "<style scoped>\n",
              "    .dataframe tbody tr th:only-of-type {\n",
              "        vertical-align: middle;\n",
              "    }\n",
              "\n",
              "    .dataframe tbody tr th {\n",
              "        vertical-align: top;\n",
              "    }\n",
              "\n",
              "    .dataframe thead th {\n",
              "        text-align: right;\n",
              "    }\n",
              "</style>\n",
              "<table border=\"1\" class=\"dataframe\">\n",
              "  <thead>\n",
              "    <tr style=\"text-align: right;\">\n",
              "      <th></th>\n",
              "      <th>score</th>\n",
              "      <th>s1</th>\n",
              "      <th>s2</th>\n",
              "    </tr>\n",
              "  </thead>\n",
              "  <tbody>\n",
              "    <tr>\n",
              "      <th>0</th>\n",
              "      <td>5.00</td>\n",
              "      <td>a man with a hard hat is dancing</td>\n",
              "      <td>a man wearing a hard hat is dancing</td>\n",
              "    </tr>\n",
              "    <tr>\n",
              "      <th>1</th>\n",
              "      <td>4.75</td>\n",
              "      <td>a young child is riding a horse</td>\n",
              "      <td>a child is riding a horse</td>\n",
              "    </tr>\n",
              "    <tr>\n",
              "      <th>2</th>\n",
              "      <td>5.00</td>\n",
              "      <td>a man is feeding a mouse to a snake</td>\n",
              "      <td>the man is feeding a mouse to the snake</td>\n",
              "    </tr>\n",
              "    <tr>\n",
              "      <th>3</th>\n",
              "      <td>2.40</td>\n",
              "      <td>a woman is playing the guitar</td>\n",
              "      <td>a man is playing guitar</td>\n",
              "    </tr>\n",
              "    <tr>\n",
              "      <th>4</th>\n",
              "      <td>2.75</td>\n",
              "      <td>a woman is playing the flute</td>\n",
              "      <td>a man is playing a flute</td>\n",
              "    </tr>\n",
              "  </tbody>\n",
              "</table>\n",
              "</div>"
            ],
            "text/plain": [
              "   score  ...                                       s2\n",
              "0   5.00  ...      a man wearing a hard hat is dancing\n",
              "1   4.75  ...                a child is riding a horse\n",
              "2   5.00  ...  the man is feeding a mouse to the snake\n",
              "3   2.40  ...                  a man is playing guitar\n",
              "4   2.75  ...                 a man is playing a flute\n",
              "\n",
              "[5 rows x 3 columns]"
            ]
          },
          "metadata": {
            "tags": []
          },
          "execution_count": 10
        }
      ]
    },
    {
      "cell_type": "markdown",
      "metadata": {
        "id": "Ldezx2-qRDJu",
        "colab_type": "text"
      },
      "source": [
        "### 4.2 Get the scores and normalize them"
      ]
    },
    {
      "cell_type": "code",
      "metadata": {
        "id": "7k5WIvY_RDJw",
        "colab_type": "code",
        "colab": {}
      },
      "source": [
        "dev_scores = dev_df['score'].tolist()\n",
        "\n",
        "score_human = []\n",
        "\n",
        "for row in dev_scores:\n",
        "    score = row/5\n",
        "    score_human.append(score)"
      ],
      "execution_count": null,
      "outputs": []
    },
    {
      "cell_type": "code",
      "metadata": {
        "id": "2VZqHJv0RDJ2",
        "colab_type": "code",
        "colab": {}
      },
      "source": [
        "score_machine = []\n",
        "\n",
        "for row in dev_df.itertuples(index=False):\n",
        "    s1_embedding = model.encode(str(row[1]))\n",
        "    s2_embedding = model.encode(str(row[2]))\n",
        "    score = (1-distance.cosine(s1_embedding,s2_embedding))\n",
        "    score_machine.append(score)"
      ],
      "execution_count": null,
      "outputs": []
    },
    {
      "cell_type": "markdown",
      "metadata": {
        "id": "iuhKLlInRDJ8",
        "colab_type": "text"
      },
      "source": [
        "### 4.3 Compare human and fastText scores"
      ]
    },
    {
      "cell_type": "code",
      "metadata": {
        "id": "3nno3vroRDJ-",
        "colab_type": "code",
        "colab": {
          "base_uri": "https://localhost:8080/",
          "height": 34
        },
        "outputId": "c8f761d8-d26e-4377-e461-910a6ff1d108"
      },
      "source": [
        "from scipy.stats import pearsonr\n",
        "\n",
        "result, _ = pearsonr(score_machine, score_human)\n",
        "print('Pearsonr:', end=' ')\n",
        "print(\"%.1f\" % (result*100))"
      ],
      "execution_count": null,
      "outputs": [
        {
          "output_type": "stream",
          "text": [
            "Pearsonr: 87.4\n"
          ],
          "name": "stdout"
        }
      ]
    },
    {
      "cell_type": "markdown",
      "metadata": {
        "id": "uZ-vyePTEJVG",
        "colab_type": "text"
      },
      "source": [
        "## 5. Compare similarity between longer texts"
      ]
    },
    {
      "cell_type": "code",
      "metadata": {
        "id": "ko7tbMX0ENLN",
        "colab_type": "code",
        "colab": {}
      },
      "source": [
        "text1 = \"The public beta of macOS Big Sur, the next major release of Apple’s Mac operating system, is now available. The new update brings a big visual overhaul to macOS while also adding a number of brand-new enhancements. If you’re thinking about installing the macOS Big Sur public beta, be warned that it’s still, well, a beta. That means you could experience some unexpected bugs, and software you rely on may not work with the new OS just yet. Before you install Big Sur, make sure all of your important documents are backed up somewhere safe, and if at all possible, you should only install this on a secondary Mac. But if you do roll the dice and install the Big Sur beta, you’ll immediately see that it looks much different than previous versions of macOS, as Apple has made significant design changes across the entire operating system. Windows have a whole lot more white, for example (unless you’re using dark mode, in which case, there’s still a lot of black). Apple’s app icons have received a major facelift and are now rounded squares, like iOS’s app icons. And the menu bar is now translucent, blending into your wallpaper. In Big Sur, Apple has added a dedicated Control Center, like what iOS has had for years, making it easy to manage items like your Wi-Fi and Bluetooth connections and the display brightness and volume of your Mac, all in one place. And Notification Center is no longer two separate panels for notifications and widgets; it’s now combined into one. If you’re a Safari user, you’ll notice some big changes, too. You can now set a customized start page, letting you add things like your favorites, frequently visited websites, and even a background image of your choice. Tabs get some improvements as well: favicons are turned on by default, and when you hover your mouse over a tab, it shows a preview of that webpage. And like iOS 14, Safari in macOS Big Sur offers what Apple calls a Privacy Report, which shows you what trackers the browser has blocked for you. Messages is also getting some much-needed improvements in Big Sur. You can finally send the message effects like the ones on iOS, meaning you can send virtual confetti, balloons, lasers, and more to your contacts (though only if they’re also on iMessage). Some of the new updates to Messages on iOS 14 are coming to Big Sur, too, such as pinned conversations and inline replies. There’s a bunch more packed into Big Sur that I didn’t touch on here, such as improvements to Maps, a suite of new system sounds, and the return of the Mac’s iconic startup chime. So if you do install the Big Sur public beta, there’s a fair amount to dig into. I’ve been running the Big Sur developer betas on my personal MacBook Air purchased in 2014 without too many issues, and I like a lot of the changes, especially to Messages. But I pretty much only use Apple-made apps on that computer, so I can’t really speak to how other apps you might rely on will run. If you decide to install the public beta, just know that things may not work like you expect them to just yet.\" \n",
        "# https://www.theverge.com/2020/8/6/21356413/apple-macos-big-sur-public-beta-now-available\n",
        "\n",
        "text2 = \"Apple today seeded the first beta of the upcoming macOS 11 Big Sur update to its public beta testing group, allowing non-developers to give the software a try ahead of its public release this fall. Beta testers who signed up for Apple's beta testing program can download the macOS Big Sur beta through the Software Update mechanism in System Preferences after installing the proper profile. Mac users who want to be a part of Apple's beta testing program can sign up to participate on the beta website, which gives users access to iOS, macOS, watchOS, and tvOS betas. Potential beta testers should make a full backup before installing ‌macOS Big Sur‌, and it may not be wise to install the update on a primary machine because betas can be unstable. macOS Big Sur introduces a refined design for the macOS operating system, which is more similar to iOS but immediately familiar to Mac users with tweaks to window design, color palette, app icons, system sounds, menu bars, and sidebars. The update brings Control Center to the Mac for the first time, providing quicker access to system controls for things like volume, keyboard brightness, screen brightness, Wi-Fi connection, and more. An updated Notification Center includes more interactive notifications and redesigned widgets that mirror the new ‌widgets‌ in iOS 14. Notifications are now grouped by app, and you can customize which ‌widgets‌ show up. Safari has a new customizable start page, built-in translation, and a Privacy Report feature that lets you know which trackers each website is using to follow you across the web. There's a new Mac App Store category for extensions, and you can now control the specific sites that extensions are able to work with for more privacy. The Messages app for Mac has been overhauled to bring it more in line with the Messages app for iOS and it supports features like pinned conversations, mentions, inline replies, Messages effects, and Memoji creation and Memoji stickers. Search is also better to make it easier to find old conversations, photos, links, and more. A redesigned Maps app in macOS Big Sur adds support for Look Around, indoor maps, Guides, and Shared ETA updates, plus it can be used to generate cycling routes and routes with charging stops for electric vehicles, which can be sent to iPhone. There are also smaller updates for apps like Photos, Music, and Home, with a full list of everything new in macOS Big Sur available in our roundup.\" \n",
        "# https://www.macrumors.com/2020/08/06/macos-big-sur-public-beta/\n",
        "\n",
        "text3 = \"Earth, the Moon and Mars come into alignment this weekend. So far this summer has been all about super-bright Jupiter and, just 8º away, ringed planet Saturn, which have been dominating the southwestern night sky after dark. This weekend it’s the turn of Mars, as the waning Moon passes close to the red planet. Three spacecraft are on their way to Mars right now, and it’s also a great time to admire it. Mars is now creeping towards opposition in October, the point in its orbit when it’s closest to Earth, so as big and bright as it gets. It’s already getting visibly bigger and brighter with every passing night. Mars is rising earlier each evening, and this weekend is now in the sky before midnight, with a 65% illuminated waning gibbous Moon in tow. Stargazers call this event—when two celestial bodies appear to pass close to each other—a conjunction. How to see Mars and the Moon in conjunction on Saturday, August 8, 202 Look to the east around midnight on Saturday going into Sunday and you’ll easily find a waning gibbous Moon. Only those in North America will see the closest conjunction, at around 4:00 a.m. EDT on the morning of Sunday, August 9.  The Moon will be close to Mars on Saturday night through Sunday morning. You could even try to catch the Moon at moonrise—the most beautiful time to observe our satellite—by consulting this Moon calculator to get times for your exact location. In doing so you’ll also witness a “Mars-rise.” Just 0.8º north of the Moon will be Mars, shining at magnitude -1.3. That’s significantly brighter than any stars, so Mars will be obvious. The conjunction of two of the night sky’s top sights isn’t that rare, but there are few more pleasing celestial sights to unaided naked eyes than a big Moon passing a bright, red planet. Wishing you clear skies and wide eyes.\" \n",
        "# https://www.forbes.com/sites/jamiecartereurope/2020/08/05/mars-and-the-moon-will-align-this-friday-heres-when-and-where-you-can-see-a-marvellous-mars-rise/#23a345516c4d"
      ],
      "execution_count": 3,
      "outputs": []
    },
    {
      "cell_type": "code",
      "metadata": {
        "id": "XlZc3v0eEXzt",
        "colab_type": "code",
        "colab": {
          "base_uri": "https://localhost:8080/",
          "height": 86
        },
        "outputId": "bc1df516-ce35-4aa9-aae9-8944be0f45fe"
      },
      "source": [
        "text1_embedding = model.encode(text1)\n",
        "text2_embedding = model.encode(text2)\n",
        "text3_embedding = model.encode(text3)\n",
        "\n",
        "\n",
        "print(f'text1 vs text2 = {distance.cosine(text1_embedding,text2_embedding)}')\n",
        "print(f'SentenceBERT Score = {round((1-distance.cosine(text1_embedding,text2_embedding))*5,1)}')\n",
        "\n",
        "print(f'text1 vs text3 = {distance.cosine(text1_embedding,text3_embedding)}')\n",
        "print(f'SentenceBERT Score = {round((1-distance.cosine(text1_embedding,text3_embedding))*5,1)}')\n",
        "\n"
      ],
      "execution_count": 4,
      "outputs": [
        {
          "output_type": "stream",
          "text": [
            "text1 vs text2 = 0.2723304033279419\n",
            "SentenceBERT Score = 3.6\n",
            "text1 vs text3 = 0.7658985704183578\n",
            "SentenceBERT Score = 1.2\n"
          ],
          "name": "stdout"
        }
      ]
    }
  ]
}