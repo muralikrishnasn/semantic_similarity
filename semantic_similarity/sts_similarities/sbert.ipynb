{
  "nbformat": 4,
  "nbformat_minor": 0,
  "metadata": {
    "language_info": {
      "codemirror_mode": {
        "name": "ipython",
        "version": 3
      },
      "file_extension": ".py",
      "mimetype": "text/x-python",
      "name": "python",
      "nbconvert_exporter": "python",
      "pygments_lexer": "ipython3",
      "version": 3
    },
    "orig_nbformat": 2,
    "kernelspec": {
      "name": "python_defaultSpec_1596035153200",
      "display_name": "Python 3.7.7 64-bit ('anaconda3': virtualenv)"
    },
    "colab": {
      "name": "bert.ipynb",
      "provenance": [],
      "toc_visible": true
    },
    "accelerator": "GPU"
  },
  "cells": [
    {
      "cell_type": "markdown",
      "metadata": {
        "id": "YpeTuGgiRDIQ",
        "colab_type": "text"
      },
      "source": [
        "# Testing SentenceBERT for semantic similarity"
      ]
    },
    {
      "cell_type": "markdown",
      "metadata": {
        "id": "3VYQhfUTRDIV",
        "colab_type": "text"
      },
      "source": [
        "* https://medium.com/analytics-vidhya/semantic-similarity-in-sentences-and-bert-e8d34f5a4677\n",
        "* https://towardsdatascience.com/word-embedding-using-bert-in-python-dd5a86c00342\n",
        "* https://github.com/huggingface/transformers"
      ]
    },
    {
      "cell_type": "markdown",
      "metadata": {
        "id": "sm4zSBNRRDIY",
        "colab_type": "text"
      },
      "source": [
        "Install hugginface transformers and sentence-transformers"
      ]
    },
    {
      "cell_type": "code",
      "metadata": {
        "tags": [],
        "id": "TOMXidlURDIa",
        "colab_type": "code",
        "colab": {}
      },
      "source": [
        "!pip install transformers # https://github.com/huggingface/transformers\n",
        "!pip install -U sentence-transformers # https://github.com/UKPLab/sentence-transformers"
      ],
      "execution_count": null,
      "outputs": []
    },
    {
      "cell_type": "code",
      "metadata": {
        "tags": [],
        "id": "38SDBrm8RDIq",
        "colab_type": "code",
        "colab": {
          "base_uri": "https://localhost:8080/",
          "height": 34
        },
        "outputId": "930d5b45-2e87-49c6-b700-9072635488bd"
      },
      "source": [
        "import pandas as pd\n",
        "import numpy as np\n",
        "import torch\n",
        "\n",
        "from sentence_transformers import SentenceTransformer\n",
        "from scipy.spatial import distance\n",
        "import nltk\n",
        "\n",
        "model = SentenceTransformer('bert-large-nli-stsb-mean-tokens') # Load the BERT model. Semantic Textual Similarity models are available https://github.com/UKPLab/sentence-transformers/blob/master/docs/pretrained-models/sts-models.md"
      ],
      "execution_count": 2,
      "outputs": [
        {
          "output_type": "stream",
          "text": [
            "100%|██████████| 1.24G/1.24G [01:05<00:00, 19.0MB/s]\n"
          ],
          "name": "stderr"
        }
      ]
    },
    {
      "cell_type": "markdown",
      "metadata": {
        "id": "rou4NPPZRDIz",
        "colab_type": "text"
      },
      "source": [
        "## 1. Load the sts-benchmark data and remove lines that contain errors."
      ]
    },
    {
      "cell_type": "code",
      "metadata": {
        "id": "u5ZGReh5RDI1",
        "colab_type": "code",
        "colab": {}
      },
      "source": [
        "train_df = pd.pandas.read_table(\n",
        "    'stsbenchmark/sts-train.csv',\n",
        "    error_bad_lines=False,\n",
        "    skip_blank_lines=True,\n",
        "    usecols=[4, 5, 6],\n",
        "    names=[\"score\", \"s1\", \"s2\"])"
      ],
      "execution_count": null,
      "outputs": []
    },
    {
      "cell_type": "markdown",
      "metadata": {
        "id": "uYj2k4K2RDI-",
        "colab_type": "text"
      },
      "source": [
        "## 2. A quick look at the dataset we are using"
      ]
    },
    {
      "cell_type": "code",
      "metadata": {
        "tags": [],
        "id": "q78HftpURDJA",
        "colab_type": "code",
        "colab": {
          "base_uri": "https://localhost:8080/",
          "height": 206
        },
        "outputId": "82215151-7028-4999-f8a8-6218e13de404"
      },
      "source": [
        "train_df.head()"
      ],
      "execution_count": null,
      "outputs": [
        {
          "output_type": "execute_result",
          "data": {
            "text/html": [
              "<div>\n",
              "<style scoped>\n",
              "    .dataframe tbody tr th:only-of-type {\n",
              "        vertical-align: middle;\n",
              "    }\n",
              "\n",
              "    .dataframe tbody tr th {\n",
              "        vertical-align: top;\n",
              "    }\n",
              "\n",
              "    .dataframe thead th {\n",
              "        text-align: right;\n",
              "    }\n",
              "</style>\n",
              "<table border=\"1\" class=\"dataframe\">\n",
              "  <thead>\n",
              "    <tr style=\"text-align: right;\">\n",
              "      <th></th>\n",
              "      <th>score</th>\n",
              "      <th>s1</th>\n",
              "      <th>s2</th>\n",
              "    </tr>\n",
              "  </thead>\n",
              "  <tbody>\n",
              "    <tr>\n",
              "      <th>0</th>\n",
              "      <td>5.00</td>\n",
              "      <td>A plane is taking off.</td>\n",
              "      <td>An air plane is taking off.</td>\n",
              "    </tr>\n",
              "    <tr>\n",
              "      <th>1</th>\n",
              "      <td>3.80</td>\n",
              "      <td>A man is playing a large flute.</td>\n",
              "      <td>A man is playing a flute.</td>\n",
              "    </tr>\n",
              "    <tr>\n",
              "      <th>2</th>\n",
              "      <td>3.80</td>\n",
              "      <td>A man is spreading shreded cheese on a pizza.</td>\n",
              "      <td>A man is spreading shredded cheese on an uncoo...</td>\n",
              "    </tr>\n",
              "    <tr>\n",
              "      <th>3</th>\n",
              "      <td>2.60</td>\n",
              "      <td>Three men are playing chess.</td>\n",
              "      <td>Two men are playing chess.</td>\n",
              "    </tr>\n",
              "    <tr>\n",
              "      <th>4</th>\n",
              "      <td>4.25</td>\n",
              "      <td>A man is playing the cello.</td>\n",
              "      <td>A man seated is playing the cello.</td>\n",
              "    </tr>\n",
              "  </tbody>\n",
              "</table>\n",
              "</div>"
            ],
            "text/plain": [
              "   score  ...                                                 s2\n",
              "0   5.00  ...                        An air plane is taking off.\n",
              "1   3.80  ...                          A man is playing a flute.\n",
              "2   3.80  ...  A man is spreading shredded cheese on an uncoo...\n",
              "3   2.60  ...                         Two men are playing chess.\n",
              "4   4.25  ...                 A man seated is playing the cello.\n",
              "\n",
              "[5 rows x 3 columns]"
            ]
          },
          "metadata": {
            "tags": []
          },
          "execution_count": 5
        }
      ]
    },
    {
      "cell_type": "code",
      "metadata": {
        "id": "AemmfxHTOmFk",
        "colab_type": "code",
        "colab": {
          "base_uri": "https://localhost:8080/",
          "height": 206
        },
        "outputId": "6812cb16-cc63-4d94-f74f-c64b18f4cf8a"
      },
      "source": [
        "train_df.tail()"
      ],
      "execution_count": null,
      "outputs": [
        {
          "output_type": "execute_result",
          "data": {
            "text/html": [
              "<div>\n",
              "<style scoped>\n",
              "    .dataframe tbody tr th:only-of-type {\n",
              "        vertical-align: middle;\n",
              "    }\n",
              "\n",
              "    .dataframe tbody tr th {\n",
              "        vertical-align: top;\n",
              "    }\n",
              "\n",
              "    .dataframe thead th {\n",
              "        text-align: right;\n",
              "    }\n",
              "</style>\n",
              "<table border=\"1\" class=\"dataframe\">\n",
              "  <thead>\n",
              "    <tr style=\"text-align: right;\">\n",
              "      <th></th>\n",
              "      <th>score</th>\n",
              "      <th>s1</th>\n",
              "      <th>s2</th>\n",
              "    </tr>\n",
              "  </thead>\n",
              "  <tbody>\n",
              "    <tr>\n",
              "      <th>5706</th>\n",
              "      <td>0.0</td>\n",
              "      <td>Severe Gales As Storm Clodagh Hits Britain</td>\n",
              "      <td>Merkel pledges NATO solidarity with Latvia</td>\n",
              "    </tr>\n",
              "    <tr>\n",
              "      <th>5707</th>\n",
              "      <td>0.0</td>\n",
              "      <td>Dozens of Egyptians hostages taken by Libyan t...</td>\n",
              "      <td>Egyptian boat crash death toll rises as more b...</td>\n",
              "    </tr>\n",
              "    <tr>\n",
              "      <th>5708</th>\n",
              "      <td>0.0</td>\n",
              "      <td>President heading to Bahrain</td>\n",
              "      <td>President Xi: China to continue help to fight ...</td>\n",
              "    </tr>\n",
              "    <tr>\n",
              "      <th>5709</th>\n",
              "      <td>0.0</td>\n",
              "      <td>China, India vow to further bilateral ties</td>\n",
              "      <td>China Scrambles to Reassure Jittery Stock Traders</td>\n",
              "    </tr>\n",
              "    <tr>\n",
              "      <th>5710</th>\n",
              "      <td>0.0</td>\n",
              "      <td>Putin spokesman: Doping charges appear unfounded</td>\n",
              "      <td>The Latest on Severe Weather: 1 Dead in Texas ...</td>\n",
              "    </tr>\n",
              "  </tbody>\n",
              "</table>\n",
              "</div>"
            ],
            "text/plain": [
              "      score  ...                                                 s2\n",
              "5706    0.0  ...         Merkel pledges NATO solidarity with Latvia\n",
              "5707    0.0  ...  Egyptian boat crash death toll rises as more b...\n",
              "5708    0.0  ...  President Xi: China to continue help to fight ...\n",
              "5709    0.0  ...  China Scrambles to Reassure Jittery Stock Traders\n",
              "5710    0.0  ...  The Latest on Severe Weather: 1 Dead in Texas ...\n",
              "\n",
              "[5 rows x 3 columns]"
            ]
          },
          "metadata": {
            "tags": []
          },
          "execution_count": 6
        }
      ]
    },
    {
      "cell_type": "markdown",
      "metadata": {
        "id": "6PISUb9NRDJK",
        "colab_type": "text"
      },
      "source": [
        "## 3. Comparing two sentence paires with SentenceBert as an example"
      ]
    },
    {
      "cell_type": "code",
      "metadata": {
        "tags": [],
        "id": "NczbzQGURDJM",
        "colab_type": "code",
        "colab": {
          "base_uri": "https://localhost:8080/",
          "height": 121
        },
        "outputId": "5b402e92-96c2-4aff-ac16-fd43cfda7942"
      },
      "source": [
        "s1 = train_df.loc[0][1]\n",
        "s2 = train_df.loc[0][2]\n",
        "s3 = train_df.loc[45][1]\n",
        "s4 = train_df.loc[45][2]\n",
        "\n",
        "print(f's1 = {s1}')\n",
        "print(f's2 = {s2}')\n",
        "print('\\n')\n",
        "print(f's3 = {s3}')\n",
        "print(f's4 = {s4}')"
      ],
      "execution_count": null,
      "outputs": [
        {
          "output_type": "stream",
          "text": [
            "s1 = A plane is taking off.\n",
            "s2 = An air plane is taking off.\n",
            "\n",
            "\n",
            "s3 = A man is playing the piano.\n",
            "s4 = A woman is playing the violin.\n"
          ],
          "name": "stdout"
        }
      ]
    },
    {
      "cell_type": "code",
      "metadata": {
        "tags": [],
        "id": "wxexQas4RDJW",
        "colab_type": "code",
        "colab": {
          "base_uri": "https://localhost:8080/",
          "height": 156
        },
        "outputId": "1b757897-6d81-4979-9a38-4ec1ea693ce1"
      },
      "source": [
        "s1_embedding = model.encode(s1)\n",
        "s2_embedding = model.encode(s2)\n",
        "s3_embedding = model.encode(s3)\n",
        "s4_embedding = model.encode(s4)\n",
        "\n",
        "print(f's1 vs s2 = {distance.cosine(s1_embedding,s2_embedding)}')\n",
        "print(f'Human score = {train_df.loc[0][0]}')\n",
        "print(f'SentenceBERT Score = {round((1-distance.cosine(s1_embedding,s2_embedding))*5,1)}')\n",
        "\n",
        "print(f's3 vs s4 = {distance.cosine(s3_embedding,s4_embedding)}')\n",
        "print(f'Human score = {train_df.loc[45][0]}')\n",
        "print(f'SentenceBERT Score = {round((1-distance.cosine(s3_embedding,s4_embedding))*5,1)}')\n",
        "\n",
        "print(f's1 vs s3 = {distance.cosine(s1_embedding,s3_embedding)}')\n",
        "print(f's1 vs s4 = {distance.cosine(s1_embedding,s4_embedding)}')"
      ],
      "execution_count": null,
      "outputs": [
        {
          "output_type": "stream",
          "text": [
            "s1 vs s2 = 0.017929434776306152\n",
            "Human score = 5.0\n",
            "SentenceBERT Score = 4.9\n",
            "s3 vs s4 = 0.7746940553188324\n",
            "Human score = 1.0\n",
            "SentenceBERT Score = 1.1\n",
            "s1 vs s3 = 0.8804589882493019\n",
            "s1 vs s4 = 0.8903428316116333\n"
          ],
          "name": "stdout"
        }
      ]
    },
    {
      "cell_type": "markdown",
      "metadata": {
        "id": "-p8u7aNcRDJe",
        "colab_type": "text"
      },
      "source": [
        "## 4. Getting the human scores and the SentenceBERT scores and comparing them"
      ]
    },
    {
      "cell_type": "markdown",
      "metadata": {
        "id": "LfAId4S3RDJf",
        "colab_type": "text"
      },
      "source": [
        "### 4.1 Load the data and preprocess it"
      ]
    },
    {
      "cell_type": "code",
      "metadata": {
        "id": "tSwIupk7RDJg",
        "colab_type": "code",
        "colab": {}
      },
      "source": [
        "dev_df = pd.pandas.read_table(\n",
        "    'stsbenchmark/sts-dev.csv',\n",
        "    error_bad_lines=False,\n",
        "    skip_blank_lines=True,\n",
        "    usecols=[4, 5, 6],\n",
        "    names=[\"score\", \"s1\", \"s2\"])\n",
        "\n",
        "# removes punctuation from sentences\n",
        "tokenizer = nltk.RegexpTokenizer(r\"\\w+\")\n",
        "\n",
        "# For some reason some of the sentences were \"float\" datatypes \n",
        "dev_df['s1'] = dev_df['s1'].astype(str)\n",
        "dev_df['s2'] = dev_df['s2'].astype(str)\n",
        "\n",
        "\n",
        "dev_df['s1'] = dev_df.apply(lambda row: tokenizer.tokenize(row['s1']), axis=1)\n",
        "dev_df['s1'] = dev_df.apply(lambda row: ' '.join(row['s1']).lower() , axis=1)\n",
        "\n",
        "dev_df['s2'] = dev_df.apply(lambda row: tokenizer.tokenize(row['s2']), axis=1)\n",
        "dev_df['s2'] = dev_df.apply(lambda row: ' '.join(row['s2']).lower() , axis=1)"
      ],
      "execution_count": null,
      "outputs": []
    },
    {
      "cell_type": "code",
      "metadata": {
        "id": "qaRvcZ3ARDJn",
        "colab_type": "code",
        "colab": {
          "base_uri": "https://localhost:8080/",
          "height": 206
        },
        "outputId": "f3e885d9-5d40-4292-f115-951d572a3b2f"
      },
      "source": [
        "dev_df.head()"
      ],
      "execution_count": null,
      "outputs": [
        {
          "output_type": "execute_result",
          "data": {
            "text/html": [
              "<div>\n",
              "<style scoped>\n",
              "    .dataframe tbody tr th:only-of-type {\n",
              "        vertical-align: middle;\n",
              "    }\n",
              "\n",
              "    .dataframe tbody tr th {\n",
              "        vertical-align: top;\n",
              "    }\n",
              "\n",
              "    .dataframe thead th {\n",
              "        text-align: right;\n",
              "    }\n",
              "</style>\n",
              "<table border=\"1\" class=\"dataframe\">\n",
              "  <thead>\n",
              "    <tr style=\"text-align: right;\">\n",
              "      <th></th>\n",
              "      <th>score</th>\n",
              "      <th>s1</th>\n",
              "      <th>s2</th>\n",
              "    </tr>\n",
              "  </thead>\n",
              "  <tbody>\n",
              "    <tr>\n",
              "      <th>0</th>\n",
              "      <td>5.00</td>\n",
              "      <td>a man with a hard hat is dancing</td>\n",
              "      <td>a man wearing a hard hat is dancing</td>\n",
              "    </tr>\n",
              "    <tr>\n",
              "      <th>1</th>\n",
              "      <td>4.75</td>\n",
              "      <td>a young child is riding a horse</td>\n",
              "      <td>a child is riding a horse</td>\n",
              "    </tr>\n",
              "    <tr>\n",
              "      <th>2</th>\n",
              "      <td>5.00</td>\n",
              "      <td>a man is feeding a mouse to a snake</td>\n",
              "      <td>the man is feeding a mouse to the snake</td>\n",
              "    </tr>\n",
              "    <tr>\n",
              "      <th>3</th>\n",
              "      <td>2.40</td>\n",
              "      <td>a woman is playing the guitar</td>\n",
              "      <td>a man is playing guitar</td>\n",
              "    </tr>\n",
              "    <tr>\n",
              "      <th>4</th>\n",
              "      <td>2.75</td>\n",
              "      <td>a woman is playing the flute</td>\n",
              "      <td>a man is playing a flute</td>\n",
              "    </tr>\n",
              "  </tbody>\n",
              "</table>\n",
              "</div>"
            ],
            "text/plain": [
              "   score  ...                                       s2\n",
              "0   5.00  ...      a man wearing a hard hat is dancing\n",
              "1   4.75  ...                a child is riding a horse\n",
              "2   5.00  ...  the man is feeding a mouse to the snake\n",
              "3   2.40  ...                  a man is playing guitar\n",
              "4   2.75  ...                 a man is playing a flute\n",
              "\n",
              "[5 rows x 3 columns]"
            ]
          },
          "metadata": {
            "tags": []
          },
          "execution_count": 10
        }
      ]
    },
    {
      "cell_type": "markdown",
      "metadata": {
        "id": "Ldezx2-qRDJu",
        "colab_type": "text"
      },
      "source": [
        "### 4.2 Get the scores and normalize them"
      ]
    },
    {
      "cell_type": "code",
      "metadata": {
        "id": "7k5WIvY_RDJw",
        "colab_type": "code",
        "colab": {}
      },
      "source": [
        "dev_scores = dev_df['score'].tolist()\n",
        "\n",
        "score_human = []\n",
        "\n",
        "for row in dev_scores:\n",
        "    score = row/5\n",
        "    score_human.append(score)"
      ],
      "execution_count": null,
      "outputs": []
    },
    {
      "cell_type": "code",
      "metadata": {
        "id": "2VZqHJv0RDJ2",
        "colab_type": "code",
        "colab": {}
      },
      "source": [
        "score_machine = []\n",
        "\n",
        "for row in dev_df.itertuples(index=False):\n",
        "    s1_embedding = model.encode(str(row[1]))\n",
        "    s2_embedding = model.encode(str(row[2]))\n",
        "    score = (1-distance.cosine(s1_embedding,s2_embedding))\n",
        "    score_machine.append(score)"
      ],
      "execution_count": null,
      "outputs": []
    },
    {
      "cell_type": "markdown",
      "metadata": {
        "id": "iuhKLlInRDJ8",
        "colab_type": "text"
      },
      "source": [
        "### 4.3 Compare human and fastText scores"
      ]
    },
    {
      "cell_type": "code",
      "metadata": {
        "id": "3nno3vroRDJ-",
        "colab_type": "code",
        "colab": {
          "base_uri": "https://localhost:8080/",
          "height": 34
        },
        "outputId": "c8f761d8-d26e-4377-e461-910a6ff1d108"
      },
      "source": [
        "from scipy.stats import pearsonr\n",
        "\n",
        "result, _ = pearsonr(score_machine, score_human)\n",
        "print('Pearsonr:', end=' ')\n",
        "print(\"%.1f\" % (result*100))"
      ],
      "execution_count": null,
      "outputs": [
        {
          "output_type": "stream",
          "text": [
            "Pearsonr: 87.4\n"
          ],
          "name": "stdout"
        }
      ]
    }
  ]
}