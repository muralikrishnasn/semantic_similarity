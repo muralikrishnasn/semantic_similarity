{
 "metadata": {
  "language_info": {
   "codemirror_mode": {
    "name": "ipython",
    "version": 3
   },
   "file_extension": ".py",
   "mimetype": "text/x-python",
   "name": "python",
   "nbconvert_exporter": "python",
   "pygments_lexer": "ipython3",
   "version": "3.8.3-final"
  },
  "orig_nbformat": 2,
  "kernelspec": {
   "name": "python3",
   "display_name": "Python 3"
  }
 },
 "nbformat": 4,
 "nbformat_minor": 2,
 "cells": [
  {
   "cell_type": "markdown",
   "metadata": {},
   "source": [
    "# Testing TF-IDF for semantic similarity\n",
    "\n",
    "We are using the scikit-learn [TfidfVectorizer](https://scikit-learn.org/stable/modules/generated/sklearn.feature_extraction.text.TfidfVectorizer.html)."
   ]
  },
  {
   "cell_type": "code",
   "execution_count": 1,
   "metadata": {},
   "outputs": [],
   "source": [
    "import pandas as pd\n",
    "import numpy as np\n",
    "import nltk\n",
    "\n",
    "from sklearn.feature_extraction.text import TfidfVectorizer\n",
    "from sklearn.metrics.pairwise import cosine_similarity"
   ]
  },
  {
   "cell_type": "markdown",
   "metadata": {},
   "source": [
    "## 1. Load the sts-benchmark data and remove lines that contain erros."
   ]
  },
  {
   "cell_type": "code",
   "execution_count": 2,
   "metadata": {},
   "outputs": [],
   "source": [
    "train_df = pd.pandas.read_table(\n",
    "    'stsbenchmark/sts-train.csv',\n",
    "    error_bad_lines=False,\n",
    "    skip_blank_lines=True,\n",
    "    usecols=[4, 5, 6],\n",
    "    names=[\"score\", \"s1\", \"s2\"])\n"
   ]
  },
  {
   "cell_type": "markdown",
   "metadata": {},
   "source": [
    "## 2. A quick look at the dataset we are using"
   ]
  },
  {
   "cell_type": "code",
   "execution_count": 3,
   "metadata": {
    "tags": []
   },
   "outputs": [
    {
     "output_type": "execute_result",
     "data": {
      "text/plain": "   score                                             s1  \\\n0   5.00                         A plane is taking off.   \n1   3.80                A man is playing a large flute.   \n2   3.80  A man is spreading shreded cheese on a pizza.   \n3   2.60                   Three men are playing chess.   \n4   4.25                    A man is playing the cello.   \n\n                                                  s2  \n0                        An air plane is taking off.  \n1                          A man is playing a flute.  \n2  A man is spreading shredded cheese on an uncoo...  \n3                         Two men are playing chess.  \n4                 A man seated is playing the cello.  ",
      "text/html": "<div>\n<style scoped>\n    .dataframe tbody tr th:only-of-type {\n        vertical-align: middle;\n    }\n\n    .dataframe tbody tr th {\n        vertical-align: top;\n    }\n\n    .dataframe thead th {\n        text-align: right;\n    }\n</style>\n<table border=\"1\" class=\"dataframe\">\n  <thead>\n    <tr style=\"text-align: right;\">\n      <th></th>\n      <th>score</th>\n      <th>s1</th>\n      <th>s2</th>\n    </tr>\n  </thead>\n  <tbody>\n    <tr>\n      <th>0</th>\n      <td>5.00</td>\n      <td>A plane is taking off.</td>\n      <td>An air plane is taking off.</td>\n    </tr>\n    <tr>\n      <th>1</th>\n      <td>3.80</td>\n      <td>A man is playing a large flute.</td>\n      <td>A man is playing a flute.</td>\n    </tr>\n    <tr>\n      <th>2</th>\n      <td>3.80</td>\n      <td>A man is spreading shreded cheese on a pizza.</td>\n      <td>A man is spreading shredded cheese on an uncoo...</td>\n    </tr>\n    <tr>\n      <th>3</th>\n      <td>2.60</td>\n      <td>Three men are playing chess.</td>\n      <td>Two men are playing chess.</td>\n    </tr>\n    <tr>\n      <th>4</th>\n      <td>4.25</td>\n      <td>A man is playing the cello.</td>\n      <td>A man seated is playing the cello.</td>\n    </tr>\n  </tbody>\n</table>\n</div>"
     },
     "metadata": {},
     "execution_count": 3
    }
   ],
   "source": [
    "train_df.head()"
   ]
  },
  {
   "cell_type": "code",
   "execution_count": 4,
   "metadata": {},
   "outputs": [
    {
     "output_type": "execute_result",
     "data": {
      "text/plain": "      score                                                 s1  \\\n5706    0.0         Severe Gales As Storm Clodagh Hits Britain   \n5707    0.0  Dozens of Egyptians hostages taken by Libyan t...   \n5708    0.0                       President heading to Bahrain   \n5709    0.0         China, India vow to further bilateral ties   \n5710    0.0   Putin spokesman: Doping charges appear unfounded   \n\n                                                     s2  \n5706         Merkel pledges NATO solidarity with Latvia  \n5707  Egyptian boat crash death toll rises as more b...  \n5708  President Xi: China to continue help to fight ...  \n5709  China Scrambles to Reassure Jittery Stock Traders  \n5710  The Latest on Severe Weather: 1 Dead in Texas ...  ",
      "text/html": "<div>\n<style scoped>\n    .dataframe tbody tr th:only-of-type {\n        vertical-align: middle;\n    }\n\n    .dataframe tbody tr th {\n        vertical-align: top;\n    }\n\n    .dataframe thead th {\n        text-align: right;\n    }\n</style>\n<table border=\"1\" class=\"dataframe\">\n  <thead>\n    <tr style=\"text-align: right;\">\n      <th></th>\n      <th>score</th>\n      <th>s1</th>\n      <th>s2</th>\n    </tr>\n  </thead>\n  <tbody>\n    <tr>\n      <th>5706</th>\n      <td>0.0</td>\n      <td>Severe Gales As Storm Clodagh Hits Britain</td>\n      <td>Merkel pledges NATO solidarity with Latvia</td>\n    </tr>\n    <tr>\n      <th>5707</th>\n      <td>0.0</td>\n      <td>Dozens of Egyptians hostages taken by Libyan t...</td>\n      <td>Egyptian boat crash death toll rises as more b...</td>\n    </tr>\n    <tr>\n      <th>5708</th>\n      <td>0.0</td>\n      <td>President heading to Bahrain</td>\n      <td>President Xi: China to continue help to fight ...</td>\n    </tr>\n    <tr>\n      <th>5709</th>\n      <td>0.0</td>\n      <td>China, India vow to further bilateral ties</td>\n      <td>China Scrambles to Reassure Jittery Stock Traders</td>\n    </tr>\n    <tr>\n      <th>5710</th>\n      <td>0.0</td>\n      <td>Putin spokesman: Doping charges appear unfounded</td>\n      <td>The Latest on Severe Weather: 1 Dead in Texas ...</td>\n    </tr>\n  </tbody>\n</table>\n</div>"
     },
     "metadata": {},
     "execution_count": 4
    }
   ],
   "source": [
    "train_df.tail()"
   ]
  },
  {
   "cell_type": "markdown",
   "metadata": {},
   "source": [
    "## 3. Comparing two sentence paires with TF-IDF as an example"
   ]
  },
  {
   "cell_type": "code",
   "execution_count": 5,
   "metadata": {
    "tags": []
   },
   "outputs": [
    {
     "output_type": "stream",
     "name": "stdout",
     "text": "s1 = A plane is taking off.\ns2 = An air plane is taking off.\n\n\ns3 = A man is playing the piano.\ns4 = A woman is playing the violin.\n"
    }
   ],
   "source": [
    "s1 = train_df.loc[0][1]\n",
    "s2 = train_df.loc[0][2]\n",
    "s3 = train_df.loc[45][1]\n",
    "s4 = train_df.loc[45][2]\n",
    "\n",
    "print(f's1 = {s1}')\n",
    "print(f's2 = {s2}')\n",
    "print('\\n')\n",
    "print(f's3 = {s3}')\n",
    "print(f's4 = {s4}')"
   ]
  },
  {
   "cell_type": "markdown",
   "metadata": {},
   "source": [
    "### 3.1 Fit the training data with TfidfVectorizer and create vectors for the sentence paires"
   ]
  },
  {
   "cell_type": "code",
   "execution_count": 7,
   "metadata": {
    "tags": []
   },
   "outputs": [
    {
     "output_type": "stream",
     "name": "stdout",
     "text": "s1 vs s2 = 0.8336193230302074\nHuman score = 5.0\nTF-IDF score = 4.2\ns3 vs s4 = 0.32724138555514726\nHuman score = 1.0\nTF-IDF score = 1.6\ns1 vs s3 = 0.0644466427434357\ns1 vs s4 = 0.057942445085567285\n"
    }
   ],
   "source": [
    "sentences = [] \n",
    "\n",
    "for row in train_df.itertuples(index=False):\n",
    "    sentences.extend((str(row[1]), str(row[2])))\n",
    "\n",
    "vectorizer = TfidfVectorizer() \n",
    "vectorizer.fit(sentences) \n",
    "\n",
    "sentence_vectors = vectorizer.transform([s1, s2, s3, s4])\n",
    "\n",
    "s1_vec = sentence_vectors[0]\n",
    "s2_vec = sentence_vectors[1]\n",
    "s3_vec = sentence_vectors[2]\n",
    "s4_vec = sentence_vectors[3]\n",
    "\n",
    "print(f's1 vs s2 = {cosine_similarity(s1_vec,s2_vec)[0][0]}')\n",
    "print(f'Human score = {train_df.loc[0][0]}')\n",
    "print(f'TF-IDF score = {round(cosine_similarity(s1_vec,s2_vec)[0][0]*5,1)}')\n",
    "\n",
    "print(f's3 vs s4 = {cosine_similarity(s3_vec,s4_vec)[0][0]}')\n",
    "print(f'Human score = {train_df.loc[45][0]}')\n",
    "print(f'TF-IDF score = {round(cosine_similarity(s3_vec,s4_vec)[0][0]*5,1)}')\n",
    "\n",
    "print(f's1 vs s3 = {cosine_similarity(s1_vec,s3_vec)[0][0]}')\n",
    "print(f's1 vs s4 = {cosine_similarity(s1_vec,s4_vec)[0][0]}')\n"
   ]
  },
  {
   "cell_type": "markdown",
   "metadata": {},
   "source": [
    "## 4. Getting the human score and the TF-IDF scores and comparing them"
   ]
  },
  {
   "cell_type": "markdown",
   "metadata": {},
   "source": [
    "### 4.1 Load the data and preprocess it"
   ]
  },
  {
   "cell_type": "code",
   "execution_count": 12,
   "metadata": {},
   "outputs": [],
   "source": [
    "dev_df = pd.pandas.read_table(\n",
    "    'stsbenchmark/sts-dev.csv',\n",
    "    error_bad_lines=False,\n",
    "    skip_blank_lines=True,\n",
    "    usecols=[4, 5, 6],\n",
    "    names=[\"score\", \"s1\", \"s2\"])\n",
    "\n",
    "# removes punctuation from sentences\n",
    "tokenizer = nltk.RegexpTokenizer(r\"\\w+\")\n",
    "\n",
    "# For some reason some of the sentences were \"float\" datatypes \n",
    "dev_df['s1'] = dev_df['s1'].astype(str)\n",
    "dev_df['s2'] = dev_df['s2'].astype(str)\n",
    "\n",
    "\n",
    "dev_df['s1'] = dev_df.apply(lambda row: tokenizer.tokenize(row['s1']), axis=1)\n",
    "dev_df['s1'] = dev_df.apply(lambda row: ' '.join(row['s1']).lower() , axis=1)\n",
    "\n",
    "dev_df['s2'] = dev_df.apply(lambda row: tokenizer.tokenize(row['s2']), axis=1)\n",
    "dev_df['s2'] = dev_df.apply(lambda row: ' '.join(row['s2']).lower() , axis=1)"
   ]
  },
  {
   "cell_type": "code",
   "execution_count": 13,
   "metadata": {},
   "outputs": [
    {
     "output_type": "execute_result",
     "data": {
      "text/plain": "   score                                   s1  \\\n0   5.00     a man with a hard hat is dancing   \n1   4.75      a young child is riding a horse   \n2   5.00  a man is feeding a mouse to a snake   \n3   2.40        a woman is playing the guitar   \n4   2.75         a woman is playing the flute   \n\n                                        s2  \n0      a man wearing a hard hat is dancing  \n1                a child is riding a horse  \n2  the man is feeding a mouse to the snake  \n3                  a man is playing guitar  \n4                 a man is playing a flute  ",
      "text/html": "<div>\n<style scoped>\n    .dataframe tbody tr th:only-of-type {\n        vertical-align: middle;\n    }\n\n    .dataframe tbody tr th {\n        vertical-align: top;\n    }\n\n    .dataframe thead th {\n        text-align: right;\n    }\n</style>\n<table border=\"1\" class=\"dataframe\">\n  <thead>\n    <tr style=\"text-align: right;\">\n      <th></th>\n      <th>score</th>\n      <th>s1</th>\n      <th>s2</th>\n    </tr>\n  </thead>\n  <tbody>\n    <tr>\n      <th>0</th>\n      <td>5.00</td>\n      <td>a man with a hard hat is dancing</td>\n      <td>a man wearing a hard hat is dancing</td>\n    </tr>\n    <tr>\n      <th>1</th>\n      <td>4.75</td>\n      <td>a young child is riding a horse</td>\n      <td>a child is riding a horse</td>\n    </tr>\n    <tr>\n      <th>2</th>\n      <td>5.00</td>\n      <td>a man is feeding a mouse to a snake</td>\n      <td>the man is feeding a mouse to the snake</td>\n    </tr>\n    <tr>\n      <th>3</th>\n      <td>2.40</td>\n      <td>a woman is playing the guitar</td>\n      <td>a man is playing guitar</td>\n    </tr>\n    <tr>\n      <th>4</th>\n      <td>2.75</td>\n      <td>a woman is playing the flute</td>\n      <td>a man is playing a flute</td>\n    </tr>\n  </tbody>\n</table>\n</div>"
     },
     "metadata": {},
     "execution_count": 13
    }
   ],
   "source": [
    "dev_df.head()"
   ]
  },
  {
   "cell_type": "markdown",
   "metadata": {},
   "source": [
    "### 4.2 Get the scores and normalize them"
   ]
  },
  {
   "cell_type": "code",
   "execution_count": 14,
   "metadata": {},
   "outputs": [],
   "source": [
    "dev_scores = dev_df['score'].tolist()\n",
    "\n",
    "score_human = []\n",
    "\n",
    "for row in dev_scores:\n",
    "    score = row/5\n",
    "    score_human.append(score)"
   ]
  },
  {
   "cell_type": "code",
   "execution_count": 15,
   "metadata": {},
   "outputs": [],
   "source": [
    "score_machine = []\n",
    "\n",
    "for row in dev_df.itertuples(index=False):\n",
    "    sentence_vectors = vectorizer.transform([str(row[1]), str(row[2])])\n",
    "    s1_vec = sentence_vectors[0]\n",
    "    s2_vec = sentence_vectors[1]\n",
    "    score = round(cosine_similarity(s1_vec,s2_vec)[0][0]*5,1)\n",
    "    score_machine.append(score)"
   ]
  },
  {
   "cell_type": "markdown",
   "metadata": {},
   "source": [
    "### 4.3 Compare human and TF-IDF scores"
   ]
  },
  {
   "cell_type": "code",
   "execution_count": 16,
   "metadata": {
    "tags": []
   },
   "outputs": [
    {
     "output_type": "stream",
     "name": "stdout",
     "text": "Pearsonr: 71.4\n"
    }
   ],
   "source": [
    "from scipy.stats import pearsonr\n",
    "\n",
    "result, _ = pearsonr(score_machine, score_human)\n",
    "print('Pearsonr:', end=' ')\n",
    "print(\"%.1f\" % (result*100))"
   ]
  }
 ]
}