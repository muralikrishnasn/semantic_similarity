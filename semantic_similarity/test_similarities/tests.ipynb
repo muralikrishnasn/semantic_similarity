{
 "metadata": {
  "language_info": {
   "codemirror_mode": {
    "name": "ipython",
    "version": 3
   },
   "file_extension": ".py",
   "mimetype": "text/x-python",
   "name": "python",
   "nbconvert_exporter": "python",
   "pygments_lexer": "ipython3",
   "version": "3.8.3-final"
  },
  "orig_nbformat": 2,
  "kernelspec": {
   "name": "python3",
   "display_name": "Python 3"
  }
 },
 "nbformat": 4,
 "nbformat_minor": 2,
 "cells": [
  {
   "cell_type": "code",
   "execution_count": null,
   "metadata": {},
   "outputs": [],
   "source": [
    "# LASER\n",
    "!python -m laserembeddings download-models\n",
    "\n",
    "# SENTENCE-BERT\n",
    "!pip install transformers # https://github.com/huggingface/transformers\n",
    "!pip install -U sentence-transformers # https://github.com/UKPLab/sentence-transformers\n",
    "\n",
    "# UNIVERSAL SENTENCE ENCODER\n",
    "!pip install tensorflow\n",
    "!pip install tensorflow_hub\n",
    "\n",
    "# FASTTEXT\n",
    "!pip install fasttext"
   ]
  },
  {
   "cell_type": "code",
   "execution_count": 1,
   "metadata": {
    "tags": []
   },
   "outputs": [],
   "source": [
    "from util import tfidf_vectorizer, fasttext_vectorizer, laser_embeddings, bert_embeddings, use_embeddings, cosine_similarity"
   ]
  },
  {
   "cell_type": "code",
   "execution_count": 2,
   "metadata": {},
   "outputs": [],
   "source": [
    "# Choose the model to use:\n",
    "# tfidf_vectorizer, fasttext_vectorizer, laser_embeddings, bert_embeddings, use_embeddings\n",
    "vectorize = bert_embeddings"
   ]
  },
  {
   "cell_type": "code",
   "execution_count": 35,
   "metadata": {
    "tags": []
   },
   "outputs": [],
   "source": [
    "##### 4 sentences with same meaning, but different structure and 4 sentences with same words as the first ones, but different meaning.\n",
    "same = [\"She angered me with her inappropriate comments, rumor-spreading, and disrespectfulness at the formal dinner table.\", \"She made me angry when she was rude at dinner.\", \"Her impoliteness, gossiping, and general lack of respect at dinner infuriated me.\", \"I was mad when she started spreading rumors, making inappropriate comments, and disrespecting other guests at our dinner.\"]\n",
    "\n",
    "different = [\"The company requires a formal dress code during work hours\", \"President Donald Trump called Joe Biden's running mate Kamala Harris 'angry' and 'mad'.\", \"The influenza is spreading from table surfaces in the restaurants.\", \"The Coffee Test is one of the tests for human-level Artificial General Intelligence.\"]\n",
    "\n",
    "\n",
    "##### Synonyms/Paraphrases (Different spelling, same meaning)\n",
    "synonyms = [\"The need for software developers has gone up by 50% in 5 years\", \"The demand for programmers has doubled during the last five years\", \"Personal computers entered the market in 1977\", \"PCs came into shops in the late seventies\", \"Symptoms of influenza include fever and nasal congestion.\", \"A stuffy nose and elevated temperature are signs you may have the flu.\", \"He has tons of stuff to throw away.\", \"He needs to get rid of a lot of junk.\", \"Her life spanned years of incredible change for women as they gained more rights than ever before.\", \"She lived through the exciting era of women's liberation.\"]\n",
    "\n",
    "\n",
    "##### Homonyms (same spelling/words, but different meaning)\n",
    "homonyms = [\"She lies on the couch\", \"She lies to the coach\", \"Train muscles twice a week\", \"Train departs twice a week\", \"I want to book a room\", \"I want to read a book a room\", \"These plants are huge\", \"Tesla plants are huge\", \"I saw a man\", \"A man has a saw\"]\n",
    "\n",
    "\n",
    "##### Semantic search\n",
    "\n",
    "# Search sentences:\n",
    "sports_search = [\"Tarasenko has been one of the NHL's leading scorers during his nine-year career, with 214 goals in 507 games.\"]\n",
    "politics_search = [\"A political system is a framework which defines acceptable political methods within a society.\"]\n",
    "food_search = [\"This meal has summer dinner written all over it.\"]\n",
    "science_search = [\"Science is based on research, which is commonly conducted in academic and research institutions as well as in government agencies and companies\"]\n",
    "finance_search = [\"Stocks mixed after Powell's inflation plan\"]\n",
    "\n",
    "# Sentences to search from:\n",
    "search_sentences = [\"The Vikings defense is already one of the best in the NFL and won’t ask much of Gladney.\", \"And just like we saw in both games against FC Dallas, Nashville was sharp in the defensive third and in midfield.\", \"This is election is a choice between President Trump’s strong stance with law and order and Joe Biden’s acquiescence to the anti-police left and siding with rioters.\", \"Democrats are willing to resume negotiations once Republicans start to take this process seriously.\", \"Made with fresh peaches, sugar, and a topping that bakes like slightly underbaked cookie dough, with crunchy sugar broiled on top.\", \"Is there anything better than a fresh batch of soft chocolate chip cookies?\", \"Scientists from 17 UK research centres are attempting to answer questions such as how long immunity lasts and why disease severity varies so much.\", \"Decoding goals and movement plans is hard when you don't understand the neural code in which those things are communicated.\", \"Dow futures up 200 points in overnight trading after the index briefly erases 2020 losses\", \"Wednesday’s gains put the S&P 500 up more than 58% since hitting an intraday low on March 23.\"]\n",
    "\n",
    "categories = [\"SPORTS\", \"SPORTS\", \"POLITICS\",\"POLITICS\",\"FOOD\",\"FOOD\",\"SCIENCE\",\"SCIENCE\",\"FINANCE\",\"FINANCE\"]"
   ]
  },
  {
   "cell_type": "code",
   "execution_count": 26,
   "metadata": {
    "tags": []
   },
   "outputs": [],
   "source": [
    "same_vectors = vectorize(same)\n",
    "different_vectors = vectorize(different)\n",
    "synonym_vectors = vectorize(synonyms)\n",
    "homonym_vectors = vectorize(homonyms)\n",
    "sports_vector = vectorize(sports_search)\n",
    "politics_vector = vectorize(politics_search)\n",
    "food_vector = vectorize(food_search)\n",
    "science_vector = vectorize(science_search)\n",
    "finance_vector = vectorize(finance_search)\n",
    "ss_vectors = vectorize(search_sentences)"
   ]
  },
  {
   "cell_type": "code",
   "execution_count": 27,
   "metadata": {
    "tags": []
   },
   "outputs": [
    {
     "output_type": "stream",
     "name": "stdout",
     "text": "0.222197487950325\n"
    }
   ],
   "source": [
    "sim = cosine_similarity(same_vectors[0], different_vectors[0])\n",
    "print(sim)"
   ]
  },
  {
   "cell_type": "code",
   "execution_count": 30,
   "metadata": {},
   "outputs": [],
   "source": [
    "# Semantic search\n",
    "scores = []\n",
    "search_term = sports_vector\n",
    "\n",
    "for sentence in ss_vectors:\n",
    "    score = round(cosine_similarity(sentence, search_term),2)\n",
    "    scores.append(score)"
   ]
  },
  {
   "cell_type": "code",
   "execution_count": 39,
   "metadata": {
    "tags": []
   },
   "outputs": [
    {
     "output_type": "stream",
     "name": "stdout",
     "text": "0.35 FINANCE Wednesday’s gains put the S&P 500 up more than 58% since hitting an intraday low on March 23.\n\n0.32 FINANCE Dow futures up 200 points in overnight trading after the index briefly erases 2020 losses\n\n0.24 SPORTS The Vikings defense is already one of the best in the NFL and won’t ask much of Gladney.\n\n0.14 SCIENCE Scientists from 17 UK research centres are attempting to answer questions such as how long immunity lasts and why disease severity varies so much.\n\n0.14 POLITICS Democrats are willing to resume negotiations once Republicans start to take this process seriously.\n\n0.13 SCIENCE Decoding goals and movement plans is hard when you don't understand the neural code in which those things are communicated.\n\n0.1 FOOD Is there anything better than a fresh batch of soft chocolate chip cookies?\n\n0.07 SPORTS And just like we saw in both games against FC Dallas, Nashville was sharp in the defensive third and in midfield.\n\n0.04 FOOD Made with fresh peaches, sugar, and a topping that bakes like slightly underbaked cookie dough, with crunchy sugar broiled on top.\n\n-0.05 POLITICS This is election is a choice between President Trump’s strong stance with law and order and Joe Biden’s acquiescence to the anti-police left and siding with rioters.\n\n"
    }
   ],
   "source": [
    "results = []\n",
    "\n",
    "for (score,sentence,category) in zip(scores, search_sentences,categories):\n",
    "    results.append([score, sentence, category])\n",
    "\n",
    "results.sort(reverse=True)\n",
    "\n",
    "for row in results:\n",
    "    print(row[0], row[2], row[1])\n",
    "    print()"
   ]
  },
  {
   "cell_type": "code",
   "execution_count": null,
   "metadata": {},
   "outputs": [],
   "source": []
  }
 ]
}