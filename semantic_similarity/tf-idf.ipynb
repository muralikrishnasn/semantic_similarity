{
 "metadata": {
  "language_info": {
   "codemirror_mode": {
    "name": "ipython",
    "version": 3
   },
   "file_extension": ".py",
   "mimetype": "text/x-python",
   "name": "python",
   "nbconvert_exporter": "python",
   "pygments_lexer": "ipython3",
   "version": 3
  },
  "orig_nbformat": 2,
  "kernelspec": {
   "name": "python_defaultSpec_1596787068665",
   "display_name": "Python 3.7.7 64-bit ('base': conda)"
  }
 },
 "nbformat": 4,
 "nbformat_minor": 2,
 "cells": [
  {
   "cell_type": "markdown",
   "metadata": {},
   "source": [
    "# Testing TF-IDF for semantic similarity\n",
    "\n",
    "We are using the scikit-learn [TfidfVectorizer](https://scikit-learn.org/stable/modules/generated/sklearn.feature_extraction.text.TfidfVectorizer.html)."
   ]
  },
  {
   "cell_type": "code",
   "execution_count": 6,
   "metadata": {},
   "outputs": [],
   "source": [
    "import pandas as pd\n",
    "import numpy as np\n",
    "import nltk\n",
    "\n",
    "from sklearn.feature_extraction.text import TfidfVectorizer\n",
    "from scipy.spatial import distance"
   ]
  },
  {
   "cell_type": "markdown",
   "metadata": {},
   "source": [
    "## 1. Load the sts-benchmark data and remove lines that contain erros."
   ]
  },
  {
   "cell_type": "code",
   "execution_count": 5,
   "metadata": {},
   "outputs": [],
   "source": [
    "train_df = pd.pandas.read_table(\n",
    "    'stsbenchmark/sts-train.csv',\n",
    "    error_bad_lines=False,\n",
    "    skip_blank_lines=True,\n",
    "    usecols=[4, 5, 6],\n",
    "    names=[\"score\", \"s1\", \"s2\"])\n"
   ]
  },
  {
   "cell_type": "markdown",
   "metadata": {},
   "source": [
    "## 2. A quick look at the dataset we are using"
   ]
  },
  {
   "cell_type": "code",
   "execution_count": 6,
   "metadata": {
    "tags": []
   },
   "outputs": [
    {
     "output_type": "execute_result",
     "data": {
      "text/plain": "   score                                             s1  \\\n0   5.00                         A plane is taking off.   \n1   3.80                A man is playing a large flute.   \n2   3.80  A man is spreading shreded cheese on a pizza.   \n3   2.60                   Three men are playing chess.   \n4   4.25                    A man is playing the cello.   \n\n                                                  s2  \n0                        An air plane is taking off.  \n1                          A man is playing a flute.  \n2  A man is spreading shredded cheese on an uncoo...  \n3                         Two men are playing chess.  \n4                 A man seated is playing the cello.  ",
      "text/html": "<div>\n<style scoped>\n    .dataframe tbody tr th:only-of-type {\n        vertical-align: middle;\n    }\n\n    .dataframe tbody tr th {\n        vertical-align: top;\n    }\n\n    .dataframe thead th {\n        text-align: right;\n    }\n</style>\n<table border=\"1\" class=\"dataframe\">\n  <thead>\n    <tr style=\"text-align: right;\">\n      <th></th>\n      <th>score</th>\n      <th>s1</th>\n      <th>s2</th>\n    </tr>\n  </thead>\n  <tbody>\n    <tr>\n      <th>0</th>\n      <td>5.00</td>\n      <td>A plane is taking off.</td>\n      <td>An air plane is taking off.</td>\n    </tr>\n    <tr>\n      <th>1</th>\n      <td>3.80</td>\n      <td>A man is playing a large flute.</td>\n      <td>A man is playing a flute.</td>\n    </tr>\n    <tr>\n      <th>2</th>\n      <td>3.80</td>\n      <td>A man is spreading shreded cheese on a pizza.</td>\n      <td>A man is spreading shredded cheese on an uncoo...</td>\n    </tr>\n    <tr>\n      <th>3</th>\n      <td>2.60</td>\n      <td>Three men are playing chess.</td>\n      <td>Two men are playing chess.</td>\n    </tr>\n    <tr>\n      <th>4</th>\n      <td>4.25</td>\n      <td>A man is playing the cello.</td>\n      <td>A man seated is playing the cello.</td>\n    </tr>\n  </tbody>\n</table>\n</div>"
     },
     "metadata": {},
     "execution_count": 6
    }
   ],
   "source": [
    "train_df.head()"
   ]
  },
  {
   "cell_type": "code",
   "execution_count": 7,
   "metadata": {},
   "outputs": [
    {
     "output_type": "execute_result",
     "data": {
      "text/plain": "      score                                                 s1  \\\n5706    0.0         Severe Gales As Storm Clodagh Hits Britain   \n5707    0.0  Dozens of Egyptians hostages taken by Libyan t...   \n5708    0.0                       President heading to Bahrain   \n5709    0.0         China, India vow to further bilateral ties   \n5710    0.0   Putin spokesman: Doping charges appear unfounded   \n\n                                                     s2  \n5706         Merkel pledges NATO solidarity with Latvia  \n5707  Egyptian boat crash death toll rises as more b...  \n5708  President Xi: China to continue help to fight ...  \n5709  China Scrambles to Reassure Jittery Stock Traders  \n5710  The Latest on Severe Weather: 1 Dead in Texas ...  ",
      "text/html": "<div>\n<style scoped>\n    .dataframe tbody tr th:only-of-type {\n        vertical-align: middle;\n    }\n\n    .dataframe tbody tr th {\n        vertical-align: top;\n    }\n\n    .dataframe thead th {\n        text-align: right;\n    }\n</style>\n<table border=\"1\" class=\"dataframe\">\n  <thead>\n    <tr style=\"text-align: right;\">\n      <th></th>\n      <th>score</th>\n      <th>s1</th>\n      <th>s2</th>\n    </tr>\n  </thead>\n  <tbody>\n    <tr>\n      <th>5706</th>\n      <td>0.0</td>\n      <td>Severe Gales As Storm Clodagh Hits Britain</td>\n      <td>Merkel pledges NATO solidarity with Latvia</td>\n    </tr>\n    <tr>\n      <th>5707</th>\n      <td>0.0</td>\n      <td>Dozens of Egyptians hostages taken by Libyan t...</td>\n      <td>Egyptian boat crash death toll rises as more b...</td>\n    </tr>\n    <tr>\n      <th>5708</th>\n      <td>0.0</td>\n      <td>President heading to Bahrain</td>\n      <td>President Xi: China to continue help to fight ...</td>\n    </tr>\n    <tr>\n      <th>5709</th>\n      <td>0.0</td>\n      <td>China, India vow to further bilateral ties</td>\n      <td>China Scrambles to Reassure Jittery Stock Traders</td>\n    </tr>\n    <tr>\n      <th>5710</th>\n      <td>0.0</td>\n      <td>Putin spokesman: Doping charges appear unfounded</td>\n      <td>The Latest on Severe Weather: 1 Dead in Texas ...</td>\n    </tr>\n  </tbody>\n</table>\n</div>"
     },
     "metadata": {},
     "execution_count": 7
    }
   ],
   "source": [
    "train_df.tail()"
   ]
  },
  {
   "cell_type": "markdown",
   "metadata": {},
   "source": [
    "## 3. Comparing two sentence paires with TF-IDF as an example"
   ]
  },
  {
   "cell_type": "code",
   "execution_count": 8,
   "metadata": {
    "tags": []
   },
   "outputs": [
    {
     "output_type": "stream",
     "name": "stdout",
     "text": "s1 = A plane is taking off.\ns2 = An air plane is taking off.\n\n\ns3 = A man is playing the piano.\ns4 = A woman is playing the violin.\n"
    }
   ],
   "source": [
    "s1 = train_df.loc[0][1]\n",
    "s2 = train_df.loc[0][2]\n",
    "s3 = train_df.loc[45][1]\n",
    "s4 = train_df.loc[45][2]\n",
    "\n",
    "print(f's1 = {s1}')\n",
    "print(f's2 = {s2}')\n",
    "print('\\n')\n",
    "print(f's3 = {s3}')\n",
    "print(f's4 = {s4}')"
   ]
  },
  {
   "cell_type": "code",
   "execution_count": 10,
   "metadata": {
    "tags": []
   },
   "outputs": [
    {
     "output_type": "stream",
     "name": "stdout",
     "text": "s1 vs s2 = 0.2812725311459734\nHuman score = 5.0\nTF-IDF score = 3.6\ns3 vs s4 = 0.5689084892431033\nHuman score = 1.0\nTF-IDF score = 2.2\ns1 vs s3 = 0.9006492066302417\ns1 vs s4 = 0.9006492066302417\n"
    }
   ],
   "source": [
    "vectorizer = TfidfVectorizer()\n",
    "\n",
    "sentence_vectors = vectorizer.fit_transform([s1, s2, s3, s4])\n",
    "\n",
    "s1_vec = sentence_vectors.toarray()[0].tolist()\n",
    "s2_vec = sentence_vectors.toarray()[1].tolist()\n",
    "s3_vec = sentence_vectors.toarray()[2].tolist()\n",
    "s4_vec = sentence_vectors.toarray()[3].tolist()\n",
    "\n",
    "print(f's1 vs s2 = {distance.cosine(s1_vec,s2_vec)}')\n",
    "print(f'Human score = {train_df.loc[0][0]}')\n",
    "print(f'TF-IDF score = {round((1-distance.cosine(s1_vec,s2_vec))*5,1)}')\n",
    "\n",
    "print(f's3 vs s4 = {distance.cosine(s3_vec,s4_vec)}')\n",
    "print(f'Human score = {train_df.loc[45][0]}')\n",
    "print(f'TF-IDF score = {round((1-distance.cosine(s3_vec,s4_vec))*5,1)}')\n",
    "\n",
    "print(f's1 vs s3 = {distance.cosine(s1_vec,s3_vec)}')\n",
    "print(f's1 vs s4 = {distance.cosine(s1_vec,s4_vec)}')\n"
   ]
  },
  {
   "cell_type": "markdown",
   "metadata": {},
   "source": [
    "## 4. Getting the human score and the TF-IDF scores and comparing them"
   ]
  },
  {
   "cell_type": "markdown",
   "metadata": {},
   "source": [
    "### 4.1 Load the data and preprocess it"
   ]
  },
  {
   "cell_type": "code",
   "execution_count": 11,
   "metadata": {},
   "outputs": [],
   "source": [
    "dev_df = pd.pandas.read_table(\n",
    "    'stsbenchmark/sts-dev.csv',\n",
    "    error_bad_lines=False,\n",
    "    skip_blank_lines=True,\n",
    "    usecols=[4, 5, 6],\n",
    "    names=[\"score\", \"s1\", \"s2\"])\n",
    "\n",
    "# removes punctuation from sentences\n",
    "tokenizer = nltk.RegexpTokenizer(r\"\\w+\")\n",
    "\n",
    "# For some reason some of the sentences were \"float\" datatypes \n",
    "dev_df['s1'] = dev_df['s1'].astype(str)\n",
    "dev_df['s2'] = dev_df['s2'].astype(str)\n",
    "\n",
    "\n",
    "dev_df['s1'] = dev_df.apply(lambda row: tokenizer.tokenize(row['s1']), axis=1)\n",
    "dev_df['s1'] = dev_df.apply(lambda row: ' '.join(row['s1']).lower() , axis=1)\n",
    "\n",
    "dev_df['s2'] = dev_df.apply(lambda row: tokenizer.tokenize(row['s2']), axis=1)\n",
    "dev_df['s2'] = dev_df.apply(lambda row: ' '.join(row['s2']).lower() , axis=1)"
   ]
  },
  {
   "cell_type": "code",
   "execution_count": 12,
   "metadata": {},
   "outputs": [
    {
     "output_type": "execute_result",
     "data": {
      "text/plain": "   score                                   s1  \\\n0   5.00     a man with a hard hat is dancing   \n1   4.75      a young child is riding a horse   \n2   5.00  a man is feeding a mouse to a snake   \n3   2.40        a woman is playing the guitar   \n4   2.75         a woman is playing the flute   \n\n                                        s2  \n0      a man wearing a hard hat is dancing  \n1                a child is riding a horse  \n2  the man is feeding a mouse to the snake  \n3                  a man is playing guitar  \n4                 a man is playing a flute  ",
      "text/html": "<div>\n<style scoped>\n    .dataframe tbody tr th:only-of-type {\n        vertical-align: middle;\n    }\n\n    .dataframe tbody tr th {\n        vertical-align: top;\n    }\n\n    .dataframe thead th {\n        text-align: right;\n    }\n</style>\n<table border=\"1\" class=\"dataframe\">\n  <thead>\n    <tr style=\"text-align: right;\">\n      <th></th>\n      <th>score</th>\n      <th>s1</th>\n      <th>s2</th>\n    </tr>\n  </thead>\n  <tbody>\n    <tr>\n      <th>0</th>\n      <td>5.00</td>\n      <td>a man with a hard hat is dancing</td>\n      <td>a man wearing a hard hat is dancing</td>\n    </tr>\n    <tr>\n      <th>1</th>\n      <td>4.75</td>\n      <td>a young child is riding a horse</td>\n      <td>a child is riding a horse</td>\n    </tr>\n    <tr>\n      <th>2</th>\n      <td>5.00</td>\n      <td>a man is feeding a mouse to a snake</td>\n      <td>the man is feeding a mouse to the snake</td>\n    </tr>\n    <tr>\n      <th>3</th>\n      <td>2.40</td>\n      <td>a woman is playing the guitar</td>\n      <td>a man is playing guitar</td>\n    </tr>\n    <tr>\n      <th>4</th>\n      <td>2.75</td>\n      <td>a woman is playing the flute</td>\n      <td>a man is playing a flute</td>\n    </tr>\n  </tbody>\n</table>\n</div>"
     },
     "metadata": {},
     "execution_count": 12
    }
   ],
   "source": [
    "dev_df.head()"
   ]
  },
  {
   "cell_type": "markdown",
   "metadata": {},
   "source": [
    "### 4.2 Get the scores and normalize them"
   ]
  },
  {
   "cell_type": "code",
   "execution_count": 13,
   "metadata": {},
   "outputs": [],
   "source": [
    "dev_scores = dev_df['score'].tolist()\n",
    "\n",
    "score_human = []\n",
    "\n",
    "for row in dev_scores:\n",
    "    score = row/5\n",
    "    score_human.append(score)"
   ]
  },
  {
   "cell_type": "code",
   "execution_count": 14,
   "metadata": {},
   "outputs": [],
   "source": [
    "score_machine = []\n",
    "\n",
    "vectorizer = TfidfVectorizer()\n",
    "\n",
    "for row in dev_df.itertuples(index=False):\n",
    "    sentence_vectors = vectorizer.fit_transform([str(row[1]), str(row[2])])\n",
    "    s1_vec = sentence_vectors.toarray()[0].tolist()\n",
    "    s2_vec = sentence_vectors.toarray()[1].tolist()\n",
    "    score = (1-distance.cosine(s1_vec,s2_vec))\n",
    "    score_machine.append(score)"
   ]
  },
  {
   "cell_type": "markdown",
   "metadata": {},
   "source": [
    "### 4.3 Compare human and TF-IDF scores"
   ]
  },
  {
   "cell_type": "code",
   "execution_count": 15,
   "metadata": {
    "tags": []
   },
   "outputs": [
    {
     "output_type": "stream",
     "name": "stdout",
     "text": "Pearsonr: 64.6\n"
    }
   ],
   "source": [
    "from scipy.stats import pearsonr\n",
    "\n",
    "result, _ = pearsonr(score_machine, score_human)\n",
    "print('Pearsonr:', end=' ')\n",
    "print(\"%.1f\" % (result*100))"
   ]
  },
  {
   "cell_type": "markdown",
   "metadata": {},
   "source": [
    "## 5. Compare similarity between longer texts"
   ]
  },
  {
   "cell_type": "code",
   "execution_count": 1,
   "metadata": {},
   "outputs": [],
   "source": [
    "text1 = \"The public beta of macOS Big Sur, the next major release of Apple’s Mac operating system, is now available. The new update brings a big visual overhaul to macOS while also adding a number of brand-new enhancements. If you’re thinking about installing the macOS Big Sur public beta, be warned that it’s still, well, a beta. That means you could experience some unexpected bugs, and software you rely on may not work with the new OS just yet. Before you install Big Sur, make sure all of your important documents are backed up somewhere safe, and if at all possible, you should only install this on a secondary Mac. But if you do roll the dice and install the Big Sur beta, you’ll immediately see that it looks much different than previous versions of macOS, as Apple has made significant design changes across the entire operating system. Windows have a whole lot more white, for example (unless you’re using dark mode, in which case, there’s still a lot of black). Apple’s app icons have received a major facelift and are now rounded squares, like iOS’s app icons. And the menu bar is now translucent, blending into your wallpaper. In Big Sur, Apple has added a dedicated Control Center, like what iOS has had for years, making it easy to manage items like your Wi-Fi and Bluetooth connections and the display brightness and volume of your Mac, all in one place. And Notification Center is no longer two separate panels for notifications and widgets; it’s now combined into one. If you’re a Safari user, you’ll notice some big changes, too. You can now set a customized start page, letting you add things like your favorites, frequently visited websites, and even a background image of your choice. Tabs get some improvements as well: favicons are turned on by default, and when you hover your mouse over a tab, it shows a preview of that webpage. And like iOS 14, Safari in macOS Big Sur offers what Apple calls a Privacy Report, which shows you what trackers the browser has blocked for you. Messages is also getting some much-needed improvements in Big Sur. You can finally send the message effects like the ones on iOS, meaning you can send virtual confetti, balloons, lasers, and more to your contacts (though only if they’re also on iMessage). Some of the new updates to Messages on iOS 14 are coming to Big Sur, too, such as pinned conversations and inline replies. There’s a bunch more packed into Big Sur that I didn’t touch on here, such as improvements to Maps, a suite of new system sounds, and the return of the Mac’s iconic startup chime. So if you do install the Big Sur public beta, there’s a fair amount to dig into. I’ve been running the Big Sur developer betas on my personal MacBook Air purchased in 2014 without too many issues, and I like a lot of the changes, especially to Messages. But I pretty much only use Apple-made apps on that computer, so I can’t really speak to how other apps you might rely on will run. If you decide to install the public beta, just know that things may not work like you expect them to just yet.\" \n",
    "# https://www.theverge.com/2020/8/6/21356413/apple-macos-big-sur-public-beta-now-available\n",
    "\n",
    "text2 = \"Apple today seeded the first beta of the upcoming macOS 11 Big Sur update to its public beta testing group, allowing non-developers to give the software a try ahead of its public release this fall. Beta testers who signed up for Apple's beta testing program can download the macOS Big Sur beta through the Software Update mechanism in System Preferences after installing the proper profile. Mac users who want to be a part of Apple's beta testing program can sign up to participate on the beta website, which gives users access to iOS, macOS, watchOS, and tvOS betas. Potential beta testers should make a full backup before installing ‌macOS Big Sur‌, and it may not be wise to install the update on a primary machine because betas can be unstable. macOS Big Sur introduces a refined design for the macOS operating system, which is more similar to iOS but immediately familiar to Mac users with tweaks to window design, color palette, app icons, system sounds, menu bars, and sidebars. The update brings Control Center to the Mac for the first time, providing quicker access to system controls for things like volume, keyboard brightness, screen brightness, Wi-Fi connection, and more. An updated Notification Center includes more interactive notifications and redesigned widgets that mirror the new ‌widgets‌ in iOS 14. Notifications are now grouped by app, and you can customize which ‌widgets‌ show up. Safari has a new customizable start page, built-in translation, and a Privacy Report feature that lets you know which trackers each website is using to follow you across the web. There's a new Mac App Store category for extensions, and you can now control the specific sites that extensions are able to work with for more privacy. The Messages app for Mac has been overhauled to bring it more in line with the Messages app for iOS and it supports features like pinned conversations, mentions, inline replies, Messages effects, and Memoji creation and Memoji stickers. Search is also better to make it easier to find old conversations, photos, links, and more. A redesigned Maps app in macOS Big Sur adds support for Look Around, indoor maps, Guides, and Shared ETA updates, plus it can be used to generate cycling routes and routes with charging stops for electric vehicles, which can be sent to iPhone. There are also smaller updates for apps like Photos, Music, and Home, with a full list of everything new in macOS Big Sur available in our roundup.\" \n",
    "# https://www.macrumors.com/2020/08/06/macos-big-sur-public-beta/"
   ]
  },
  {
   "cell_type": "code",
   "execution_count": 8,
   "metadata": {
    "tags": []
   },
   "outputs": [
    {
     "output_type": "stream",
     "name": "stdout",
     "text": "text1 vs text2 = 0.37367621435277365\nTF-IDF score = 3.1\n"
    }
   ],
   "source": [
    "vectorizer = TfidfVectorizer()\n",
    "\n",
    "sentence_vectors = vectorizer.fit_transform([text1, text2])\n",
    "\n",
    "text1_vec = sentence_vectors.toarray()[0].tolist()\n",
    "text2_vec = sentence_vectors.toarray()[1].tolist()\n",
    "\n",
    "\n",
    "print(f'text1 vs text2 = {distance.cosine(text1_vec, text2_vec)}')\n",
    "print(f'TF-IDF score = {round((1-distance.cosine(text1_vec, text2_vec))*5,1)}')"
   ]
  },
  {
   "cell_type": "code",
   "execution_count": null,
   "metadata": {},
   "outputs": [],
   "source": []
  }
 ]
}